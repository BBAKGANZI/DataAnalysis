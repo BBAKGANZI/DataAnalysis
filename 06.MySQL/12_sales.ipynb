{
  "nbformat": 4,
  "nbformat_minor": 0,
  "metadata": {
    "colab": {
      "name": "12_sales.ipynb",
      "provenance": [],
      "collapsed_sections": []
    },
    "kernelspec": {
      "name": "python3",
      "display_name": "Python 3"
    },
    "language_info": {
      "name": "python"
    }
  },
  "cells": [
    {
      "cell_type": "markdown",
      "metadata": {
        "id": "AgQdRXdgBrcv"
      },
      "source": [
        "## 판매 분석"
      ]
    },
    {
      "cell_type": "code",
      "metadata": {
        "id": "sqfmmotj2TwX"
      },
      "source": [
        "!pip install pymysql > /dev/null\n",
        "!apt-get install -y fonts-nanum > /dev/null\n",
        "!fc-cache -fv > /dev/null\n",
        "!rm -rf ~/.cache/matplotlib > /dev/null\n",
        "# 런타임 다시시작"
      ],
      "execution_count": 1,
      "outputs": []
    },
    {
      "cell_type": "code",
      "metadata": {
        "colab": {
          "resources": {
            "http://localhost:8080/nbextensions/google.colab/files.js": {
              "data": "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",
              "ok": true,
              "headers": [
                [
                  "content-type",
                  "application/javascript"
                ]
              ],
              "status": 200,
              "status_text": ""
            }
          },
          "base_uri": "https://localhost:8080/",
          "height": 76
        },
        "id": "sBsd0zRlB4wh",
        "outputId": "1a094492-d65b-4b33-e031-f1bbb90df720"
      },
      "source": [
        "from google.colab import files\n",
        "uploaded = files.upload()\n",
        "filename = list(uploaded.keys())[0]"
      ],
      "execution_count": 1,
      "outputs": [
        {
          "output_type": "display_data",
          "data": {
            "text/html": [
              "\n",
              "     <input type=\"file\" id=\"files-8f1eec33-6c3c-4f55-beff-8c6cffcff3b6\" name=\"files[]\" multiple disabled\n",
              "        style=\"border:none\" />\n",
              "     <output id=\"result-8f1eec33-6c3c-4f55-beff-8c6cffcff3b6\">\n",
              "      Upload widget is only available when the cell has been executed in the\n",
              "      current browser session. Please rerun this cell to enable.\n",
              "      </output>\n",
              "      <script src=\"/nbextensions/google.colab/files.js\"></script> "
            ],
            "text/plain": [
              "<IPython.core.display.HTML object>"
            ]
          },
          "metadata": {}
        },
        {
          "output_type": "stream",
          "text": [
            "Saving mysql.json to mysql.json\n"
          ],
          "name": "stdout"
        }
      ]
    },
    {
      "cell_type": "code",
      "metadata": {
        "id": "aRuiGH7gCdtx"
      },
      "source": [
        "import json\n",
        "with open(filename) as fp:\n",
        "    config_str = fp.read()\n",
        "config = json.loads(config_str)"
      ],
      "execution_count": 2,
      "outputs": []
    },
    {
      "cell_type": "code",
      "metadata": {
        "id": "ZdGY420pC-jX"
      },
      "source": [
        "import numpy as np\n",
        "import pandas as pd\n",
        "import matplotlib as mpl\n",
        "import matplotlib.pyplot as plt\n",
        "mpl.rcParams['axes.unicode_minus'] = False\n",
        "plt.rc('font', family='NanumBarunGothic')"
      ],
      "execution_count": 3,
      "outputs": []
    },
    {
      "cell_type": "code",
      "metadata": {
        "id": "G-dg-2rKDAM7"
      },
      "source": [
        "import db_module as dm"
      ],
      "execution_count": 4,
      "outputs": []
    },
    {
      "cell_type": "code",
      "metadata": {
        "colab": {
          "base_uri": "https://localhost:8080/"
        },
        "id": "A4CDi-KYDBni",
        "outputId": "5c60fd33-8736-46b8-ce99-efb55ec54c07"
      },
      "source": [
        "# !ls -la"
      ],
      "execution_count": 19,
      "outputs": [
        {
          "output_type": "stream",
          "text": [
            "total 44\n",
            "drwxr-xr-x 1 root root 4096 Aug 26 08:38 .\n",
            "drwxr-xr-x 1 root root 4096 Aug 26 08:30 ..\n",
            "drwxr-xr-x 4 root root 4096 Aug 13 13:34 .config\n",
            "-rw-r--r-- 1 root root 2212 Aug 26 08:38 db_module.py\n",
            "drwxr-xr-x 2 root root 4096 Aug 26 08:38 .ipynb_checkpoints\n",
            "-rw-r--r-- 1 root root  120 Aug 26 08:31 mysql.json\n",
            "drwxr-xr-x 2 root root 4096 Aug 26 08:32 __pycache__\n",
            "-rw-r--r-- 1 root root 9643 Aug 26 08:37 sales_book.csv\n",
            "drwxr-xr-x 1 root root 4096 Aug 13 13:35 sample_data\n"
          ],
          "name": "stdout"
        }
      ]
    },
    {
      "cell_type": "markdown",
      "metadata": {
        "id": "jz4TEKgqDICd"
      },
      "source": [
        "## 1.월별 매출/이익"
      ]
    },
    {
      "cell_type": "code",
      "metadata": {
        "colab": {
          "base_uri": "https://localhost:8080/",
          "height": 452
        },
        "id": "fExMF1fHDGll",
        "outputId": "d927effc-b83d-4ef7-928f-f198fd01265e"
      },
      "source": [
        "results = dm.get_monthly_data(config)\n",
        "#results = get_monthly(config)\n",
        "df = pd.DataFrame(results, columns=['월','매출','이익'])\n",
        "df.set_index('월', inplace=True)\n",
        "df['매출'] = df.매출.astype(int)\n",
        "df['이익'] = df.이익.astype(int)\n",
        "df"
      ],
      "execution_count": 5,
      "outputs": [
        {
          "output_type": "execute_result",
          "data": {
            "text/html": [
              "<div>\n",
              "<style scoped>\n",
              "    .dataframe tbody tr th:only-of-type {\n",
              "        vertical-align: middle;\n",
              "    }\n",
              "\n",
              "    .dataframe tbody tr th {\n",
              "        vertical-align: top;\n",
              "    }\n",
              "\n",
              "    .dataframe thead th {\n",
              "        text-align: right;\n",
              "    }\n",
              "</style>\n",
              "<table border=\"1\" class=\"dataframe\">\n",
              "  <thead>\n",
              "    <tr style=\"text-align: right;\">\n",
              "      <th></th>\n",
              "      <th>매출</th>\n",
              "      <th>이익</th>\n",
              "    </tr>\n",
              "    <tr>\n",
              "      <th>월</th>\n",
              "      <th></th>\n",
              "      <th></th>\n",
              "    </tr>\n",
              "  </thead>\n",
              "  <tbody>\n",
              "    <tr>\n",
              "      <th>01</th>\n",
              "      <td>6296800</td>\n",
              "      <td>345910</td>\n",
              "    </tr>\n",
              "    <tr>\n",
              "      <th>02</th>\n",
              "      <td>5879400</td>\n",
              "      <td>621820</td>\n",
              "    </tr>\n",
              "    <tr>\n",
              "      <th>03</th>\n",
              "      <td>6017700</td>\n",
              "      <td>474600</td>\n",
              "    </tr>\n",
              "    <tr>\n",
              "      <th>04</th>\n",
              "      <td>7464600</td>\n",
              "      <td>662650</td>\n",
              "    </tr>\n",
              "    <tr>\n",
              "      <th>05</th>\n",
              "      <td>4621400</td>\n",
              "      <td>460590</td>\n",
              "    </tr>\n",
              "    <tr>\n",
              "      <th>06</th>\n",
              "      <td>3984200</td>\n",
              "      <td>223980</td>\n",
              "    </tr>\n",
              "    <tr>\n",
              "      <th>07</th>\n",
              "      <td>7164000</td>\n",
              "      <td>670760</td>\n",
              "    </tr>\n",
              "    <tr>\n",
              "      <th>08</th>\n",
              "      <td>3122600</td>\n",
              "      <td>330590</td>\n",
              "    </tr>\n",
              "    <tr>\n",
              "      <th>09</th>\n",
              "      <td>3686600</td>\n",
              "      <td>199700</td>\n",
              "    </tr>\n",
              "    <tr>\n",
              "      <th>10</th>\n",
              "      <td>6711500</td>\n",
              "      <td>718290</td>\n",
              "    </tr>\n",
              "    <tr>\n",
              "      <th>11</th>\n",
              "      <td>7499400</td>\n",
              "      <td>420480</td>\n",
              "    </tr>\n",
              "    <tr>\n",
              "      <th>12</th>\n",
              "      <td>5236600</td>\n",
              "      <td>391730</td>\n",
              "    </tr>\n",
              "  </tbody>\n",
              "</table>\n",
              "</div>"
            ],
            "text/plain": [
              "         매출      이익\n",
              "월                  \n",
              "01  6296800  345910\n",
              "02  5879400  621820\n",
              "03  6017700  474600\n",
              "04  7464600  662650\n",
              "05  4621400  460590\n",
              "06  3984200  223980\n",
              "07  7164000  670760\n",
              "08  3122600  330590\n",
              "09  3686600  199700\n",
              "10  6711500  718290\n",
              "11  7499400  420480\n",
              "12  5236600  391730"
            ]
          },
          "metadata": {},
          "execution_count": 5
        }
      ]
    },
    {
      "cell_type": "code",
      "metadata": {
        "colab": {
          "base_uri": "https://localhost:8080/",
          "height": 165
        },
        "id": "3qi6EKtPDMQx",
        "outputId": "36d7b707-c20b-4f80-b132-bc960b3addb0"
      },
      "source": [
        "tdf = df.T\n",
        "tdf['계'] = [df.매출.sum(), df.이익.sum()]\n",
        "tdf"
      ],
      "execution_count": 6,
      "outputs": [
        {
          "output_type": "execute_result",
          "data": {
            "text/html": [
              "<div>\n",
              "<style scoped>\n",
              "    .dataframe tbody tr th:only-of-type {\n",
              "        vertical-align: middle;\n",
              "    }\n",
              "\n",
              "    .dataframe tbody tr th {\n",
              "        vertical-align: top;\n",
              "    }\n",
              "\n",
              "    .dataframe thead th {\n",
              "        text-align: right;\n",
              "    }\n",
              "</style>\n",
              "<table border=\"1\" class=\"dataframe\">\n",
              "  <thead>\n",
              "    <tr style=\"text-align: right;\">\n",
              "      <th>월</th>\n",
              "      <th>01</th>\n",
              "      <th>02</th>\n",
              "      <th>03</th>\n",
              "      <th>04</th>\n",
              "      <th>05</th>\n",
              "      <th>06</th>\n",
              "      <th>07</th>\n",
              "      <th>08</th>\n",
              "      <th>09</th>\n",
              "      <th>10</th>\n",
              "      <th>11</th>\n",
              "      <th>12</th>\n",
              "      <th>계</th>\n",
              "    </tr>\n",
              "  </thead>\n",
              "  <tbody>\n",
              "    <tr>\n",
              "      <th>매출</th>\n",
              "      <td>6296800</td>\n",
              "      <td>5879400</td>\n",
              "      <td>6017700</td>\n",
              "      <td>7464600</td>\n",
              "      <td>4621400</td>\n",
              "      <td>3984200</td>\n",
              "      <td>7164000</td>\n",
              "      <td>3122600</td>\n",
              "      <td>3686600</td>\n",
              "      <td>6711500</td>\n",
              "      <td>7499400</td>\n",
              "      <td>5236600</td>\n",
              "      <td>67684800</td>\n",
              "    </tr>\n",
              "    <tr>\n",
              "      <th>이익</th>\n",
              "      <td>345910</td>\n",
              "      <td>621820</td>\n",
              "      <td>474600</td>\n",
              "      <td>662650</td>\n",
              "      <td>460590</td>\n",
              "      <td>223980</td>\n",
              "      <td>670760</td>\n",
              "      <td>330590</td>\n",
              "      <td>199700</td>\n",
              "      <td>718290</td>\n",
              "      <td>420480</td>\n",
              "      <td>391730</td>\n",
              "      <td>5521100</td>\n",
              "    </tr>\n",
              "  </tbody>\n",
              "</table>\n",
              "</div>"
            ],
            "text/plain": [
              "월        01       02       03       04  ...       10       11       12         계\n",
              "매출  6296800  5879400  6017700  7464600  ...  6711500  7499400  5236600  67684800\n",
              "이익   345910   621820   474600   662650  ...   718290   420480   391730   5521100\n",
              "\n",
              "[2 rows x 13 columns]"
            ]
          },
          "metadata": {},
          "execution_count": 6
        }
      ]
    },
    {
      "cell_type": "code",
      "metadata": {
        "colab": {
          "base_uri": "https://localhost:8080/",
          "height": 408
        },
        "id": "WGphhnCJDPpG",
        "outputId": "575eb13b-5a7e-4d3e-e71d-3454bd9dd2cb"
      },
      "source": [
        "df.plot.bar(figsize=(10,6))\n",
        "plt.title('월별 매출/이익', size=15)\n",
        "plt.grid()\n",
        "plt.show()"
      ],
      "execution_count": 7,
      "outputs": [
        {
          "output_type": "display_data",
          "data": {
            "image/png": "[encoded data removed]",
            "text/plain": [
              "<Figure size 720x432 with 1 Axes>"
            ]
          },
          "metadata": {
            "needs_background": "light"
          }
        }
      ]
    },
    {
      "cell_type": "markdown",
      "metadata": {
        "id": "lolqWOIUDYIg"
      },
      "source": [
        "## 2. 거래처별 매출/이익"
      ]
    },
    {
      "cell_type": "code",
      "metadata": {
        "id": "dtoolpvIDWee"
      },
      "source": [
        "# 소수점 자리수 제한을 위한 코드\n",
        "pd.options.display.float_format = '{:.2}'.format"
      ],
      "execution_count": 8,
      "outputs": []
    },
    {
      "cell_type": "code",
      "metadata": {
        "colab": {
          "base_uri": "https://localhost:8080/",
          "height": 235
        },
        "id": "FN95QSiEgAv7",
        "outputId": "a818f540-18fc-4db9-b2d6-0a6ba43b31de"
      },
      "source": [
        "results = dm.get_data_by_company(config)\n",
        "df = pd.DataFrame(results, columns=['판매처','매출','이익'])\n",
        "df.set_index('판매처', inplace=True)\n",
        "df['매출'] = df.매출.astype(int)\n",
        "df['이익'] = df.이익.astype(int)\n",
        "df['이익율'] = df.이익 / df.매출 * 100\n",
        "df"
      ],
      "execution_count": 9,
      "outputs": [
        {
          "output_type": "execute_result",
          "data": {
            "text/html": [
              "<div>\n",
              "<style scoped>\n",
              "    .dataframe tbody tr th:only-of-type {\n",
              "        vertical-align: middle;\n",
              "    }\n",
              "\n",
              "    .dataframe tbody tr th {\n",
              "        vertical-align: top;\n",
              "    }\n",
              "\n",
              "    .dataframe thead th {\n",
              "        text-align: right;\n",
              "    }\n",
              "</style>\n",
              "<table border=\"1\" class=\"dataframe\">\n",
              "  <thead>\n",
              "    <tr style=\"text-align: right;\">\n",
              "      <th></th>\n",
              "      <th>매출</th>\n",
              "      <th>이익</th>\n",
              "      <th>이익율</th>\n",
              "    </tr>\n",
              "    <tr>\n",
              "      <th>판매처</th>\n",
              "      <th></th>\n",
              "      <th></th>\n",
              "      <th></th>\n",
              "    </tr>\n",
              "  </thead>\n",
              "  <tbody>\n",
              "    <tr>\n",
              "      <th>테크브루</th>\n",
              "      <td>19155800</td>\n",
              "      <td>1488130</td>\n",
              "      <td>7.8</td>\n",
              "    </tr>\n",
              "    <tr>\n",
              "      <th>한경아카데미</th>\n",
              "      <td>15299300</td>\n",
              "      <td>1477570</td>\n",
              "      <td>9.7</td>\n",
              "    </tr>\n",
              "    <tr>\n",
              "      <th>표준협회</th>\n",
              "      <td>13932700</td>\n",
              "      <td>1072730</td>\n",
              "      <td>7.7</td>\n",
              "    </tr>\n",
              "    <tr>\n",
              "      <th>생산성본부</th>\n",
              "      <td>10286300</td>\n",
              "      <td>822900</td>\n",
              "      <td>8.0</td>\n",
              "    </tr>\n",
              "    <tr>\n",
              "      <th>멀티캠퍼스</th>\n",
              "      <td>9010700</td>\n",
              "      <td>659770</td>\n",
              "      <td>7.3</td>\n",
              "    </tr>\n",
              "  </tbody>\n",
              "</table>\n",
              "</div>"
            ],
            "text/plain": [
              "              매출       이익  이익율\n",
              "판매처                           \n",
              "테크브루    19155800  1488130  7.8\n",
              "한경아카데미  15299300  1477570  9.7\n",
              "표준협회    13932700  1072730  7.7\n",
              "생산성본부   10286300   822900  8.0\n",
              "멀티캠퍼스    9010700   659770  7.3"
            ]
          },
          "metadata": {},
          "execution_count": 9
        }
      ]
    },
    {
      "cell_type": "code",
      "metadata": {
        "colab": {
          "base_uri": "https://localhost:8080/",
          "height": 296
        },
        "id": "G6wqc5Exk9tE",
        "outputId": "13175717-86ab-4443-95aa-ff4895aaf15c"
      },
      "source": [
        "df[['매출','이익']].plot.barh(rot=0, figsize=(10,4))\n",
        "plt.title('거래처별 매출/이익', size=15)\n",
        "plt.grid()\n",
        "plt.show()"
      ],
      "execution_count": 10,
      "outputs": [
        {
          "output_type": "display_data",
          "data": {
            "image/png": "[encoded data removed]",
            "text/plain": [
              "<Figure size 720x288 with 1 Axes>"
            ]
          },
          "metadata": {
            "needs_background": "light"
          }
        }
      ]
    },
    {
      "cell_type": "code",
      "metadata": {
        "colab": {
          "base_uri": "https://localhost:8080/",
          "height": 283
        },
        "id": "MelnMgIBme5E",
        "outputId": "778393a5-b037-41fa-e3d6-5eca3943e220"
      },
      "source": [
        "df['이익율'].plot.barh(rot=0, figsize=(10,4))\n",
        "plt.title('거래처별 이익율(%)', size=15)\n",
        "plt.grid()\n",
        "plt.show()"
      ],
      "execution_count": 11,
      "outputs": [
        {
          "output_type": "display_data",
          "data": {
            "image/png": "[encoded data removed]",
            "text/plain": [
              "<Figure size 720x288 with 1 Axes>"
            ]
          },
          "metadata": {
            "needs_background": "light"
          }
        }
      ]
    },
    {
      "cell_type": "markdown",
      "metadata": {
        "id": "m9GjjBQtoPkw"
      },
      "source": [
        "## 3. 거래처별 판매상품 및 수량"
      ]
    },
    {
      "cell_type": "code",
      "metadata": {
        "colab": {
          "base_uri": "https://localhost:8080/",
          "height": 450
        },
        "id": "XdsMjW6jmsl3",
        "outputId": "a42a1f58-5bd8-45d0-d40c-58e48d423896"
      },
      "source": [
        "results = dm.get_products_by_company(config)\n",
        "df = pd.DataFrame(results, columns=['판매처','상품','수량'])\n",
        "df.set_index(['판매처','상품'], inplace=True)\n",
        "df['수량'] = df.수량.astype(int)\n",
        "df"
      ],
      "execution_count": 12,
      "outputs": [
        {
          "output_type": "execute_result",
          "data": {
            "text/html": [
              "<div>\n",
              "<style scoped>\n",
              "    .dataframe tbody tr th:only-of-type {\n",
              "        vertical-align: middle;\n",
              "    }\n",
              "\n",
              "    .dataframe tbody tr th {\n",
              "        vertical-align: top;\n",
              "    }\n",
              "\n",
              "    .dataframe thead th {\n",
              "        text-align: right;\n",
              "    }\n",
              "</style>\n",
              "<table border=\"1\" class=\"dataframe\">\n",
              "  <thead>\n",
              "    <tr style=\"text-align: right;\">\n",
              "      <th></th>\n",
              "      <th></th>\n",
              "      <th>수량</th>\n",
              "    </tr>\n",
              "    <tr>\n",
              "      <th>판매처</th>\n",
              "      <th>상품</th>\n",
              "      <th></th>\n",
              "    </tr>\n",
              "  </thead>\n",
              "  <tbody>\n",
              "    <tr>\n",
              "      <th rowspan=\"5\" valign=\"top\">멀티캠퍼스</th>\n",
              "      <th>거꾸리</th>\n",
              "      <td>28</td>\n",
              "    </tr>\n",
              "    <tr>\n",
              "      <th>러닝머신</th>\n",
              "      <td>20</td>\n",
              "    </tr>\n",
              "    <tr>\n",
              "      <th>로잉머신</th>\n",
              "      <td>20</td>\n",
              "    </tr>\n",
              "    <tr>\n",
              "      <th>매트</th>\n",
              "      <td>24</td>\n",
              "    </tr>\n",
              "    <tr>\n",
              "      <th>보조배터리</th>\n",
              "      <td>5</td>\n",
              "    </tr>\n",
              "    <tr>\n",
              "      <th>...</th>\n",
              "      <th>...</th>\n",
              "      <td>...</td>\n",
              "    </tr>\n",
              "    <tr>\n",
              "      <th rowspan=\"5\" valign=\"top\">한경아카데미</th>\n",
              "      <th>타프</th>\n",
              "      <td>26</td>\n",
              "    </tr>\n",
              "    <tr>\n",
              "      <th>텐트</th>\n",
              "      <td>35</td>\n",
              "    </tr>\n",
              "    <tr>\n",
              "      <th>트램펄린</th>\n",
              "      <td>14</td>\n",
              "    </tr>\n",
              "    <tr>\n",
              "      <th>핸즈프리</th>\n",
              "      <td>18</td>\n",
              "    </tr>\n",
              "    <tr>\n",
              "      <th>후방카메라</th>\n",
              "      <td>17</td>\n",
              "    </tr>\n",
              "  </tbody>\n",
              "</table>\n",
              "<p>85 rows × 1 columns</p>\n",
              "</div>"
            ],
            "text/plain": [
              "              수량\n",
              "판매처    상품       \n",
              "멀티캠퍼스  거꾸리    28\n",
              "       러닝머신   20\n",
              "       로잉머신   20\n",
              "       매트     24\n",
              "       보조배터리   5\n",
              "...           ..\n",
              "한경아카데미 타프     26\n",
              "       텐트     35\n",
              "       트램펄린   14\n",
              "       핸즈프리   18\n",
              "       후방카메라  17\n",
              "\n",
              "[85 rows x 1 columns]"
            ]
          },
          "metadata": {},
          "execution_count": 12
        }
      ]
    },
    {
      "cell_type": "code",
      "metadata": {
        "colab": {
          "base_uri": "https://localhost:8080/"
        },
        "id": "wOoeguSMntgZ",
        "outputId": "1a037971-1fb2-47f2-bc1e-62253837431f"
      },
      "source": [
        "df.reset_index()['판매처'].unique()"
      ],
      "execution_count": 13,
      "outputs": [
        {
          "output_type": "execute_result",
          "data": {
            "text/plain": [
              "array(['멀티캠퍼스', '생산성본부', '테크브루', '표준협회', '한경아카데미'], dtype=object)"
            ]
          },
          "metadata": {},
          "execution_count": 13
        }
      ]
    },
    {
      "cell_type": "code",
      "metadata": {
        "colab": {
          "base_uri": "https://localhost:8080/",
          "height": 1000
        },
        "id": "T0W_fsWYoUBv",
        "outputId": "ceeb020b-0631-4814-bb6a-982b951e43df"
      },
      "source": [
        "for company in df.reset_index()['판매처'].unique():\n",
        "    sdf=df.loc[(company,)]\n",
        "    sdf.sort_values(by='수량').plot.barh(figsize=(10,6))\n",
        "    plt.title(f'{company}에 판매된 상품', size=15)\n",
        "    plt.grid()\n",
        "    plt.show()"
      ],
      "execution_count": 14,
      "outputs": [
        {
          "output_type": "display_data",
          "data": {
            "image/png": "[encoded data removed]",
            "text/plain": [
              "<Figure size 720x432 with 1 Axes>"
            ]
          },
          "metadata": {
            "needs_background": "light"
          }
        },
        {
          "output_type": "display_data",
          "data": {
            "image/png": "[encoded data removed]",
            "text/plain": [
              "<Figure size 720x432 with 1 Axes>"
            ]
          },
          "metadata": {
            "needs_background": "light"
          }
        },
        {
          "output_type": "display_data",
          "data": {
            "image/png": "[encoded data removed]",
            "text/plain": [
              "<Figure size 720x432 with 1 Axes>"
            ]
          },
          "metadata": {
            "needs_background": "light"
          }
        },
        {
          "output_type": "display_data",
          "data": {
            "image/png": "[encoded data removed]",
            "text/plain": [
              "<Figure size 720x432 with 1 Axes>"
            ]
          },
          "metadata": {
            "needs_background": "light"
          }
        },
        {
          "output_type": "display_data",
          "data": {
            "image/png": "[encoded data removed]",
            "text/plain": [
              "<Figure size 720x432 with 1 Axes>"
            ]
          },
          "metadata": {
            "needs_background": "light"
          }
        }
      ]
    },
    {
      "cell_type": "markdown",
      "metadata": {
        "id": "s3XAsBf6oYtX"
      },
      "source": [
        "## 4. 제품별 판매수량/매출/이익"
      ]
    },
    {
      "cell_type": "code",
      "metadata": {
        "colab": {
          "base_uri": "https://localhost:8080/",
          "height": 1000
        },
        "id": "5FblMqDOoV7X",
        "outputId": "d0983f38-136a-4be0-e4f7-61443b7b13e7"
      },
      "source": [
        "results = dm.get_data_by_products(config)\n",
        "df = pd.DataFrame(results, columns=['상품','수량','매출','이익'])\n",
        "df.set_index('상품', inplace=True)\n",
        "df['수량'] = df.수량.astype(int)\n",
        "df['매출'] = df.매출.astype(int)\n",
        "df['이익'] = df.이익.astype(int)\n",
        "df"
      ],
      "execution_count": 15,
      "outputs": [
        {
          "output_type": "execute_result",
          "data": {
            "text/html": [
              "<div>\n",
              "<style scoped>\n",
              "    .dataframe tbody tr th:only-of-type {\n",
              "        vertical-align: middle;\n",
              "    }\n",
              "\n",
              "    .dataframe tbody tr th {\n",
              "        vertical-align: top;\n",
              "    }\n",
              "\n",
              "    .dataframe thead th {\n",
              "        text-align: right;\n",
              "    }\n",
              "</style>\n",
              "<table border=\"1\" class=\"dataframe\">\n",
              "  <thead>\n",
              "    <tr style=\"text-align: right;\">\n",
              "      <th></th>\n",
              "      <th>수량</th>\n",
              "      <th>매출</th>\n",
              "      <th>이익</th>\n",
              "    </tr>\n",
              "    <tr>\n",
              "      <th>상품</th>\n",
              "      <th></th>\n",
              "      <th></th>\n",
              "      <th></th>\n",
              "    </tr>\n",
              "  </thead>\n",
              "  <tbody>\n",
              "    <tr>\n",
              "      <th>텐트</th>\n",
              "      <td>48</td>\n",
              "      <td>4555200</td>\n",
              "      <td>683520</td>\n",
              "    </tr>\n",
              "    <tr>\n",
              "      <th>타프</th>\n",
              "      <td>28</td>\n",
              "      <td>2410800</td>\n",
              "      <td>337400</td>\n",
              "    </tr>\n",
              "    <tr>\n",
              "      <th>천막</th>\n",
              "      <td>9</td>\n",
              "      <td>710100</td>\n",
              "      <td>28440</td>\n",
              "    </tr>\n",
              "    <tr>\n",
              "      <th>침낭</th>\n",
              "      <td>60</td>\n",
              "      <td>3960000</td>\n",
              "      <td>435600</td>\n",
              "    </tr>\n",
              "    <tr>\n",
              "      <th>매트</th>\n",
              "      <td>79</td>\n",
              "      <td>1200800</td>\n",
              "      <td>83740</td>\n",
              "    </tr>\n",
              "    <tr>\n",
              "      <th>랜턴</th>\n",
              "      <td>56</td>\n",
              "      <td>5297600</td>\n",
              "      <td>264880</td>\n",
              "    </tr>\n",
              "    <tr>\n",
              "      <th>취사용품</th>\n",
              "      <td>24</td>\n",
              "      <td>1387200</td>\n",
              "      <td>194160</td>\n",
              "    </tr>\n",
              "    <tr>\n",
              "      <th>아이스박스</th>\n",
              "      <td>67</td>\n",
              "      <td>2036800</td>\n",
              "      <td>121940</td>\n",
              "    </tr>\n",
              "    <tr>\n",
              "      <th>보조배터리</th>\n",
              "      <td>68</td>\n",
              "      <td>5100000</td>\n",
              "      <td>408000</td>\n",
              "    </tr>\n",
              "    <tr>\n",
              "      <th>워터저그</th>\n",
              "      <td>41</td>\n",
              "      <td>3087300</td>\n",
              "      <td>61910</td>\n",
              "    </tr>\n",
              "    <tr>\n",
              "      <th>블랙박스</th>\n",
              "      <td>21</td>\n",
              "      <td>810600</td>\n",
              "      <td>56700</td>\n",
              "    </tr>\n",
              "    <tr>\n",
              "      <th>내비게이션</th>\n",
              "      <td>58</td>\n",
              "      <td>2581000</td>\n",
              "      <td>128760</td>\n",
              "    </tr>\n",
              "    <tr>\n",
              "      <th>하이패스</th>\n",
              "      <td>87</td>\n",
              "      <td>4184700</td>\n",
              "      <td>125280</td>\n",
              "    </tr>\n",
              "    <tr>\n",
              "      <th>후방카메라</th>\n",
              "      <td>63</td>\n",
              "      <td>3175200</td>\n",
              "      <td>127260</td>\n",
              "    </tr>\n",
              "    <tr>\n",
              "      <th>자동차TV</th>\n",
              "      <td>39</td>\n",
              "      <td>838500</td>\n",
              "      <td>100620</td>\n",
              "    </tr>\n",
              "    <tr>\n",
              "      <th>카오디오</th>\n",
              "      <td>21</td>\n",
              "      <td>730800</td>\n",
              "      <td>58380</td>\n",
              "    </tr>\n",
              "    <tr>\n",
              "      <th>핸즈프리</th>\n",
              "      <td>33</td>\n",
              "      <td>1824900</td>\n",
              "      <td>145860</td>\n",
              "    </tr>\n",
              "    <tr>\n",
              "      <th>헤드유닛</th>\n",
              "      <td>45</td>\n",
              "      <td>981000</td>\n",
              "      <td>49050</td>\n",
              "    </tr>\n",
              "    <tr>\n",
              "      <th>방진매트</th>\n",
              "      <td>28</td>\n",
              "      <td>1834000</td>\n",
              "      <td>220080</td>\n",
              "    </tr>\n",
              "    <tr>\n",
              "      <th>윤활방청제</th>\n",
              "      <td>50</td>\n",
              "      <td>2870000</td>\n",
              "      <td>229500</td>\n",
              "    </tr>\n",
              "    <tr>\n",
              "      <th>러닝머신</th>\n",
              "      <td>35</td>\n",
              "      <td>1361500</td>\n",
              "      <td>177100</td>\n",
              "    </tr>\n",
              "    <tr>\n",
              "      <th>웨이트기구</th>\n",
              "      <td>41</td>\n",
              "      <td>1582600</td>\n",
              "      <td>237390</td>\n",
              "    </tr>\n",
              "    <tr>\n",
              "      <th>복근운동기구</th>\n",
              "      <td>51</td>\n",
              "      <td>612000</td>\n",
              "      <td>42840</td>\n",
              "    </tr>\n",
              "    <tr>\n",
              "      <th>벨트</th>\n",
              "      <td>48</td>\n",
              "      <td>4195200</td>\n",
              "      <td>503520</td>\n",
              "    </tr>\n",
              "    <tr>\n",
              "      <th>거꾸리</th>\n",
              "      <td>93</td>\n",
              "      <td>2780700</td>\n",
              "      <td>83700</td>\n",
              "    </tr>\n",
              "    <tr>\n",
              "      <th>훌라후프</th>\n",
              "      <td>5</td>\n",
              "      <td>137000</td>\n",
              "      <td>2750</td>\n",
              "    </tr>\n",
              "    <tr>\n",
              "      <th>트램펄린</th>\n",
              "      <td>19</td>\n",
              "      <td>1767000</td>\n",
              "      <td>212040</td>\n",
              "    </tr>\n",
              "    <tr>\n",
              "      <th>스텝퍼</th>\n",
              "      <td>58</td>\n",
              "      <td>2958000</td>\n",
              "      <td>266220</td>\n",
              "    </tr>\n",
              "    <tr>\n",
              "      <th>로잉머신</th>\n",
              "      <td>37</td>\n",
              "      <td>2571500</td>\n",
              "      <td>128760</td>\n",
              "    </tr>\n",
              "    <tr>\n",
              "      <th>헬스사이클</th>\n",
              "      <td>3</td>\n",
              "      <td>142800</td>\n",
              "      <td>5700</td>\n",
              "    </tr>\n",
              "  </tbody>\n",
              "</table>\n",
              "</div>"
            ],
            "text/plain": [
              "        수량       매출      이익\n",
              "상품                         \n",
              "텐트      48  4555200  683520\n",
              "타프      28  2410800  337400\n",
              "천막       9   710100   28440\n",
              "침낭      60  3960000  435600\n",
              "매트      79  1200800   83740\n",
              "랜턴      56  5297600  264880\n",
              "취사용품    24  1387200  194160\n",
              "아이스박스   67  2036800  121940\n",
              "보조배터리   68  5100000  408000\n",
              "워터저그    41  3087300   61910\n",
              "블랙박스    21   810600   56700\n",
              "내비게이션   58  2581000  128760\n",
              "하이패스    87  4184700  125280\n",
              "후방카메라   63  3175200  127260\n",
              "자동차TV   39   838500  100620\n",
              "카오디오    21   730800   58380\n",
              "핸즈프리    33  1824900  145860\n",
              "헤드유닛    45   981000   49050\n",
              "방진매트    28  1834000  220080\n",
              "윤활방청제   50  2870000  229500\n",
              "러닝머신    35  1361500  177100\n",
              "웨이트기구   41  1582600  237390\n",
              "복근운동기구  51   612000   42840\n",
              "벨트      48  4195200  503520\n",
              "거꾸리     93  2780700   83700\n",
              "훌라후프     5   137000    2750\n",
              "트램펄린    19  1767000  212040\n",
              "스텝퍼     58  2958000  266220\n",
              "로잉머신    37  2571500  128760\n",
              "헬스사이클    3   142800    5700"
            ]
          },
          "metadata": {},
          "execution_count": 15
        }
      ]
    },
    {
      "cell_type": "code",
      "metadata": {
        "colab": {
          "base_uri": "https://localhost:8080/",
          "height": 1000
        },
        "id": "_CsbewAFob1u",
        "outputId": "848d9bfc-5de5-4b13-89b5-0ab4e1c42757"
      },
      "source": [
        "results = dm.get_data_by_products(config)\n",
        "df = pd.DataFrame(results, columns=['상품','수량','매출','이익'])\n",
        "df.set_index('상품', inplace=True)\n",
        "df['수량'] = df.수량.astype(int)\n",
        "df['매출'] = df.매출.astype(int)\n",
        "df['이익'] = df.이익.astype(int)\n",
        "df"
      ],
      "execution_count": 16,
      "outputs": [
        {
          "output_type": "execute_result",
          "data": {
            "text/html": [
              "<div>\n",
              "<style scoped>\n",
              "    .dataframe tbody tr th:only-of-type {\n",
              "        vertical-align: middle;\n",
              "    }\n",
              "\n",
              "    .dataframe tbody tr th {\n",
              "        vertical-align: top;\n",
              "    }\n",
              "\n",
              "    .dataframe thead th {\n",
              "        text-align: right;\n",
              "    }\n",
              "</style>\n",
              "<table border=\"1\" class=\"dataframe\">\n",
              "  <thead>\n",
              "    <tr style=\"text-align: right;\">\n",
              "      <th></th>\n",
              "      <th>수량</th>\n",
              "      <th>매출</th>\n",
              "      <th>이익</th>\n",
              "    </tr>\n",
              "    <tr>\n",
              "      <th>상품</th>\n",
              "      <th></th>\n",
              "      <th></th>\n",
              "      <th></th>\n",
              "    </tr>\n",
              "  </thead>\n",
              "  <tbody>\n",
              "    <tr>\n",
              "      <th>텐트</th>\n",
              "      <td>48</td>\n",
              "      <td>4555200</td>\n",
              "      <td>683520</td>\n",
              "    </tr>\n",
              "    <tr>\n",
              "      <th>타프</th>\n",
              "      <td>28</td>\n",
              "      <td>2410800</td>\n",
              "      <td>337400</td>\n",
              "    </tr>\n",
              "    <tr>\n",
              "      <th>천막</th>\n",
              "      <td>9</td>\n",
              "      <td>710100</td>\n",
              "      <td>28440</td>\n",
              "    </tr>\n",
              "    <tr>\n",
              "      <th>침낭</th>\n",
              "      <td>60</td>\n",
              "      <td>3960000</td>\n",
              "      <td>435600</td>\n",
              "    </tr>\n",
              "    <tr>\n",
              "      <th>매트</th>\n",
              "      <td>79</td>\n",
              "      <td>1200800</td>\n",
              "      <td>83740</td>\n",
              "    </tr>\n",
              "    <tr>\n",
              "      <th>랜턴</th>\n",
              "      <td>56</td>\n",
              "      <td>5297600</td>\n",
              "      <td>264880</td>\n",
              "    </tr>\n",
              "    <tr>\n",
              "      <th>취사용품</th>\n",
              "      <td>24</td>\n",
              "      <td>1387200</td>\n",
              "      <td>194160</td>\n",
              "    </tr>\n",
              "    <tr>\n",
              "      <th>아이스박스</th>\n",
              "      <td>67</td>\n",
              "      <td>2036800</td>\n",
              "      <td>121940</td>\n",
              "    </tr>\n",
              "    <tr>\n",
              "      <th>보조배터리</th>\n",
              "      <td>68</td>\n",
              "      <td>5100000</td>\n",
              "      <td>408000</td>\n",
              "    </tr>\n",
              "    <tr>\n",
              "      <th>워터저그</th>\n",
              "      <td>41</td>\n",
              "      <td>3087300</td>\n",
              "      <td>61910</td>\n",
              "    </tr>\n",
              "    <tr>\n",
              "      <th>블랙박스</th>\n",
              "      <td>21</td>\n",
              "      <td>810600</td>\n",
              "      <td>56700</td>\n",
              "    </tr>\n",
              "    <tr>\n",
              "      <th>내비게이션</th>\n",
              "      <td>58</td>\n",
              "      <td>2581000</td>\n",
              "      <td>128760</td>\n",
              "    </tr>\n",
              "    <tr>\n",
              "      <th>하이패스</th>\n",
              "      <td>87</td>\n",
              "      <td>4184700</td>\n",
              "      <td>125280</td>\n",
              "    </tr>\n",
              "    <tr>\n",
              "      <th>후방카메라</th>\n",
              "      <td>63</td>\n",
              "      <td>3175200</td>\n",
              "      <td>127260</td>\n",
              "    </tr>\n",
              "    <tr>\n",
              "      <th>자동차TV</th>\n",
              "      <td>39</td>\n",
              "      <td>838500</td>\n",
              "      <td>100620</td>\n",
              "    </tr>\n",
              "    <tr>\n",
              "      <th>카오디오</th>\n",
              "      <td>21</td>\n",
              "      <td>730800</td>\n",
              "      <td>58380</td>\n",
              "    </tr>\n",
              "    <tr>\n",
              "      <th>핸즈프리</th>\n",
              "      <td>33</td>\n",
              "      <td>1824900</td>\n",
              "      <td>145860</td>\n",
              "    </tr>\n",
              "    <tr>\n",
              "      <th>헤드유닛</th>\n",
              "      <td>45</td>\n",
              "      <td>981000</td>\n",
              "      <td>49050</td>\n",
              "    </tr>\n",
              "    <tr>\n",
              "      <th>방진매트</th>\n",
              "      <td>28</td>\n",
              "      <td>1834000</td>\n",
              "      <td>220080</td>\n",
              "    </tr>\n",
              "    <tr>\n",
              "      <th>윤활방청제</th>\n",
              "      <td>50</td>\n",
              "      <td>2870000</td>\n",
              "      <td>229500</td>\n",
              "    </tr>\n",
              "    <tr>\n",
              "      <th>러닝머신</th>\n",
              "      <td>35</td>\n",
              "      <td>1361500</td>\n",
              "      <td>177100</td>\n",
              "    </tr>\n",
              "    <tr>\n",
              "      <th>웨이트기구</th>\n",
              "      <td>41</td>\n",
              "      <td>1582600</td>\n",
              "      <td>237390</td>\n",
              "    </tr>\n",
              "    <tr>\n",
              "      <th>복근운동기구</th>\n",
              "      <td>51</td>\n",
              "      <td>612000</td>\n",
              "      <td>42840</td>\n",
              "    </tr>\n",
              "    <tr>\n",
              "      <th>벨트</th>\n",
              "      <td>48</td>\n",
              "      <td>4195200</td>\n",
              "      <td>503520</td>\n",
              "    </tr>\n",
              "    <tr>\n",
              "      <th>거꾸리</th>\n",
              "      <td>93</td>\n",
              "      <td>2780700</td>\n",
              "      <td>83700</td>\n",
              "    </tr>\n",
              "    <tr>\n",
              "      <th>훌라후프</th>\n",
              "      <td>5</td>\n",
              "      <td>137000</td>\n",
              "      <td>2750</td>\n",
              "    </tr>\n",
              "    <tr>\n",
              "      <th>트램펄린</th>\n",
              "      <td>19</td>\n",
              "      <td>1767000</td>\n",
              "      <td>212040</td>\n",
              "    </tr>\n",
              "    <tr>\n",
              "      <th>스텝퍼</th>\n",
              "      <td>58</td>\n",
              "      <td>2958000</td>\n",
              "      <td>266220</td>\n",
              "    </tr>\n",
              "    <tr>\n",
              "      <th>로잉머신</th>\n",
              "      <td>37</td>\n",
              "      <td>2571500</td>\n",
              "      <td>128760</td>\n",
              "    </tr>\n",
              "    <tr>\n",
              "      <th>헬스사이클</th>\n",
              "      <td>3</td>\n",
              "      <td>142800</td>\n",
              "      <td>5700</td>\n",
              "    </tr>\n",
              "  </tbody>\n",
              "</table>\n",
              "</div>"
            ],
            "text/plain": [
              "        수량       매출      이익\n",
              "상품                         \n",
              "텐트      48  4555200  683520\n",
              "타프      28  2410800  337400\n",
              "천막       9   710100   28440\n",
              "침낭      60  3960000  435600\n",
              "매트      79  1200800   83740\n",
              "랜턴      56  5297600  264880\n",
              "취사용품    24  1387200  194160\n",
              "아이스박스   67  2036800  121940\n",
              "보조배터리   68  5100000  408000\n",
              "워터저그    41  3087300   61910\n",
              "블랙박스    21   810600   56700\n",
              "내비게이션   58  2581000  128760\n",
              "하이패스    87  4184700  125280\n",
              "후방카메라   63  3175200  127260\n",
              "자동차TV   39   838500  100620\n",
              "카오디오    21   730800   58380\n",
              "핸즈프리    33  1824900  145860\n",
              "헤드유닛    45   981000   49050\n",
              "방진매트    28  1834000  220080\n",
              "윤활방청제   50  2870000  229500\n",
              "러닝머신    35  1361500  177100\n",
              "웨이트기구   41  1582600  237390\n",
              "복근운동기구  51   612000   42840\n",
              "벨트      48  4195200  503520\n",
              "거꾸리     93  2780700   83700\n",
              "훌라후프     5   137000    2750\n",
              "트램펄린    19  1767000  212040\n",
              "스텝퍼     58  2958000  266220\n",
              "로잉머신    37  2571500  128760\n",
              "헬스사이클    3   142800    5700"
            ]
          },
          "metadata": {},
          "execution_count": 16
        }
      ]
    },
    {
      "cell_type": "code",
      "metadata": {
        "colab": {
          "base_uri": "https://localhost:8080/",
          "height": 623
        },
        "id": "bvouAijKolAw",
        "outputId": "14bd5ec7-615d-4bb1-9621-cb9467bd3f94"
      },
      "source": [
        "df[['매출','이익']].sort_values(by='매출').plot.barh(rot=0, figsize=(10,10))\n",
        "plt.title('상품별 매출/이익', size=15)\n",
        "plt.grid()\n",
        "plt.show()"
      ],
      "execution_count": 17,
      "outputs": [
        {
          "output_type": "display_data",
          "data": {
            "image/png": "[encoded data removed]",
            "text/plain": [
              "<Figure size 720x720 with 1 Axes>"
            ]
          },
          "metadata": {
            "needs_background": "light"
          }
        }
      ]
    },
    {
      "cell_type": "markdown",
      "metadata": {
        "id": "LZEd5TPyor-g"
      },
      "source": [
        "## 5. 카테고리별 매출/이익"
      ]
    },
    {
      "cell_type": "code",
      "metadata": {
        "colab": {
          "base_uri": "https://localhost:8080/",
          "height": 173
        },
        "id": "u3La09yLorJc",
        "outputId": "6e6627c1-d4fc-4295-d57b-5c6a0436de88"
      },
      "source": [
        "results = dm.get_data_by_category(config)\n",
        "df = pd.DataFrame(results, columns=['카테고리','매출','이익'])\n",
        "df.set_index('카테고리', inplace=True)\n",
        "df['매출'] = df.매출.astype(int)\n",
        "df['이익'] = df.이익.astype(int)\n",
        "df['이익율'] = df.이익 / df.매출 * 100\n",
        "df"
      ],
      "execution_count": 18,
      "outputs": [
        {
          "output_type": "execute_result",
          "data": {
            "text/html": [
              "<div>\n",
              "<style scoped>\n",
              "    .dataframe tbody tr th:only-of-type {\n",
              "        vertical-align: middle;\n",
              "    }\n",
              "\n",
              "    .dataframe tbody tr th {\n",
              "        vertical-align: top;\n",
              "    }\n",
              "\n",
              "    .dataframe thead th {\n",
              "        text-align: right;\n",
              "    }\n",
              "</style>\n",
              "<table border=\"1\" class=\"dataframe\">\n",
              "  <thead>\n",
              "    <tr style=\"text-align: right;\">\n",
              "      <th></th>\n",
              "      <th>매출</th>\n",
              "      <th>이익</th>\n",
              "      <th>이익율</th>\n",
              "    </tr>\n",
              "    <tr>\n",
              "      <th>카테고리</th>\n",
              "      <th></th>\n",
              "      <th></th>\n",
              "      <th></th>\n",
              "    </tr>\n",
              "  </thead>\n",
              "  <tbody>\n",
              "    <tr>\n",
              "      <th>캠핑용품</th>\n",
              "      <td>29745800</td>\n",
              "      <td>2619590</td>\n",
              "      <td>8.8</td>\n",
              "    </tr>\n",
              "    <tr>\n",
              "      <th>자동차용품</th>\n",
              "      <td>19830700</td>\n",
              "      <td>1241490</td>\n",
              "      <td>6.3</td>\n",
              "    </tr>\n",
              "    <tr>\n",
              "      <th>헬스용품</th>\n",
              "      <td>18108300</td>\n",
              "      <td>1660020</td>\n",
              "      <td>9.2</td>\n",
              "    </tr>\n",
              "  </tbody>\n",
              "</table>\n",
              "</div>"
            ],
            "text/plain": [
              "             매출       이익  이익율\n",
              "카테고리                         \n",
              "캠핑용품   29745800  2619590  8.8\n",
              "자동차용품  19830700  1241490  6.3\n",
              "헬스용품   18108300  1660020  9.2"
            ]
          },
          "metadata": {},
          "execution_count": 18
        }
      ]
    },
    {
      "cell_type": "code",
      "metadata": {
        "colab": {
          "base_uri": "https://localhost:8080/",
          "height": 296
        },
        "id": "I53jrIANowYn",
        "outputId": "763a0a4b-53d0-4e70-97f8-f4ff5a47a42d"
      },
      "source": [
        "df[['매출','이익']].plot.barh(rot=0, figsize=(10,4))\n",
        "plt.title('카테고리별 매출/이익', size=15)\n",
        "plt.grid()\n",
        "plt.show()"
      ],
      "execution_count": 19,
      "outputs": [
        {
          "output_type": "display_data",
          "data": {
            "image/png": "[encoded data removed]",
            "text/plain": [
              "<Figure size 720x288 with 1 Axes>"
            ]
          },
          "metadata": {
            "needs_background": "light"
          }
        }
      ]
    },
    {
      "cell_type": "code",
      "metadata": {
        "colab": {
          "base_uri": "https://localhost:8080/",
          "height": 283
        },
        "id": "tW9Aj5hloyV2",
        "outputId": "788a6499-0d10-49fd-f241-0f751a985847"
      },
      "source": [
        "df['이익율'].plot.barh(rot=0, figsize=(10,4))\n",
        "plt.title('카테고리별 이익율(%)', size=15)\n",
        "plt.grid()\n",
        "plt.show()"
      ],
      "execution_count": 20,
      "outputs": [
        {
          "output_type": "display_data",
          "data": {
            "image/png": "[encoded data removed]",
            "text/plain": [
              "<Figure size 720x288 with 1 Axes>"
            ]
          },
          "metadata": {
            "needs_background": "light"
          }
        }
      ]
    },
    {
      "cell_type": "code",
      "metadata": {
        "id": "9bbn2S59oz_b"
      },
      "source": [
        ""
      ],
      "execution_count": null,
      "outputs": []
    }
  ]
}