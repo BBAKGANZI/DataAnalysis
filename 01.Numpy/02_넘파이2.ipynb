{
  "nbformat": 4,
  "nbformat_minor": 0,
  "metadata": {
    "colab": {
      "name": "02_넘파이2.ipynb",
      "provenance": [],
      "collapsed_sections": []
    },
    "kernelspec": {
      "name": "python3",
      "display_name": "Python 3"
    },
    "language_info": {
      "name": "python"
    }
  },
  "cells": [
    {
      "cell_type": "markdown",
      "metadata": {
        "id": "yllPJp-XU0F8"
      },
      "source": [
        "# Numpy - part2"
      ]
    },
    {
      "cell_type": "code",
      "metadata": {
        "id": "oqlAYpR4UsFB"
      },
      "source": [
        "import numpy as np"
      ],
      "execution_count": 1,
      "outputs": []
    },
    {
      "cell_type": "markdown",
      "metadata": {
        "id": "ntB4rPFiVKhy"
      },
      "source": [
        "## 4. 생성(Creation)"
      ]
    },
    {
      "cell_type": "markdown",
      "metadata": {
        "id": "jf3-5PHWVN5P"
      },
      "source": [
        "### arange"
      ]
    },
    {
      "cell_type": "code",
      "metadata": {
        "colab": {
          "base_uri": "https://localhost:8080/"
        },
        "id": "hOFrEFHDU5u2",
        "outputId": "c45459b7-87df-42a3-b791-0d7051242189"
      },
      "source": [
        "np.arange(10)"
      ],
      "execution_count": 2,
      "outputs": [
        {
          "output_type": "execute_result",
          "data": {
            "text/plain": [
              "array([0, 1, 2, 3, 4, 5, 6, 7, 8, 9])"
            ]
          },
          "metadata": {
            "tags": []
          },
          "execution_count": 2
        }
      ]
    },
    {
      "cell_type": "code",
      "metadata": {
        "colab": {
          "base_uri": "https://localhost:8080/"
        },
        "id": "b7YD6k0LVTaY",
        "outputId": "4f096821-be94-49c2-d967-5276995b0000"
      },
      "source": [
        "np.arange(1, 10, 2)"
      ],
      "execution_count": 3,
      "outputs": [
        {
          "output_type": "execute_result",
          "data": {
            "text/plain": [
              "array([1, 3, 5, 7, 9])"
            ]
          },
          "metadata": {
            "tags": []
          },
          "execution_count": 3
        }
      ]
    },
    {
      "cell_type": "code",
      "metadata": {
        "colab": {
          "base_uri": "https://localhost:8080/"
        },
        "id": "Yeu4C96iVakC",
        "outputId": "6c4dc335-084e-4cea-cf38-6622f8566468"
      },
      "source": [
        "# 실수도 가능\n",
        "np.arange(0, 5.1, 0.5)"
      ],
      "execution_count": 4,
      "outputs": [
        {
          "output_type": "execute_result",
          "data": {
            "text/plain": [
              "array([0. , 0.5, 1. , 1.5, 2. , 2.5, 3. , 3.5, 4. , 4.5, 5. ])"
            ]
          },
          "metadata": {
            "tags": []
          },
          "execution_count": 4
        }
      ]
    },
    {
      "cell_type": "code",
      "metadata": {
        "colab": {
          "base_uri": "https://localhost:8080/"
        },
        "id": "zcIW3hPXVnvL",
        "outputId": "800fe87a-8026-4f5b-8243-0299a11ece85"
      },
      "source": [
        "np.arange(0, 5.1, 0.5).tolist()"
      ],
      "execution_count": 5,
      "outputs": [
        {
          "output_type": "execute_result",
          "data": {
            "text/plain": [
              "[0.0, 0.5, 1.0, 1.5, 2.0, 2.5, 3.0, 3.5, 4.0, 4.5, 5.0]"
            ]
          },
          "metadata": {
            "tags": []
          },
          "execution_count": 5
        }
      ]
    },
    {
      "cell_type": "code",
      "metadata": {
        "colab": {
          "base_uri": "https://localhost:8080/"
        },
        "id": "L14ieUj-VzZo",
        "outputId": "b1c24db7-2e6a-444f-81a5-14961296f068"
      },
      "source": [
        "np.arange(24).reshape(4, -1)"
      ],
      "execution_count": 6,
      "outputs": [
        {
          "output_type": "execute_result",
          "data": {
            "text/plain": [
              "array([[ 0,  1,  2,  3,  4,  5],\n",
              "       [ 6,  7,  8,  9, 10, 11],\n",
              "       [12, 13, 14, 15, 16, 17],\n",
              "       [18, 19, 20, 21, 22, 23]])"
            ]
          },
          "metadata": {
            "tags": []
          },
          "execution_count": 6
        }
      ]
    },
    {
      "cell_type": "markdown",
      "metadata": {
        "id": "_AVRUrtpouC3"
      },
      "source": [
        "### 그래프 그리는 경우"
      ]
    },
    {
      "cell_type": "code",
      "metadata": {
        "colab": {
          "base_uri": "https://localhost:8080/"
        },
        "id": "Imnmyku8WFlD",
        "outputId": "90880088-9e7b-40e2-d8f8-3cc3defcc40f"
      },
      "source": [
        "x = np.arange(-2, 2.005, 0.01)\n",
        "x.size, x[-1]"
      ],
      "execution_count": 15,
      "outputs": [
        {
          "output_type": "execute_result",
          "data": {
            "text/plain": [
              "(401, 2.0000000000000036)"
            ]
          },
          "metadata": {
            "tags": []
          },
          "execution_count": 15
        }
      ]
    },
    {
      "cell_type": "code",
      "metadata": {
        "colab": {
          "base_uri": "https://localhost:8080/"
        },
        "id": "rvc0BL9Gnx7n",
        "outputId": "d86fa1de-e9a7-4f39-f0fe-fabd94cc5a09"
      },
      "source": [
        "# linspace(시작, 끝, 몇등분)\n",
        "x = np. linspace(-2, 2, 401)\n",
        "x.size, x[-1]"
      ],
      "execution_count": 16,
      "outputs": [
        {
          "output_type": "execute_result",
          "data": {
            "text/plain": [
              "(401, 2.0)"
            ]
          },
          "metadata": {
            "tags": []
          },
          "execution_count": 16
        }
      ]
    },
    {
      "cell_type": "code",
      "metadata": {
        "colab": {
          "base_uri": "https://localhost:8080/",
          "height": 265
        },
        "id": "4nBURO24n3ni",
        "outputId": "398934a6-9bdd-4e8c-a89b-b4508d344adb"
      },
      "source": [
        "import matplotlib.pyplot as plt\n",
        "\n",
        "y = np.tanh(x)          # Hyperbolic tangent\n",
        "plt.plot(x, y)\n",
        "plt.grid()\n",
        "plt.show()"
      ],
      "execution_count": 17,
      "outputs": [
        {
          "output_type": "display_data",
          "data": {
            "image/png": "[encoded data removed]",
            "text/plain": [
              "<Figure size 432x288 with 1 Axes>"
            ]
          },
          "metadata": {
            "tags": [],
            "needs_background": "light"
          }
        }
      ]
    },
    {
      "cell_type": "markdown",
      "metadata": {
        "id": "YjiWahQWpN_6"
      },
      "source": [
        "### ones, zeros, empty"
      ]
    },
    {
      "cell_type": "code",
      "metadata": {
        "colab": {
          "base_uri": "https://localhost:8080/"
        },
        "id": "n73RVcJFn73G",
        "outputId": "2d37b66b-90c9-4535-f35d-69595853fc2e"
      },
      "source": [
        "np.ones(shape=(10,), dtype=np.int8)"
      ],
      "execution_count": 20,
      "outputs": [
        {
          "output_type": "execute_result",
          "data": {
            "text/plain": [
              "array([1, 1, 1, 1, 1, 1, 1, 1, 1, 1], dtype=int8)"
            ]
          },
          "metadata": {
            "tags": []
          },
          "execution_count": 20
        }
      ]
    },
    {
      "cell_type": "code",
      "metadata": {
        "colab": {
          "base_uri": "https://localhost:8080/"
        },
        "id": "rnN4WYDypaUw",
        "outputId": "66882d28-3410-49d2-d5d8-4c7aeb3bfdbc"
      },
      "source": [
        "np.ones((2, 4))"
      ],
      "execution_count": 21,
      "outputs": [
        {
          "output_type": "execute_result",
          "data": {
            "text/plain": [
              "array([[1., 1., 1., 1.],\n",
              "       [1., 1., 1., 1.]])"
            ]
          },
          "metadata": {
            "tags": []
          },
          "execution_count": 21
        }
      ]
    },
    {
      "cell_type": "code",
      "metadata": {
        "colab": {
          "base_uri": "https://localhost:8080/"
        },
        "id": "Vrh_puZhpg1d",
        "outputId": "08171d41-6ca4-4eb6-abcc-7e1f7d31ea73"
      },
      "source": [
        "np.zeros((8,), np.float32)"
      ],
      "execution_count": 22,
      "outputs": [
        {
          "output_type": "execute_result",
          "data": {
            "text/plain": [
              "array([0., 0., 0., 0., 0., 0., 0., 0.], dtype=float32)"
            ]
          },
          "metadata": {
            "tags": []
          },
          "execution_count": 22
        }
      ]
    },
    {
      "cell_type": "code",
      "metadata": {
        "colab": {
          "base_uri": "https://localhost:8080/"
        },
        "id": "YdAVwFkzp1Qs",
        "outputId": "7d51edfe-1cff-4a09-cc37-ae1b6ab1cffc"
      },
      "source": [
        "np.empty((4, ))"
      ],
      "execution_count": 23,
      "outputs": [
        {
          "output_type": "execute_result",
          "data": {
            "text/plain": [
              "array([0., 0., 0., 0.])"
            ]
          },
          "metadata": {
            "tags": []
          },
          "execution_count": 23
        }
      ]
    },
    {
      "cell_type": "markdown",
      "metadata": {
        "id": "72-688laqmKT"
      },
      "source": [
        "### something like"
      ]
    },
    {
      "cell_type": "code",
      "metadata": {
        "colab": {
          "base_uri": "https://localhost:8080/"
        },
        "id": "JQOYPaDXqBjp",
        "outputId": "b2dd3bd4-6b38-4fcb-b9f4-6ba3ceba8d29"
      },
      "source": [
        "a = np.arange(12).reshape(3, 4)\n",
        "np.ones_like(a)"
      ],
      "execution_count": 24,
      "outputs": [
        {
          "output_type": "execute_result",
          "data": {
            "text/plain": [
              "array([[1, 1, 1, 1],\n",
              "       [1, 1, 1, 1],\n",
              "       [1, 1, 1, 1]])"
            ]
          },
          "metadata": {
            "tags": []
          },
          "execution_count": 24
        }
      ]
    },
    {
      "cell_type": "code",
      "metadata": {
        "colab": {
          "base_uri": "https://localhost:8080/"
        },
        "id": "0rm5AVt_qtPx",
        "outputId": "a7b85ca9-3f40-4141-8d03-6fb8503f8625"
      },
      "source": [
        "np.zeros_like(a)"
      ],
      "execution_count": 26,
      "outputs": [
        {
          "output_type": "execute_result",
          "data": {
            "text/plain": [
              "array([[0, 0, 0, 0],\n",
              "       [0, 0, 0, 0],\n",
              "       [0, 0, 0, 0]])"
            ]
          },
          "metadata": {
            "tags": []
          },
          "execution_count": 26
        }
      ]
    },
    {
      "cell_type": "markdown",
      "metadata": {
        "id": "4nXfECkUq9Uk"
      },
      "source": [
        "### 단위 행렬 -identity"
      ]
    },
    {
      "cell_type": "code",
      "metadata": {
        "colab": {
          "base_uri": "https://localhost:8080/"
        },
        "id": "JOp-Ahl1q6MC",
        "outputId": "a36b34e9-8fa0-43c8-e4de-19a3f6563a0a"
      },
      "source": [
        "np.identity(n=3, dtype=np.int16)"
      ],
      "execution_count": 27,
      "outputs": [
        {
          "output_type": "execute_result",
          "data": {
            "text/plain": [
              "array([[1, 0, 0],\n",
              "       [0, 1, 0],\n",
              "       [0, 0, 1]], dtype=int16)"
            ]
          },
          "metadata": {
            "tags": []
          },
          "execution_count": 27
        }
      ]
    },
    {
      "cell_type": "code",
      "metadata": {
        "colab": {
          "base_uri": "https://localhost:8080/"
        },
        "id": "NnAWfs5wrV6i",
        "outputId": "e999812c-b016-4074-f552-73dd2fa44dc7"
      },
      "source": [
        "np.identity(3)"
      ],
      "execution_count": 28,
      "outputs": [
        {
          "output_type": "execute_result",
          "data": {
            "text/plain": [
              "array([[1., 0., 0.],\n",
              "       [0., 1., 0.],\n",
              "       [0., 0., 1.]])"
            ]
          },
          "metadata": {
            "tags": []
          },
          "execution_count": 28
        }
      ]
    },
    {
      "cell_type": "markdown",
      "metadata": {
        "id": "MF1uh28yrtew"
      },
      "source": [
        "### eye - 대각선이 1인 행렬"
      ]
    },
    {
      "cell_type": "code",
      "metadata": {
        "colab": {
          "base_uri": "https://localhost:8080/"
        },
        "id": "kkqEHNFfrejB",
        "outputId": "5e924fcf-e86c-4010-c3b6-45a658f31546"
      },
      "source": [
        "np.eye(3, 5)"
      ],
      "execution_count": 29,
      "outputs": [
        {
          "output_type": "execute_result",
          "data": {
            "text/plain": [
              "array([[1., 0., 0., 0., 0.],\n",
              "       [0., 1., 0., 0., 0.],\n",
              "       [0., 0., 1., 0., 0.]])"
            ]
          },
          "metadata": {
            "tags": []
          },
          "execution_count": 29
        }
      ]
    },
    {
      "cell_type": "code",
      "metadata": {
        "colab": {
          "base_uri": "https://localhost:8080/"
        },
        "id": "W8FrJ00gr6nd",
        "outputId": "902ce5fd-1fcc-4153-f0d3-cb77bc3ac38a"
      },
      "source": [
        "np.eye(N=3, M=5, k=2, dtype=np.int32)       # k : start index"
      ],
      "execution_count": 30,
      "outputs": [
        {
          "output_type": "execute_result",
          "data": {
            "text/plain": [
              "array([[0, 0, 1, 0, 0],\n",
              "       [0, 0, 0, 1, 0],\n",
              "       [0, 0, 0, 0, 1]], dtype=int32)"
            ]
          },
          "metadata": {
            "tags": []
          },
          "execution_count": 30
        }
      ]
    },
    {
      "cell_type": "code",
      "metadata": {
        "colab": {
          "base_uri": "https://localhost:8080/"
        },
        "id": "NzmhT1g-sLCu",
        "outputId": "3f547006-f8c9-48e9-c935-ffc3ce00477c"
      },
      "source": [
        "np.eye(4, 3, -1)"
      ],
      "execution_count": 31,
      "outputs": [
        {
          "output_type": "execute_result",
          "data": {
            "text/plain": [
              "array([[0., 0., 0.],\n",
              "       [1., 0., 0.],\n",
              "       [0., 1., 0.],\n",
              "       [0., 0., 1.]])"
            ]
          },
          "metadata": {
            "tags": []
          },
          "execution_count": 31
        }
      ]
    },
    {
      "cell_type": "markdown",
      "metadata": {
        "id": "j6J3An0dsy_V"
      },
      "source": [
        "### diag - 대각선 위치의 값을 추출"
      ]
    },
    {
      "cell_type": "code",
      "metadata": {
        "colab": {
          "base_uri": "https://localhost:8080/"
        },
        "id": "ifETbl9jsZ-2",
        "outputId": "a6f8b7a0-12d2-4880-adb7-13a8cf2aaf59"
      },
      "source": [
        "np.diag(np.arange(9).reshape(3,3))"
      ],
      "execution_count": 33,
      "outputs": [
        {
          "output_type": "execute_result",
          "data": {
            "text/plain": [
              "array([0, 4, 8])"
            ]
          },
          "metadata": {
            "tags": []
          },
          "execution_count": 33
        }
      ]
    },
    {
      "cell_type": "code",
      "metadata": {
        "colab": {
          "base_uri": "https://localhost:8080/"
        },
        "id": "FqTcGd89svmb",
        "outputId": "5126d73f-cf6f-4364-a480-7f1f2930d413"
      },
      "source": [
        "np.diag(np.arange(9).reshape(3,3), k = 1)"
      ],
      "execution_count": 34,
      "outputs": [
        {
          "output_type": "execute_result",
          "data": {
            "text/plain": [
              "array([1, 5])"
            ]
          },
          "metadata": {
            "tags": []
          },
          "execution_count": 34
        }
      ]
    },
    {
      "cell_type": "code",
      "metadata": {
        "id": "_MsgHQNItKeM"
      },
      "source": [
        "np.eye()"
      ],
      "execution_count": null,
      "outputs": []
    },
    {
      "cell_type": "markdown",
      "metadata": {
        "id": "lGa9KYVxtpcu"
      },
      "source": [
        "### Random sampling"
      ]
    },
    {
      "cell_type": "code",
      "metadata": {
        "colab": {
          "base_uri": "https://localhost:8080/"
        },
        "id": "Q6183JSVtrsq",
        "outputId": "bf76ce88-17ae-40f7-8701-628e1f4bcc8e"
      },
      "source": [
        "np.random.seed(seed=2021)\n",
        "np.random.random()"
      ],
      "execution_count": 41,
      "outputs": [
        {
          "output_type": "execute_result",
          "data": {
            "text/plain": [
              "0.6059782788074047"
            ]
          },
          "metadata": {
            "tags": []
          },
          "execution_count": 41
        }
      ]
    },
    {
      "cell_type": "code",
      "metadata": {
        "colab": {
          "base_uri": "https://localhost:8080/"
        },
        "id": "P9HosPuDuAdz",
        "outputId": "a1ef3924-cb4e-4185-a95a-2b247d4229a6"
      },
      "source": [
        "# 균등 분포\n",
        "np.random.uniform(size=10)"
      ],
      "execution_count": 43,
      "outputs": [
        {
          "output_type": "execute_result",
          "data": {
            "text/plain": [
              "array([0.73336936, 0.13894716, 0.31267308, 0.99724328, 0.12816238,\n",
              "       0.17899311, 0.75292543, 0.66216051, 0.78431013, 0.0968944 ])"
            ]
          },
          "metadata": {
            "tags": []
          },
          "execution_count": 43
        }
      ]
    },
    {
      "cell_type": "code",
      "metadata": {
        "colab": {
          "base_uri": "https://localhost:8080/"
        },
        "id": "Y64frTmFuZ19",
        "outputId": "6724730d-cb8c-4000-cf3a-2aa16c70490d"
      },
      "source": [
        "# 정규 분포 N(1, 2)\n",
        "np.random.normal(1, 2, size=10)"
      ],
      "execution_count": 45,
      "outputs": [
        {
          "output_type": "execute_result",
          "data": {
            "text/plain": [
              "array([ 1.71685504, -1.61124852,  5.04143686, -4.37360783,  2.11574313,\n",
              "        2.55235242,  1.40529983, -0.01471271,  3.11796435,  1.9264707 ])"
            ]
          },
          "metadata": {
            "tags": []
          },
          "execution_count": 45
        }
      ]
    },
    {
      "cell_type": "code",
      "metadata": {
        "colab": {
          "base_uri": "https://localhost:8080/"
        },
        "id": "A3wHaAUtvKsv",
        "outputId": "399eed60-a984-449f-90f3-e258c5438d25"
      },
      "source": [
        "# 표준 정규분포 N(0, 1)\n",
        "np.random.randn(10)"
      ],
      "execution_count": 46,
      "outputs": [
        {
          "output_type": "execute_result",
          "data": {
            "text/plain": [
              "array([ 0.49699852, -1.25014539, -1.51195802,  0.89457475,  0.24281041,\n",
              "        1.00678612, -0.04124402,  0.34396583,  0.02548591, -1.07844433])"
            ]
          },
          "metadata": {
            "tags": []
          },
          "execution_count": 46
        }
      ]
    },
    {
      "cell_type": "code",
      "metadata": {
        "colab": {
          "base_uri": "https://localhost:8080/",
          "height": 269
        },
        "id": "GLJb2GcWvfgZ",
        "outputId": "09cd1ab3-89e9-45eb-b2f6-aa045900db34"
      },
      "source": [
        "rand_norm = np.random.randn(1000)\n",
        "plt.hist(rand_norm)         # Histogram\n",
        "plt.show()"
      ],
      "execution_count": 50,
      "outputs": [
        {
          "output_type": "display_data",
          "data": {
            "image/png": "[encoded data removed]",
            "text/plain": [
              "<Figure size 432x288 with 1 Axes>"
            ]
          },
          "metadata": {
            "tags": [],
            "needs_background": "light"
          }
        }
      ]
    },
    {
      "cell_type": "markdown",
      "metadata": {
        "id": "UWLUqwCjwvvG"
      },
      "source": [
        "## 5. Operation"
      ]
    },
    {
      "cell_type": "markdown",
      "metadata": {
        "id": "DoyKKbKGwzXv"
      },
      "source": [
        "### Sum 과 Axis"
      ]
    },
    {
      "cell_type": "code",
      "metadata": {
        "colab": {
          "base_uri": "https://localhost:8080/"
        },
        "id": "2_m7NZeLwZCA",
        "outputId": "9f91c017-476d-4fd9-aa89-9c748a98a69b"
      },
      "source": [
        "a = np.arange(1,11)\n",
        "a.sum()"
      ],
      "execution_count": 51,
      "outputs": [
        {
          "output_type": "execute_result",
          "data": {
            "text/plain": [
              "55"
            ]
          },
          "metadata": {
            "tags": []
          },
          "execution_count": 51
        }
      ]
    },
    {
      "cell_type": "code",
      "metadata": {
        "colab": {
          "base_uri": "https://localhost:8080/"
        },
        "id": "0o0ZCqVqxLGu",
        "outputId": "642a0485-634d-429b-8885-19c3bb8908c5"
      },
      "source": [
        "a = np.arange(1, 13).reshape(3, 4)\n",
        "a"
      ],
      "execution_count": 52,
      "outputs": [
        {
          "output_type": "execute_result",
          "data": {
            "text/plain": [
              "array([[ 1,  2,  3,  4],\n",
              "       [ 5,  6,  7,  8],\n",
              "       [ 9, 10, 11, 12]])"
            ]
          },
          "metadata": {
            "tags": []
          },
          "execution_count": 52
        }
      ]
    },
    {
      "cell_type": "code",
      "metadata": {
        "colab": {
          "base_uri": "https://localhost:8080/"
        },
        "id": "0dF0NqxXxPXf",
        "outputId": "e173e756-5844-4a1f-a2ce-122b8917fed0"
      },
      "source": [
        "a.sum()"
      ],
      "execution_count": 53,
      "outputs": [
        {
          "output_type": "execute_result",
          "data": {
            "text/plain": [
              "78"
            ]
          },
          "metadata": {
            "tags": []
          },
          "execution_count": 53
        }
      ]
    },
    {
      "cell_type": "code",
      "metadata": {
        "colab": {
          "base_uri": "https://localhost:8080/"
        },
        "id": "g0ADdaBxxSpP",
        "outputId": "35548b37-4352-4341-adae-a9b89a47e365"
      },
      "source": [
        "# column의 합, row 방향 \n",
        "a.sum(axis=0)"
      ],
      "execution_count": 55,
      "outputs": [
        {
          "output_type": "execute_result",
          "data": {
            "text/plain": [
              "array([15, 18, 21, 24])"
            ]
          },
          "metadata": {
            "tags": []
          },
          "execution_count": 55
        }
      ]
    },
    {
      "cell_type": "code",
      "metadata": {
        "colab": {
          "base_uri": "https://localhost:8080/"
        },
        "id": "QYvv15o3xsDr",
        "outputId": "c37d04f5-dbb4-46cd-fea8-f597a666863b"
      },
      "source": [
        "# row의 합, column 방향\n",
        "a.sum(axis=1)"
      ],
      "execution_count": 56,
      "outputs": [
        {
          "output_type": "execute_result",
          "data": {
            "text/plain": [
              "array([10, 26, 42])"
            ]
          },
          "metadata": {
            "tags": []
          },
          "execution_count": 56
        }
      ]
    },
    {
      "cell_type": "code",
      "metadata": {
        "colab": {
          "base_uri": "https://localhost:8080/"
        },
        "id": "1e1RTja9yFTt",
        "outputId": "0d5c1383-ade1-4e63-c4fe-bec66b9c4bab"
      },
      "source": [
        "b = np.arange(1, 25).reshape(2, 3, 4)\n",
        "b"
      ],
      "execution_count": 57,
      "outputs": [
        {
          "output_type": "execute_result",
          "data": {
            "text/plain": [
              "array([[[ 1,  2,  3,  4],\n",
              "        [ 5,  6,  7,  8],\n",
              "        [ 9, 10, 11, 12]],\n",
              "\n",
              "       [[13, 14, 15, 16],\n",
              "        [17, 18, 19, 20],\n",
              "        [21, 22, 23, 24]]])"
            ]
          },
          "metadata": {
            "tags": []
          },
          "execution_count": 57
        }
      ]
    },
    {
      "cell_type": "code",
      "metadata": {
        "colab": {
          "base_uri": "https://localhost:8080/"
        },
        "id": "Zd2shOh_yOfI",
        "outputId": "45a52705-8a35-4a63-d515-8859a2f484c6"
      },
      "source": [
        "b.sum(axis=0)       # (2, 3, 4) --> (3, 4)"
      ],
      "execution_count": 59,
      "outputs": [
        {
          "output_type": "execute_result",
          "data": {
            "text/plain": [
              "array([[14, 16, 18, 20],\n",
              "       [22, 24, 26, 28],\n",
              "       [30, 32, 34, 36]])"
            ]
          },
          "metadata": {
            "tags": []
          },
          "execution_count": 59
        }
      ]
    },
    {
      "cell_type": "code",
      "metadata": {
        "colab": {
          "base_uri": "https://localhost:8080/"
        },
        "id": "mErCEp25yVES",
        "outputId": "28eb768f-3dc0-4d2c-a8b1-23abf0bf5279"
      },
      "source": [
        "b.sum(axis=1)       # (2, 3, 4) --> (2, 4)"
      ],
      "execution_count": 60,
      "outputs": [
        {
          "output_type": "execute_result",
          "data": {
            "text/plain": [
              "array([[15, 18, 21, 24],\n",
              "       [51, 54, 57, 60]])"
            ]
          },
          "metadata": {
            "tags": []
          },
          "execution_count": 60
        }
      ]
    },
    {
      "cell_type": "code",
      "metadata": {
        "colab": {
          "base_uri": "https://localhost:8080/"
        },
        "id": "N4jHjkadyad0",
        "outputId": "043f7bad-93ae-4145-8068-5ee04327923a"
      },
      "source": [
        "b.sum(axis=2)       # (2, 3, 4) --> (2, 3)"
      ],
      "execution_count": 61,
      "outputs": [
        {
          "output_type": "execute_result",
          "data": {
            "text/plain": [
              "array([[10, 26, 42],\n",
              "       [58, 74, 90]])"
            ]
          },
          "metadata": {
            "tags": []
          },
          "execution_count": 61
        }
      ]
    },
    {
      "cell_type": "markdown",
      "metadata": {
        "id": "ME24aawX1nAO"
      },
      "source": [
        "### 통계, 수학 함수"
      ]
    },
    {
      "cell_type": "code",
      "metadata": {
        "colab": {
          "base_uri": "https://localhost:8080/"
        },
        "id": "1OsiuGUVycMk",
        "outputId": "2cb88c4e-9198-4671-ac95-c6c27dc3ba86"
      },
      "source": [
        "a.mean(), a.var(), a.std()"
      ],
      "execution_count": 64,
      "outputs": [
        {
          "output_type": "execute_result",
          "data": {
            "text/plain": [
              "(6.5, 11.916666666666666, 3.452052529534663)"
            ]
          },
          "metadata": {
            "tags": []
          },
          "execution_count": 64
        }
      ]
    },
    {
      "cell_type": "code",
      "metadata": {
        "colab": {
          "base_uri": "https://localhost:8080/"
        },
        "id": "evPBwMjQ1qrV",
        "outputId": "889e784f-2a94-4592-f699-42ccd09e9dc7"
      },
      "source": [
        "a.mean(), a.mean(axis=0), a.mean(axis=1)"
      ],
      "execution_count": 65,
      "outputs": [
        {
          "output_type": "execute_result",
          "data": {
            "text/plain": [
              "(6.5, array([5., 6., 7., 8.]), array([ 2.5,  6.5, 10.5]))"
            ]
          },
          "metadata": {
            "tags": []
          },
          "execution_count": 65
        }
      ]
    },
    {
      "cell_type": "code",
      "metadata": {
        "colab": {
          "base_uri": "https://localhost:8080/"
        },
        "id": "l6k4EhBQ2ERo",
        "outputId": "98d6d377-6c9f-4d44-cb15-c65bfd304974"
      },
      "source": [
        "np.exp(a)"
      ],
      "execution_count": 66,
      "outputs": [
        {
          "output_type": "execute_result",
          "data": {
            "text/plain": [
              "array([[2.71828183e+00, 7.38905610e+00, 2.00855369e+01, 5.45981500e+01],\n",
              "       [1.48413159e+02, 4.03428793e+02, 1.09663316e+03, 2.98095799e+03],\n",
              "       [8.10308393e+03, 2.20264658e+04, 5.98741417e+04, 1.62754791e+05]])"
            ]
          },
          "metadata": {
            "tags": []
          },
          "execution_count": 66
        }
      ]
    },
    {
      "cell_type": "markdown",
      "metadata": {
        "id": "w4U_o1Vx25tu"
      },
      "source": [
        "### Concatenate"
      ]
    },
    {
      "cell_type": "code",
      "metadata": {
        "colab": {
          "base_uri": "https://localhost:8080/"
        },
        "id": "oGwQbVox2yyW",
        "outputId": "20c4d9e6-0bb3-40d6-a585-b9e7f24b06b5"
      },
      "source": [
        "a = np.arange(1, 5).reshape(2, 2)\n",
        "b = np.arange(5, 7).reshape(1, 2)\n",
        "np.vstack((a, b))"
      ],
      "execution_count": 67,
      "outputs": [
        {
          "output_type": "execute_result",
          "data": {
            "text/plain": [
              "array([[1, 2],\n",
              "       [3, 4],\n",
              "       [5, 6]])"
            ]
          },
          "metadata": {
            "tags": []
          },
          "execution_count": 67
        }
      ]
    },
    {
      "cell_type": "code",
      "metadata": {
        "colab": {
          "base_uri": "https://localhost:8080/"
        },
        "id": "Glg6sGz03Mj1",
        "outputId": "bb45b7de-28b2-4e01-ac2d-0490fb3980ca"
      },
      "source": [
        "np.concatenate((a, b), axis=0)"
      ],
      "execution_count": 68,
      "outputs": [
        {
          "output_type": "execute_result",
          "data": {
            "text/plain": [
              "array([[1, 2],\n",
              "       [3, 4],\n",
              "       [5, 6]])"
            ]
          },
          "metadata": {
            "tags": []
          },
          "execution_count": 68
        }
      ]
    },
    {
      "cell_type": "code",
      "metadata": {
        "colab": {
          "base_uri": "https://localhost:8080/"
        },
        "id": "NMaKYPYl34wl",
        "outputId": "5b12e645-3486-4066-8857-6784faf00c56"
      },
      "source": [
        "# 전치행렬 (Transpose) : (1, 2) -> (2, 1)\n",
        "b.T"
      ],
      "execution_count": 70,
      "outputs": [
        {
          "output_type": "execute_result",
          "data": {
            "text/plain": [
              "array([[5],\n",
              "       [6]])"
            ]
          },
          "metadata": {
            "tags": []
          },
          "execution_count": 70
        }
      ]
    },
    {
      "cell_type": "code",
      "metadata": {
        "colab": {
          "base_uri": "https://localhost:8080/"
        },
        "id": "BbjQ771i3ZbS",
        "outputId": "c7f72062-f89b-477a-f85e-99f82f18c523"
      },
      "source": [
        "np.hstack((a, b.T))"
      ],
      "execution_count": 71,
      "outputs": [
        {
          "output_type": "execute_result",
          "data": {
            "text/plain": [
              "array([[1, 2, 5],\n",
              "       [3, 4, 6]])"
            ]
          },
          "metadata": {
            "tags": []
          },
          "execution_count": 71
        }
      ]
    },
    {
      "cell_type": "code",
      "metadata": {
        "colab": {
          "base_uri": "https://localhost:8080/"
        },
        "id": "zGH_S22N3xbP",
        "outputId": "3608b2e9-5b67-46b3-8697-0c32eb3532cc"
      },
      "source": [
        "np.concatenate((a, b.T), axis=1)"
      ],
      "execution_count": 72,
      "outputs": [
        {
          "output_type": "execute_result",
          "data": {
            "text/plain": [
              "array([[1, 2, 5],\n",
              "       [3, 4, 6]])"
            ]
          },
          "metadata": {
            "tags": []
          },
          "execution_count": 72
        }
      ]
    },
    {
      "cell_type": "code",
      "metadata": {
        "id": "hT5AV4E14Pa5"
      },
      "source": [
        ""
      ],
      "execution_count": null,
      "outputs": []
    }
  ]
}