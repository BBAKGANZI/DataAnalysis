{
  "nbformat": 4,
  "nbformat_minor": 0,
  "metadata": {
    "colab": {
      "name": "01_넘파이1.ipynb",
      "provenance": [],
      "collapsed_sections": []
    },
    "kernelspec": {
      "name": "python3",
      "display_name": "Python 3"
    },
    "language_info": {
      "name": "python"
    }
  },
  "cells": [
    {
      "cell_type": "markdown",
      "metadata": {
        "id": "pQNpzgul7vVz"
      },
      "source": [
        "# Numerical Python(Numpy) - Part 1"
      ]
    },
    {
      "cell_type": "code",
      "metadata": {
        "id": "5z0pCRmm7P2_"
      },
      "source": [
        "# de facto standard (사실상의 표준)\n",
        "import numpy as np          # numpy 기본 명령어"
      ],
      "execution_count": 1,
      "outputs": []
    },
    {
      "cell_type": "code",
      "metadata": {
        "colab": {
          "base_uri": "https://localhost:8080/"
        },
        "id": "KDQxUBovAPWl",
        "outputId": "d954ec4d-a8f7-429c-91db-90f87e4ddd5d"
      },
      "source": [
        "a = [1, 2, 3]\n",
        "a * 3"
      ],
      "execution_count": 2,
      "outputs": [
        {
          "output_type": "execute_result",
          "data": {
            "text/plain": [
              "[1, 2, 3, 1, 2, 3, 1, 2, 3]"
            ]
          },
          "metadata": {
            "tags": []
          },
          "execution_count": 2
        }
      ]
    },
    {
      "cell_type": "code",
      "metadata": {
        "colab": {
          "base_uri": "https://localhost:8080/"
        },
        "id": "5UNQJkaaAhEy",
        "outputId": "a52ef9b2-05cb-4566-a7d2-5513225495fe"
      },
      "source": [
        "list(map(lambda x: 3 * x, a))"
      ],
      "execution_count": 3,
      "outputs": [
        {
          "output_type": "execute_result",
          "data": {
            "text/plain": [
              "[3, 6, 9]"
            ]
          },
          "metadata": {
            "tags": []
          },
          "execution_count": 3
        }
      ]
    },
    {
      "cell_type": "code",
      "metadata": {
        "colab": {
          "base_uri": "https://localhost:8080/"
        },
        "id": "A-DNX0tUAnZk",
        "outputId": "24a7310e-c0ad-4398-9dfe-b3dea6c9a0ac"
      },
      "source": [
        "b = np.array([1, 2, 3])\n",
        "b * 3"
      ],
      "execution_count": 4,
      "outputs": [
        {
          "output_type": "execute_result",
          "data": {
            "text/plain": [
              "array([3, 6, 9])"
            ]
          },
          "metadata": {
            "tags": []
          },
          "execution_count": 4
        }
      ]
    },
    {
      "cell_type": "markdown",
      "metadata": {
        "id": "2P8USZq1Dd1m"
      },
      "source": [
        "## 1. Numpy Dimensional array"
      ]
    },
    {
      "cell_type": "code",
      "metadata": {
        "colab": {
          "base_uri": "https://localhost:8080/"
        },
        "id": "sH93_etzAwMw",
        "outputId": "d70582c7-1d7f-464d-b666-bf4453938d2d"
      },
      "source": [
        "a = np.array([1, 4, 5, 8], float)\n",
        "a"
      ],
      "execution_count": 5,
      "outputs": [
        {
          "output_type": "execute_result",
          "data": {
            "text/plain": [
              "array([1., 4., 5., 8.])"
            ]
          },
          "metadata": {
            "tags": []
          },
          "execution_count": 5
        }
      ]
    },
    {
      "cell_type": "code",
      "metadata": {
        "colab": {
          "base_uri": "https://localhost:8080/"
        },
        "id": "A8apv4jXDudT",
        "outputId": "f3178682-b7c1-4089-d18e-bedd8c15c037"
      },
      "source": [
        "type(a)"
      ],
      "execution_count": 6,
      "outputs": [
        {
          "output_type": "execute_result",
          "data": {
            "text/plain": [
              "numpy.ndarray"
            ]
          },
          "metadata": {
            "tags": []
          },
          "execution_count": 6
        }
      ]
    },
    {
      "cell_type": "code",
      "metadata": {
        "colab": {
          "base_uri": "https://localhost:8080/"
        },
        "id": "qVfL670UD0uI",
        "outputId": "91606132-911b-42a6-8f5f-6389b23a102c"
      },
      "source": [
        "a.dtype, a.shape"
      ],
      "execution_count": 7,
      "outputs": [
        {
          "output_type": "execute_result",
          "data": {
            "text/plain": [
              "(dtype('float64'), (4,))"
            ]
          },
          "metadata": {
            "tags": []
          },
          "execution_count": 7
        }
      ]
    },
    {
      "cell_type": "markdown",
      "metadata": {
        "id": "IfBVqkLBFOAm"
      },
      "source": [
        "## 2. Array shape"
      ]
    },
    {
      "cell_type": "code",
      "metadata": {
        "colab": {
          "base_uri": "https://localhost:8080/"
        },
        "id": "1SKD34GgEHW3",
        "outputId": "0190338c-49bf-4dab-d390-3124d6efce71"
      },
      "source": [
        "# Vector\n",
        "vector = np.array([1, 4, 5, 8])\n",
        "vector"
      ],
      "execution_count": 17,
      "outputs": [
        {
          "output_type": "execute_result",
          "data": {
            "text/plain": [
              "array([1, 4, 5, 8])"
            ]
          },
          "metadata": {
            "tags": []
          },
          "execution_count": 17
        }
      ]
    },
    {
      "cell_type": "code",
      "metadata": {
        "colab": {
          "base_uri": "https://localhost:8080/"
        },
        "id": "9wA5LiV3FYzC",
        "outputId": "4d0b1f62-b4c7-4e3d-fc5d-b3087ffaf7ac"
      },
      "source": [
        "# Vector(1차원)\n",
        "vector = np.array([1, 4, 5, 8])\n",
        "vector.shape"
      ],
      "execution_count": 18,
      "outputs": [
        {
          "output_type": "execute_result",
          "data": {
            "text/plain": [
              "(4,)"
            ]
          },
          "metadata": {
            "tags": []
          },
          "execution_count": 18
        }
      ]
    },
    {
      "cell_type": "code",
      "metadata": {
        "colab": {
          "base_uri": "https://localhost:8080/"
        },
        "id": "Oso3-k6DFh7p",
        "outputId": "c0425d7a-7bc9-47ac-8c2f-c87f9dee6fe0"
      },
      "source": [
        "# Matrix(2차원)\n",
        "matrix = np.array([[1, 2, 3], [4, 5, 6]])\n",
        "print(matrix.shape)\n",
        "matrix"
      ],
      "execution_count": 12,
      "outputs": [
        {
          "output_type": "stream",
          "text": [
            "(2, 3)\n"
          ],
          "name": "stdout"
        },
        {
          "output_type": "execute_result",
          "data": {
            "text/plain": [
              "array([[1, 2, 3],\n",
              "       [4, 5, 6]])"
            ]
          },
          "metadata": {
            "tags": []
          },
          "execution_count": 12
        }
      ]
    },
    {
      "cell_type": "code",
      "metadata": {
        "colab": {
          "base_uri": "https://localhost:8080/"
        },
        "id": "Hkw9y6RfFy6Q",
        "outputId": "61a51a13-e1d4-442f-bf48-be7b51424ebb"
      },
      "source": [
        "print(matrix)"
      ],
      "execution_count": 13,
      "outputs": [
        {
          "output_type": "stream",
          "text": [
            "[[1 2 3]\n",
            " [4 5 6]]\n"
          ],
          "name": "stdout"
        }
      ]
    },
    {
      "cell_type": "code",
      "metadata": {
        "id": "l_auEEjBF_Xz"
      },
      "source": [
        "# Tensor(3차원 이상)\n",
        "tensor = np.array([[[], []], [[], []], [[], []]])"
      ],
      "execution_count": null,
      "outputs": []
    },
    {
      "cell_type": "code",
      "metadata": {
        "colab": {
          "base_uri": "https://localhost:8080/"
        },
        "id": "1_1OLpO8GWr7",
        "outputId": "53a3442b-aa7e-47b3-b6ec-813fcecfd596"
      },
      "source": [
        "tensor = np.arange(1, 25).reshape(2, 3, 4)\n",
        "print(tensor)"
      ],
      "execution_count": 14,
      "outputs": [
        {
          "output_type": "stream",
          "text": [
            "[[[ 1  2  3  4]\n",
            "  [ 5  6  7  8]\n",
            "  [ 9 10 11 12]]\n",
            "\n",
            " [[13 14 15 16]\n",
            "  [17 18 19 20]\n",
            "  [21 22 23 24]]]\n"
          ],
          "name": "stdout"
        }
      ]
    },
    {
      "cell_type": "code",
      "metadata": {
        "colab": {
          "base_uri": "https://localhost:8080/"
        },
        "id": "nU6qjxS1GezY",
        "outputId": "1449519c-ddfa-4ec4-a4bb-f3022ed8aeab"
      },
      "source": [
        "vector.shape, matrix.shape, tensor.shape"
      ],
      "execution_count": 19,
      "outputs": [
        {
          "output_type": "execute_result",
          "data": {
            "text/plain": [
              "((4,), (2, 3), (2, 3, 4))"
            ]
          },
          "metadata": {
            "tags": []
          },
          "execution_count": 19
        }
      ]
    },
    {
      "cell_type": "code",
      "metadata": {
        "colab": {
          "base_uri": "https://localhost:8080/"
        },
        "id": "ovFdNhrNG_rt",
        "outputId": "e1ad81bd-ec0c-4b6c-b1de-b53f145e0947"
      },
      "source": [
        "# element(원소)의 갯수\n",
        "vector.size, matrix.size, tensor.size"
      ],
      "execution_count": 21,
      "outputs": [
        {
          "output_type": "execute_result",
          "data": {
            "text/plain": [
              "(4, 6, 24)"
            ]
          },
          "metadata": {
            "tags": []
          },
          "execution_count": 21
        }
      ]
    },
    {
      "cell_type": "code",
      "metadata": {
        "colab": {
          "base_uri": "https://localhost:8080/"
        },
        "id": "U1L0QqBnHOQ9",
        "outputId": "9440f0a2-eded-4141-8335-e786bcb64e63"
      },
      "source": [
        "# data type\n",
        "# float32: 32bit로 표시 -> single precision(단정도)\n",
        "# float64: 64bit로 표시 -> double precision(배정도)\n",
        "a = np.array([1, 2, 3], dtype=np.float32)\n",
        "a"
      ],
      "execution_count": 22,
      "outputs": [
        {
          "output_type": "execute_result",
          "data": {
            "text/plain": [
              "array([1., 2., 3.], dtype=float32)"
            ]
          },
          "metadata": {
            "tags": []
          },
          "execution_count": 22
        }
      ]
    },
    {
      "cell_type": "code",
      "metadata": {
        "colab": {
          "base_uri": "https://localhost:8080/"
        },
        "id": "jBujwl3SHsep",
        "outputId": "b7fd7b3f-d97b-47d8-d195-9f19a6423543"
      },
      "source": [
        "a = np.array([1, 2, 3], np.float32)         #dtype  제외하여도 상관 없음\n",
        "a"
      ],
      "execution_count": 23,
      "outputs": [
        {
          "output_type": "execute_result",
          "data": {
            "text/plain": [
              "array([1., 2., 3.], dtype=float32)"
            ]
          },
          "metadata": {
            "tags": []
          },
          "execution_count": 23
        }
      ]
    },
    {
      "cell_type": "code",
      "metadata": {
        "colab": {
          "base_uri": "https://localhost:8080/"
        },
        "id": "kcQDq8qbIBHD",
        "outputId": "98f50f88-dd74-4e34-8b23-c8ab01c8a705"
      },
      "source": [
        "b = np.array([1, 2, 3], dtype=np.int16)\n",
        "b"
      ],
      "execution_count": 24,
      "outputs": [
        {
          "output_type": "execute_result",
          "data": {
            "text/plain": [
              "array([1, 2, 3], dtype=int16)"
            ]
          },
          "metadata": {
            "tags": []
          },
          "execution_count": 24
        }
      ]
    },
    {
      "cell_type": "markdown",
      "metadata": {
        "id": "2z0Vau4EIpMX"
      },
      "source": [
        "### reshape"
      ]
    },
    {
      "cell_type": "code",
      "metadata": {
        "colab": {
          "base_uri": "https://localhost:8080/"
        },
        "id": "QXZoet_3IL13",
        "outputId": "b45d7df8-18b9-400f-e30f-29f3036d9f84"
      },
      "source": [
        "matrix.shape"
      ],
      "execution_count": 25,
      "outputs": [
        {
          "output_type": "execute_result",
          "data": {
            "text/plain": [
              "(2, 3)"
            ]
          },
          "metadata": {
            "tags": []
          },
          "execution_count": 25
        }
      ]
    },
    {
      "cell_type": "code",
      "metadata": {
        "colab": {
          "base_uri": "https://localhost:8080/"
        },
        "id": "aDBPRtvRIxg8",
        "outputId": "a6d4a7cc-2cd1-44c4-c940-899a4c4a653a"
      },
      "source": [
        "matrix.reshape(6,)"
      ],
      "execution_count": 26,
      "outputs": [
        {
          "output_type": "execute_result",
          "data": {
            "text/plain": [
              "array([1, 2, 3, 4, 5, 6])"
            ]
          },
          "metadata": {
            "tags": []
          },
          "execution_count": 26
        }
      ]
    },
    {
      "cell_type": "code",
      "metadata": {
        "colab": {
          "base_uri": "https://localhost:8080/"
        },
        "id": "PNCxFqMCI7ik",
        "outputId": "8352585b-2ecb-40f4-8cc1-c0c2b6815163"
      },
      "source": [
        "matrix.reshape(3, 2)"
      ],
      "execution_count": 27,
      "outputs": [
        {
          "output_type": "execute_result",
          "data": {
            "text/plain": [
              "array([[1, 2],\n",
              "       [3, 4],\n",
              "       [5, 6]])"
            ]
          },
          "metadata": {
            "tags": []
          },
          "execution_count": 27
        }
      ]
    },
    {
      "cell_type": "code",
      "metadata": {
        "colab": {
          "base_uri": "https://localhost:8080/"
        },
        "id": "GH4qzJnNJAqM",
        "outputId": "44865777-e761-4fe3-a7bd-525d192eea99"
      },
      "source": [
        "# -1은 numpy가 알아서 맞춰줌 (단, size가 동일)\n",
        "matrix.reshape(-1, )"
      ],
      "execution_count": 28,
      "outputs": [
        {
          "output_type": "execute_result",
          "data": {
            "text/plain": [
              "array([1, 2, 3, 4, 5, 6])"
            ]
          },
          "metadata": {
            "tags": []
          },
          "execution_count": 28
        }
      ]
    },
    {
      "cell_type": "code",
      "metadata": {
        "colab": {
          "base_uri": "https://localhost:8080/"
        },
        "id": "Y9TrVHSyJb-5",
        "outputId": "089a25a9-05ba-4010-f10d-8afed9f4008e"
      },
      "source": [
        "matrix.reshape(3, -1)"
      ],
      "execution_count": 29,
      "outputs": [
        {
          "output_type": "execute_result",
          "data": {
            "text/plain": [
              "array([[1, 2],\n",
              "       [3, 4],\n",
              "       [5, 6]])"
            ]
          },
          "metadata": {
            "tags": []
          },
          "execution_count": 29
        }
      ]
    },
    {
      "cell_type": "code",
      "metadata": {
        "colab": {
          "base_uri": "https://localhost:8080/"
        },
        "id": "R-MPeNd7J_2m",
        "outputId": "60b6371e-3db8-4075-f056-12dce13232c1"
      },
      "source": [
        "matrix.reshape(3, -1).shape"
      ],
      "execution_count": 30,
      "outputs": [
        {
          "output_type": "execute_result",
          "data": {
            "text/plain": [
              "(3, 2)"
            ]
          },
          "metadata": {
            "tags": []
          },
          "execution_count": 30
        }
      ]
    },
    {
      "cell_type": "code",
      "metadata": {
        "colab": {
          "base_uri": "https://localhost:8080/"
        },
        "id": "kSPvcDu1KLtd",
        "outputId": "56cbfe05-e158-49f9-ecdf-fc03a45d361c"
      },
      "source": [
        "tensor.reshape(4, -1).shape"
      ],
      "execution_count": 31,
      "outputs": [
        {
          "output_type": "execute_result",
          "data": {
            "text/plain": [
              "(4, 6)"
            ]
          },
          "metadata": {
            "tags": []
          },
          "execution_count": 31
        }
      ]
    },
    {
      "cell_type": "code",
      "metadata": {
        "colab": {
          "base_uri": "https://localhost:8080/"
        },
        "id": "2n2u9vmmKZC_",
        "outputId": "e47d90b4-cfb3-421c-f516-f76e7a24ebdd"
      },
      "source": [
        "matrix.reshape(-1, )"
      ],
      "execution_count": 32,
      "outputs": [
        {
          "output_type": "execute_result",
          "data": {
            "text/plain": [
              "array([1, 2, 3, 4, 5, 6])"
            ]
          },
          "metadata": {
            "tags": []
          },
          "execution_count": 32
        }
      ]
    },
    {
      "cell_type": "code",
      "metadata": {
        "colab": {
          "base_uri": "https://localhost:8080/"
        },
        "id": "2evQGE3yM7l1",
        "outputId": "86b9e3dc-40dc-4a29-98a2-31cc96e8e69a"
      },
      "source": [
        "matrix.reshape(1, -1)"
      ],
      "execution_count": 33,
      "outputs": [
        {
          "output_type": "execute_result",
          "data": {
            "text/plain": [
              "array([[1, 2, 3, 4, 5, 6]])"
            ]
          },
          "metadata": {
            "tags": []
          },
          "execution_count": 33
        }
      ]
    },
    {
      "cell_type": "code",
      "metadata": {
        "colab": {
          "base_uri": "https://localhost:8080/"
        },
        "id": "T0Zg6xqEM_iR",
        "outputId": "a8e47095-29d3-456a-8540-bb22960a7813"
      },
      "source": [
        "matrix.reshape(-1, 1)"
      ],
      "execution_count": 34,
      "outputs": [
        {
          "output_type": "execute_result",
          "data": {
            "text/plain": [
              "array([[1],\n",
              "       [2],\n",
              "       [3],\n",
              "       [4],\n",
              "       [5],\n",
              "       [6]])"
            ]
          },
          "metadata": {
            "tags": []
          },
          "execution_count": 34
        }
      ]
    },
    {
      "cell_type": "markdown",
      "metadata": {
        "id": "rtHajeWeOAGr"
      },
      "source": [
        "### flatten"
      ]
    },
    {
      "cell_type": "code",
      "metadata": {
        "colab": {
          "base_uri": "https://localhost:8080/"
        },
        "id": "PbYQul3INJ0Z",
        "outputId": "f42f06bb-c039-4ab9-e5fb-600e7a70ae99"
      },
      "source": [
        "tensor.reshape(-1,)"
      ],
      "execution_count": 41,
      "outputs": [
        {
          "output_type": "execute_result",
          "data": {
            "text/plain": [
              "array([ 1,  2,  3,  4,  5,  6,  7,  8,  9, 10, 11, 12, 13, 14, 15, 16, 17,\n",
              "       18, 19, 20, 21, 22, 23, 24])"
            ]
          },
          "metadata": {
            "tags": []
          },
          "execution_count": 41
        }
      ]
    },
    {
      "cell_type": "code",
      "metadata": {
        "colab": {
          "base_uri": "https://localhost:8080/"
        },
        "id": "6l2iKjPyOEap",
        "outputId": "bbabbed0-6c05-4439-b7bb-e36b482a33b1"
      },
      "source": [
        "tensor.flatten()"
      ],
      "execution_count": 37,
      "outputs": [
        {
          "output_type": "execute_result",
          "data": {
            "text/plain": [
              "array([ 1,  2,  3,  4,  5,  6,  7,  8,  9, 10, 11, 12, 13, 14, 15, 16, 17,\n",
              "       18, 19, 20, 21, 22, 23, 24])"
            ]
          },
          "metadata": {
            "tags": []
          },
          "execution_count": 37
        }
      ]
    },
    {
      "cell_type": "markdown",
      "metadata": {
        "id": "HXbAub7_Qj9F"
      },
      "source": [
        "## 3. Indexing & Slicing"
      ]
    },
    {
      "cell_type": "markdown",
      "metadata": {
        "id": "OtEPPUTcQoJ5"
      },
      "source": [
        "### Indexing"
      ]
    },
    {
      "cell_type": "code",
      "metadata": {
        "colab": {
          "base_uri": "https://localhost:8080/"
        },
        "id": "I2qBNpDxOL1N",
        "outputId": "f4c07e18-6ea1-4546-d564-1489a25e4b84"
      },
      "source": [
        "matrix"
      ],
      "execution_count": 39,
      "outputs": [
        {
          "output_type": "execute_result",
          "data": {
            "text/plain": [
              "array([[1, 2, 3],\n",
              "       [4, 5, 6]])"
            ]
          },
          "metadata": {
            "tags": []
          },
          "execution_count": 39
        }
      ]
    },
    {
      "cell_type": "code",
      "metadata": {
        "colab": {
          "base_uri": "https://localhost:8080/"
        },
        "id": "1GPYICbMQxCG",
        "outputId": "a889c9a3-9cc3-4302-f66e-1cb4b390da3c"
      },
      "source": [
        "matrix[0][1]"
      ],
      "execution_count": 40,
      "outputs": [
        {
          "output_type": "execute_result",
          "data": {
            "text/plain": [
              "2"
            ]
          },
          "metadata": {
            "tags": []
          },
          "execution_count": 40
        }
      ]
    },
    {
      "cell_type": "code",
      "metadata": {
        "colab": {
          "base_uri": "https://localhost:8080/"
        },
        "id": "hxIdIGMWQ7-i",
        "outputId": "04d3c158-878c-4c5a-c6a0-50d0d02b8725"
      },
      "source": [
        "tensor[1, 1, 2]"
      ],
      "execution_count": 42,
      "outputs": [
        {
          "output_type": "execute_result",
          "data": {
            "text/plain": [
              "19"
            ]
          },
          "metadata": {
            "tags": []
          },
          "execution_count": 42
        }
      ]
    },
    {
      "cell_type": "markdown",
      "metadata": {
        "id": "1XppVxuNRmZD"
      },
      "source": [
        "Slicing"
      ]
    },
    {
      "cell_type": "code",
      "metadata": {
        "colab": {
          "base_uri": "https://localhost:8080/"
        },
        "id": "BJSiBnyDRlnX",
        "outputId": "95d6836e-9c61-489b-9278-f89d90c8f9ae"
      },
      "source": [
        "b = np.arange(16).reshape(4, -1)\n",
        "b"
      ],
      "execution_count": 43,
      "outputs": [
        {
          "output_type": "execute_result",
          "data": {
            "text/plain": [
              "array([[ 0,  1,  2,  3],\n",
              "       [ 4,  5,  6,  7],\n",
              "       [ 8,  9, 10, 11],\n",
              "       [12, 13, 14, 15]])"
            ]
          },
          "metadata": {
            "tags": []
          },
          "execution_count": 43
        }
      ]
    },
    {
      "cell_type": "code",
      "metadata": {
        "colab": {
          "base_uri": "https://localhost:8080/"
        },
        "id": "H8Kc83tuRuCw",
        "outputId": "294ba89c-18ac-441c-b4cb-7d3dc4e07bb7"
      },
      "source": [
        "# 5, 6, 9, 10 출력\n",
        "b[1:3, 1:3]"
      ],
      "execution_count": 44,
      "outputs": [
        {
          "output_type": "execute_result",
          "data": {
            "text/plain": [
              "array([[ 5,  6],\n",
              "       [ 9, 10]])"
            ]
          },
          "metadata": {
            "tags": []
          },
          "execution_count": 44
        }
      ]
    },
    {
      "cell_type": "code",
      "metadata": {
        "colab": {
          "base_uri": "https://localhost:8080/"
        },
        "id": "pmE8bELeR_d3",
        "outputId": "96e2aefe-775f-4175-c8c6-0ebcfc200221"
      },
      "source": [
        "# 5, 6, 7, 9, 10, 11\n",
        "b[1:3, 1:]"
      ],
      "execution_count": 45,
      "outputs": [
        {
          "output_type": "execute_result",
          "data": {
            "text/plain": [
              "array([[ 5,  6,  7],\n",
              "       [ 9, 10, 11]])"
            ]
          },
          "metadata": {
            "tags": []
          },
          "execution_count": 45
        }
      ]
    },
    {
      "cell_type": "code",
      "metadata": {
        "colab": {
          "base_uri": "https://localhost:8080/"
        },
        "id": "Wo1e9qW4SXSF",
        "outputId": "9f48866d-819b-4592-e0cd-6abdc123b46f"
      },
      "source": [
        "# 1, 3, 9, 11\n",
        "b[::2, 1::2]"
      ],
      "execution_count": 46,
      "outputs": [
        {
          "output_type": "execute_result",
          "data": {
            "text/plain": [
              "array([[ 1,  3],\n",
              "       [ 9, 11]])"
            ]
          },
          "metadata": {
            "tags": []
          },
          "execution_count": 46
        }
      ]
    },
    {
      "cell_type": "code",
      "metadata": {
        "colab": {
          "base_uri": "https://localhost:8080/"
        },
        "id": "J9WV0bpwSu2-",
        "outputId": "eea1d996-6915-48a8-a720-d612f8be5a7c"
      },
      "source": [
        "# X는 앞에 3열, y는 마지막 열\n",
        "X, y = b[:, :-1], b[:, -1]      # 3열(마지막열 전), -1(마지막열)\n",
        "X.shape, y.shape"
      ],
      "execution_count": 47,
      "outputs": [
        {
          "output_type": "execute_result",
          "data": {
            "text/plain": [
              "((4, 3), (4,))"
            ]
          },
          "metadata": {
            "tags": []
          },
          "execution_count": 47
        }
      ]
    },
    {
      "cell_type": "code",
      "metadata": {
        "id": "FyjkeCC_UKMz"
      },
      "source": [
        ""
      ],
      "execution_count": null,
      "outputs": []
    }
  ]
}