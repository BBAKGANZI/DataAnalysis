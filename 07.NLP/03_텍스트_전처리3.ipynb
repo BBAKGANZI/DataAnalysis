{
  "nbformat": 4,
  "nbformat_minor": 0,
  "metadata": {
    "colab": {
      "name": "03_텍스트_전처리3.ipynb",
      "provenance": [],
      "collapsed_sections": []
    },
    "kernelspec": {
      "name": "python3",
      "display_name": "Python 3"
    },
    "language_info": {
      "name": "python"
    }
  },
  "cells": [
    {
      "cell_type": "markdown",
      "metadata": {
        "id": "aepOAdQr_L5L"
      },
      "source": [
        "## 6. 정수 인코딩\n",
        "\n",
        "### 1) Counter 사용하기"
      ]
    },
    {
      "cell_type": "code",
      "metadata": {
        "id": "D281R1UF_JV3"
      },
      "source": [
        "from collections import Counter"
      ],
      "execution_count": 1,
      "outputs": []
    },
    {
      "cell_type": "code",
      "metadata": {
        "id": "SSWSgR-0_mzP"
      },
      "source": [
        "sentences =[\n",
        "    ['barber', 'person'],\n",
        "    ['barber', 'good', 'person'], \n",
        "    ['barber', 'huge', 'person'], \n",
        "    ['knew', 'secret'], \n",
        "    ['secret', 'kept', 'huge', 'secret'],\n",
        "    ['huge', 'secret'], \n",
        "    ['barber', 'kept', 'word'], \n",
        "    ['barber', 'kept', 'word'], \n",
        "    ['barber', 'kept', 'secret'], \n",
        "    ['keeping', 'keeping', 'huge', 'secret', 'driving', 'barber', 'crazy'], \n",
        "    ['barber', 'went', 'huge', 'mountain']\n",
        "]"
      ],
      "execution_count": 15,
      "outputs": []
    },
    {
      "cell_type": "code",
      "metadata": {
        "colab": {
          "base_uri": "https://localhost:8080/"
        },
        "id": "p7mw5ln1_WP3",
        "outputId": "2f7dd615-c172-4781-cf55-1148833b4f99"
      },
      "source": [
        "words = sum(sentences, [])\n",
        "print(words)"
      ],
      "execution_count": 17,
      "outputs": [
        {
          "output_type": "stream",
          "text": [
            "['barber', 'person', 'barber', 'good', 'person', 'barber', 'huge', 'person', 'knew', 'secret', 'secret', 'kept', 'huge', 'secret', 'huge', 'secret', 'barber', 'kept', 'word', 'barber', 'kept', 'word', 'barber', 'kept', 'secret', 'keeping', 'keeping', 'huge', 'secret', 'driving', 'barber', 'crazy', 'barber', 'went', 'huge', 'mountain']\n"
          ],
          "name": "stdout"
        }
      ]
    },
    {
      "cell_type": "code",
      "metadata": {
        "colab": {
          "base_uri": "https://localhost:8080/"
        },
        "id": "581RAy54_ipz",
        "outputId": "fc0c1b8c-d527-4769-f0dd-c0c34abe18c3"
      },
      "source": [
        "vocab = Counter(words)\n",
        "vocab"
      ],
      "execution_count": 18,
      "outputs": [
        {
          "output_type": "execute_result",
          "data": {
            "text/plain": [
              "Counter({'barber': 8,\n",
              "         'crazy': 1,\n",
              "         'driving': 1,\n",
              "         'good': 1,\n",
              "         'huge': 5,\n",
              "         'keeping': 2,\n",
              "         'kept': 4,\n",
              "         'knew': 1,\n",
              "         'mountain': 1,\n",
              "         'person': 3,\n",
              "         'secret': 6,\n",
              "         'went': 1,\n",
              "         'word': 2})"
            ]
          },
          "metadata": {},
          "execution_count": 18
        }
      ]
    },
    {
      "cell_type": "code",
      "metadata": {
        "colab": {
          "base_uri": "https://localhost:8080/"
        },
        "id": "X48EU5fh_33E",
        "outputId": "e74aaabd-1102-469f-f264-98f77329d0ea"
      },
      "source": [
        "vocab.most_common(5)"
      ],
      "execution_count": 20,
      "outputs": [
        {
          "output_type": "execute_result",
          "data": {
            "text/plain": [
              "[('barber', 8), ('secret', 6), ('huge', 5), ('kept', 4), ('person', 3)]"
            ]
          },
          "metadata": {},
          "execution_count": 20
        }
      ]
    },
    {
      "cell_type": "code",
      "metadata": {
        "colab": {
          "base_uri": "https://localhost:8080/"
        },
        "id": "L6EoF1c-AMtL",
        "outputId": "0a9b7b9a-7c6c-44c4-85e6-b13a088223a5"
      },
      "source": [
        "top5 = vocab.most_common(5)\n",
        "top5"
      ],
      "execution_count": 21,
      "outputs": [
        {
          "output_type": "execute_result",
          "data": {
            "text/plain": [
              "[('barber', 8), ('secret', 6), ('huge', 5), ('kept', 4), ('person', 3)]"
            ]
          },
          "metadata": {},
          "execution_count": 21
        }
      ]
    },
    {
      "cell_type": "code",
      "metadata": {
        "colab": {
          "base_uri": "https://localhost:8080/"
        },
        "id": "ylWcTeUkAbDK",
        "outputId": "16d3aed4-1edd-45fc-9291-c9a387cb8f47"
      },
      "source": [
        "word_to_index = {}\n",
        "i = 0\n",
        "for word, freq in top5:\n",
        "    i += 1\n",
        "    word_to_index[word] = i\n",
        "word_to_index"
      ],
      "execution_count": 22,
      "outputs": [
        {
          "output_type": "execute_result",
          "data": {
            "text/plain": [
              "{'barber': 1, 'huge': 3, 'kept': 4, 'person': 5, 'secret': 2}"
            ]
          },
          "metadata": {},
          "execution_count": 22
        }
      ]
    },
    {
      "cell_type": "markdown",
      "metadata": {
        "id": "XiwhHVlnBOxZ"
      },
      "source": [
        "### 2) NLTK의 FreqDist 사용하기"
      ]
    },
    {
      "cell_type": "code",
      "metadata": {
        "id": "9JW38cwrBVx0"
      },
      "source": [
        "from nltk import FreqDist\n",
        "import numpy as np"
      ],
      "execution_count": 7,
      "outputs": []
    },
    {
      "cell_type": "code",
      "metadata": {
        "colab": {
          "base_uri": "https://localhost:8080/"
        },
        "id": "-MHfo4XGBrIV",
        "outputId": "d3c611fe-f713-444d-a84d-44b610727e4f"
      },
      "source": [
        "vocab = FreqDist(words)\n",
        "vocab['barber']"
      ],
      "execution_count": 23,
      "outputs": [
        {
          "output_type": "execute_result",
          "data": {
            "text/plain": [
              "8"
            ]
          },
          "metadata": {},
          "execution_count": 23
        }
      ]
    },
    {
      "cell_type": "code",
      "metadata": {
        "colab": {
          "base_uri": "https://localhost:8080/"
        },
        "id": "ScyQtAXGCFh2",
        "outputId": "b3bbeaa6-86c0-4b15-964a-8bf3dfd9d87c"
      },
      "source": [
        "top5 = vocab.most_common(5)\n",
        "top5"
      ],
      "execution_count": 24,
      "outputs": [
        {
          "output_type": "execute_result",
          "data": {
            "text/plain": [
              "[('barber', 8), ('secret', 6), ('huge', 5), ('kept', 4), ('person', 3)]"
            ]
          },
          "metadata": {},
          "execution_count": 24
        }
      ]
    },
    {
      "cell_type": "code",
      "metadata": {
        "colab": {
          "base_uri": "https://localhost:8080/"
        },
        "id": "Sp31bGAYCFfr",
        "outputId": "f13f5809-83a9-4a37-b9f6-de5bd1670207"
      },
      "source": [
        "word_to_index = {}\n",
        "\n",
        "for i, word in enumerate(top5):\n",
        "    word_to_index[word[0]] = i+1\n",
        "word_to_index"
      ],
      "execution_count": 25,
      "outputs": [
        {
          "output_type": "execute_result",
          "data": {
            "text/plain": [
              "{'barber': 1, 'huge': 3, 'kept': 4, 'person': 5, 'secret': 2}"
            ]
          },
          "metadata": {},
          "execution_count": 25
        }
      ]
    },
    {
      "cell_type": "code",
      "metadata": {
        "colab": {
          "base_uri": "https://localhost:8080/"
        },
        "id": "7ilYba3BDaqB",
        "outputId": "a0494f53-e244-4eca-eedd-64d62258bc19"
      },
      "source": [
        "word_to_index = {word[0]: i+1 for i, word in enumerate(top5)}\n",
        "word_to_index"
      ],
      "execution_count": 32,
      "outputs": [
        {
          "output_type": "execute_result",
          "data": {
            "text/plain": [
              "{'barber': 1, 'huge': 3, 'kept': 4, 'person': 5, 'secret': 2}"
            ]
          },
          "metadata": {},
          "execution_count": 32
        }
      ]
    },
    {
      "cell_type": "markdown",
      "metadata": {
        "id": "H1CgSR7kD4wg"
      },
      "source": [
        "### 3) Keras 텍스트 전처리"
      ]
    },
    {
      "cell_type": "code",
      "metadata": {
        "id": "P_9anGW2D7G-"
      },
      "source": [
        "from tensorflow.keras.preprocessing.text import Tokenizer\n",
        "tokenizer = Tokenizer()"
      ],
      "execution_count": 13,
      "outputs": []
    },
    {
      "cell_type": "code",
      "metadata": {
        "colab": {
          "base_uri": "https://localhost:8080/"
        },
        "id": "MAzTQ_rIFsab",
        "outputId": "a1364e0f-fea8-4ad7-e52b-995f58764749"
      },
      "source": [
        "tokenizer.fit_on_texts(sentences)\n",
        "tokenizer.word_index"
      ],
      "execution_count": 27,
      "outputs": [
        {
          "output_type": "execute_result",
          "data": {
            "text/plain": [
              "{'barber': 1,\n",
              " 'crazy': 11,\n",
              " 'driving': 10,\n",
              " 'good': 8,\n",
              " 'huge': 3,\n",
              " 'keeping': 7,\n",
              " 'kept': 4,\n",
              " 'knew': 9,\n",
              " 'mountain': 13,\n",
              " 'person': 5,\n",
              " 'secret': 2,\n",
              " 'went': 12,\n",
              " 'word': 6}"
            ]
          },
          "metadata": {},
          "execution_count": 27
        }
      ]
    },
    {
      "cell_type": "code",
      "metadata": {
        "colab": {
          "base_uri": "https://localhost:8080/"
        },
        "id": "p4tzTZHAGXd3",
        "outputId": "7e1c8e02-aa2d-471f-c8b8-898215a6f678"
      },
      "source": [
        "tokenizer.word_counts"
      ],
      "execution_count": 28,
      "outputs": [
        {
          "output_type": "execute_result",
          "data": {
            "text/plain": [
              "OrderedDict([('barber', 8),\n",
              "             ('person', 3),\n",
              "             ('good', 1),\n",
              "             ('huge', 5),\n",
              "             ('knew', 1),\n",
              "             ('secret', 6),\n",
              "             ('kept', 4),\n",
              "             ('word', 2),\n",
              "             ('keeping', 2),\n",
              "             ('driving', 1),\n",
              "             ('crazy', 1),\n",
              "             ('went', 1),\n",
              "             ('mountain', 1)])"
            ]
          },
          "metadata": {},
          "execution_count": 28
        }
      ]
    },
    {
      "cell_type": "code",
      "metadata": {
        "colab": {
          "base_uri": "https://localhost:8080/"
        },
        "id": "QfJAxy6DG3t8",
        "outputId": "263d5788-baaf-4062-daf9-bd22f1f532d0"
      },
      "source": [
        "tokenizer.texts_to_sequences(sentences)"
      ],
      "execution_count": 29,
      "outputs": [
        {
          "output_type": "execute_result",
          "data": {
            "text/plain": [
              "[[1, 5],\n",
              " [1, 8, 5],\n",
              " [1, 3, 5],\n",
              " [9, 2],\n",
              " [2, 4, 3, 2],\n",
              " [3, 2],\n",
              " [1, 4, 6],\n",
              " [1, 4, 6],\n",
              " [1, 4, 2],\n",
              " [7, 7, 3, 2, 10, 1, 11],\n",
              " [1, 12, 3, 13]]"
            ]
          },
          "metadata": {},
          "execution_count": 29
        }
      ]
    },
    {
      "cell_type": "markdown",
      "metadata": {
        "id": "piNlFHLiITOU"
      },
      "source": [
        "- 단어 빈도수 Top5만 제대로 표시하고, 나머지는 OOV값(1)으로 표시"
      ]
    },
    {
      "cell_type": "code",
      "metadata": {
        "id": "ToMOWTjZG7Jr"
      },
      "source": [
        "vocab_size = 5\n",
        "tokenizer = Tokenizer(num_words = vocab_size + 2, oov_token = 'OOV')\n",
        "# 빈도수 상위 5개 단어만 사용. 숫자 0과 OOV를 고려해서 단어 집합의 크기는 +2\n",
        "tokenizer.fit_on_texts(sentences)"
      ],
      "execution_count": 33,
      "outputs": []
    },
    {
      "cell_type": "code",
      "metadata": {
        "colab": {
          "base_uri": "https://localhost:8080/"
        },
        "id": "uKlpkQu5HiCX",
        "outputId": "8ffeda42-5d90-4f7a-847e-638bb0fe2860"
      },
      "source": [
        "tokenizer.texts_to_sequences(sentences)"
      ],
      "execution_count": 34,
      "outputs": [
        {
          "output_type": "execute_result",
          "data": {
            "text/plain": [
              "[[2, 6],\n",
              " [2, 1, 6],\n",
              " [2, 4, 6],\n",
              " [1, 3],\n",
              " [3, 5, 4, 3],\n",
              " [4, 3],\n",
              " [2, 5, 1],\n",
              " [2, 5, 1],\n",
              " [2, 5, 3],\n",
              " [1, 1, 4, 3, 1, 2, 1],\n",
              " [2, 1, 4, 1]]"
            ]
          },
          "metadata": {},
          "execution_count": 34
        }
      ]
    },
    {
      "cell_type": "code",
      "metadata": {
        "colab": {
          "base_uri": "https://localhost:8080/"
        },
        "id": "9iLEe_RyH-2D",
        "outputId": "35b63294-4a67-482a-9213-e90a087eca2e"
      },
      "source": [
        "tokenizer.word_index"
      ],
      "execution_count": 36,
      "outputs": [
        {
          "output_type": "execute_result",
          "data": {
            "text/plain": [
              "{'OOV': 1,\n",
              " 'barber': 2,\n",
              " 'crazy': 12,\n",
              " 'driving': 11,\n",
              " 'good': 9,\n",
              " 'huge': 4,\n",
              " 'keeping': 8,\n",
              " 'kept': 5,\n",
              " 'knew': 10,\n",
              " 'mountain': 14,\n",
              " 'person': 6,\n",
              " 'secret': 3,\n",
              " 'went': 13,\n",
              " 'word': 7}"
            ]
          },
          "metadata": {},
          "execution_count": 36
        }
      ]
    },
    {
      "cell_type": "code",
      "metadata": {
        "id": "t8F2GtnYIbte"
      },
      "source": [
        ""
      ],
      "execution_count": null,
      "outputs": []
    }
  ]
}