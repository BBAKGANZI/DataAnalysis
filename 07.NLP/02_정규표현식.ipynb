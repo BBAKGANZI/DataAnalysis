{
  "nbformat": 4,
  "nbformat_minor": 0,
  "metadata": {
    "colab": {
      "name": "02_정규표현식.ipynb",
      "provenance": [],
      "collapsed_sections": []
    },
    "kernelspec": {
      "name": "python3",
      "display_name": "Python 3"
    },
    "language_info": {
      "name": "python"
    }
  },
  "cells": [
    {
      "cell_type": "markdown",
      "metadata": {
        "id": "9Ex2i_9-cbbP"
      },
      "source": [
        "# 정규 표현식"
      ]
    },
    {
      "cell_type": "code",
      "metadata": {
        "id": "uEs_Glk6Z5lK"
      },
      "source": [
        "import re"
      ],
      "execution_count": 1,
      "outputs": []
    },
    {
      "cell_type": "markdown",
      "metadata": {
        "id": "yyDLbAsre2HM"
      },
      "source": [
        "## 1. 정규표현식 실습"
      ]
    },
    {
      "cell_type": "markdown",
      "metadata": {
        "id": "VpHbBITlfFb5"
      },
      "source": [
        "- 기호: 한 개의 임의의 문자"
      ]
    },
    {
      "cell_type": "code",
      "metadata": {
        "id": "7bVIJQxxerua"
      },
      "source": [
        "re.search('a.c', 'kkk')"
      ],
      "execution_count": 3,
      "outputs": []
    },
    {
      "cell_type": "code",
      "metadata": {
        "colab": {
          "base_uri": "https://localhost:8080/"
        },
        "id": "f9yK-qxgfIG4",
        "outputId": "bc6eb5e1-1687-4f7f-f7d9-8cee2a75a6f8"
      },
      "source": [
        "re.search('a.c', 'abc')"
      ],
      "execution_count": 4,
      "outputs": [
        {
          "output_type": "execute_result",
          "data": {
            "text/plain": [
              "<re.Match object; span=(0, 3), match='abc'>"
            ]
          },
          "metadata": {},
          "execution_count": 4
        }
      ]
    },
    {
      "cell_type": "markdown",
      "metadata": {
        "id": "aAJi_LoFfiz8"
      },
      "source": [
        "- ? 기호: 문자가 0개 또는 1개"
      ]
    },
    {
      "cell_type": "code",
      "metadata": {
        "id": "5giuFlmzfMXe"
      },
      "source": [
        "r = re.compile('ab?c')\n",
        "r.search('abbc')"
      ],
      "execution_count": 5,
      "outputs": []
    },
    {
      "cell_type": "code",
      "metadata": {
        "colab": {
          "base_uri": "https://localhost:8080/"
        },
        "id": "Z4Elo5sifqAP",
        "outputId": "fcf596a6-5949-4820-a9e2-8b0e67314841"
      },
      "source": [
        "r.search('abc')"
      ],
      "execution_count": 6,
      "outputs": [
        {
          "output_type": "execute_result",
          "data": {
            "text/plain": [
              "<re.Match object; span=(0, 3), match='abc'>"
            ]
          },
          "metadata": {},
          "execution_count": 6
        }
      ]
    },
    {
      "cell_type": "code",
      "metadata": {
        "colab": {
          "base_uri": "https://localhost:8080/"
        },
        "id": "AW5dFtR3fsC8",
        "outputId": "1e0ed313-5a7d-41a2-ab79-ef5d73974aa5"
      },
      "source": [
        "r.search('ac')"
      ],
      "execution_count": 7,
      "outputs": [
        {
          "output_type": "execute_result",
          "data": {
            "text/plain": [
              "<re.Match object; span=(0, 2), match='ac'>"
            ]
          },
          "metadata": {},
          "execution_count": 7
        }
      ]
    },
    {
      "cell_type": "markdown",
      "metadata": {
        "id": "FQ7-IebVxSt9"
      },
      "source": [
        "- \\* 기호: 바로 앞의 문자가 0개 이상일 경우"
      ]
    },
    {
      "cell_type": "code",
      "metadata": {
        "id": "AEPRD1K4xRZQ"
      },
      "source": [
        "r = re.compile(\"ab*c\")\n",
        "r.search('a')"
      ],
      "execution_count": 8,
      "outputs": []
    },
    {
      "cell_type": "code",
      "metadata": {
        "colab": {
          "base_uri": "https://localhost:8080/"
        },
        "id": "1dnXiLWExl8S",
        "outputId": "f958c6c5-d44b-42da-b275-e6ac395904c6"
      },
      "source": [
        "r.search('ac')"
      ],
      "execution_count": 9,
      "outputs": [
        {
          "output_type": "execute_result",
          "data": {
            "text/plain": [
              "<re.Match object; span=(0, 2), match='ac'>"
            ]
          },
          "metadata": {},
          "execution_count": 9
        }
      ]
    },
    {
      "cell_type": "code",
      "metadata": {
        "colab": {
          "base_uri": "https://localhost:8080/"
        },
        "id": "znVz1Lw4xnuY",
        "outputId": "3ddf0ad6-49fb-42a5-fc04-180a56333604"
      },
      "source": [
        "r.search('abbbbc')"
      ],
      "execution_count": 10,
      "outputs": [
        {
          "output_type": "execute_result",
          "data": {
            "text/plain": [
              "<re.Match object; span=(0, 6), match='abbbbc'>"
            ]
          },
          "metadata": {},
          "execution_count": 10
        }
      ]
    },
    {
      "cell_type": "markdown",
      "metadata": {
        "id": "SraCrz4vxrPQ"
      },
      "source": [
        "- \\+ 기호: 앞의 문자가 최소 1개 이상"
      ]
    },
    {
      "cell_type": "code",
      "metadata": {
        "id": "jzRSbm6uxqAV"
      },
      "source": [
        "r = re.compile(\"ab+c\")\n",
        "r.search('ac')"
      ],
      "execution_count": 11,
      "outputs": []
    },
    {
      "cell_type": "code",
      "metadata": {
        "colab": {
          "base_uri": "https://localhost:8080/"
        },
        "id": "-qoINZJVx86i",
        "outputId": "420d60e2-e76a-4165-9124-56fd306fe625"
      },
      "source": [
        "r.search('abbbbc')"
      ],
      "execution_count": 12,
      "outputs": [
        {
          "output_type": "execute_result",
          "data": {
            "text/plain": [
              "<re.Match object; span=(0, 6), match='abbbbc'>"
            ]
          },
          "metadata": {},
          "execution_count": 12
        }
      ]
    },
    {
      "cell_type": "markdown",
      "metadata": {
        "id": "WQMURrnVyF_8"
      },
      "source": [
        "- ^ 기호: 시작되는 글자를 지정"
      ]
    },
    {
      "cell_type": "code",
      "metadata": {
        "id": "AmuBeTS9x_64"
      },
      "source": [
        "re.search('^a', 'bbc')"
      ],
      "execution_count": 14,
      "outputs": []
    },
    {
      "cell_type": "code",
      "metadata": {
        "colab": {
          "base_uri": "https://localhost:8080/"
        },
        "id": "1obWpjHwyEs0",
        "outputId": "0152cd88-b9b8-4593-bfa1-3c89cf4a3208"
      },
      "source": [
        "re.search('^a', 'ab')"
      ],
      "execution_count": 15,
      "outputs": [
        {
          "output_type": "execute_result",
          "data": {
            "text/plain": [
              "<re.Match object; span=(0, 1), match='a'>"
            ]
          },
          "metadata": {},
          "execution_count": 15
        }
      ]
    },
    {
      "cell_type": "markdown",
      "metadata": {
        "id": "quiXZGEoyWI1"
      },
      "source": [
        "- {숫자} 기호: 해당 문자를 숫자만큼 반복한 것"
      ]
    },
    {
      "cell_type": "code",
      "metadata": {
        "id": "atUJLjd3yP0A"
      },
      "source": [
        "r = re.compile(\"ab{2}c\")\n",
        "r.search(\"ac\")      # 아무런 결과도 출력되지 않는다.\n",
        "r.search(\"abc\")     # 아무런 결과도 출력되지 않는다."
      ],
      "execution_count": 16,
      "outputs": []
    },
    {
      "cell_type": "code",
      "metadata": {
        "colab": {
          "base_uri": "https://localhost:8080/"
        },
        "id": "MDnowYNEyjyZ",
        "outputId": "cdb4267d-d755-40d0-c764-81ae00482bbe"
      },
      "source": [
        "r.search(\"abbc\")"
      ],
      "execution_count": 17,
      "outputs": [
        {
          "output_type": "execute_result",
          "data": {
            "text/plain": [
              "<re.Match object; span=(0, 4), match='abbc'>"
            ]
          },
          "metadata": {},
          "execution_count": 17
        }
      ]
    },
    {
      "cell_type": "markdown",
      "metadata": {
        "id": "DLannlcHytO-"
      },
      "source": [
        "- {숫자1, 숫자2} 기호: 해당 문자를 숫자1 이상 숫자2 이하만큼 반복"
      ]
    },
    {
      "cell_type": "code",
      "metadata": {
        "id": "TqxD5f2ryln-"
      },
      "source": [
        "r = re.compile(\"ab{2,8}c\")\n",
        "r.search(\"ac\")      # 아무런 결과도 출력되지 않는다.\n",
        "r.search(\"abc\")     # 아무런 결과도 출력되지 않는다."
      ],
      "execution_count": 18,
      "outputs": []
    },
    {
      "cell_type": "code",
      "metadata": {
        "colab": {
          "base_uri": "https://localhost:8080/"
        },
        "id": "Yero8vR-y-zF",
        "outputId": "3f5ddce9-4211-4263-b5ea-04c8010a47ae"
      },
      "source": [
        "r.search('abbbbbc')"
      ],
      "execution_count": 19,
      "outputs": [
        {
          "output_type": "execute_result",
          "data": {
            "text/plain": [
              "<re.Match object; span=(0, 7), match='abbbbbc'>"
            ]
          },
          "metadata": {},
          "execution_count": 19
        }
      ]
    },
    {
      "cell_type": "markdown",
      "metadata": {
        "id": "m-W4nHA9zHrI"
      },
      "source": [
        "- \\[ ] 기호: 문자들 중 한ㄱ 개의 문자와 매치라는 **의미**"
      ]
    },
    {
      "cell_type": "code",
      "metadata": {
        "id": "lvW2owMhzBTj"
      },
      "source": [
        "r = re.compile(\"[abc]\")     # [abc]는 [a-c]와 같다.\n",
        "r.search(\"zzz\")"
      ],
      "execution_count": 20,
      "outputs": []
    },
    {
      "cell_type": "code",
      "metadata": {
        "colab": {
          "base_uri": "https://localhost:8080/"
        },
        "id": "MSr_60U7zU2y",
        "outputId": "1a31c2e1-2b36-4d8e-fa08-b4455096888c"
      },
      "source": [
        "r.search(\"baac\")"
      ],
      "execution_count": 21,
      "outputs": [
        {
          "output_type": "execute_result",
          "data": {
            "text/plain": [
              "<re.Match object; span=(0, 1), match='b'>"
            ]
          },
          "metadata": {},
          "execution_count": 21
        }
      ]
    },
    {
      "cell_type": "code",
      "metadata": {
        "id": "8zn98xHpzWkx"
      },
      "source": [
        "# 소문자\n",
        "re.search('[a-z]', 'ABC')"
      ],
      "execution_count": 23,
      "outputs": []
    },
    {
      "cell_type": "code",
      "metadata": {
        "colab": {
          "base_uri": "https://localhost:8080/"
        },
        "id": "Kc9HIq71ziSV",
        "outputId": "2293cabb-e379-4daa-e3be-5b78b529f345"
      },
      "source": [
        "re.search('[a-z]', 'AbC')"
      ],
      "execution_count": 24,
      "outputs": [
        {
          "output_type": "execute_result",
          "data": {
            "text/plain": [
              "<re.Match object; span=(1, 2), match='b'>"
            ]
          },
          "metadata": {},
          "execution_count": 24
        }
      ]
    },
    {
      "cell_type": "code",
      "metadata": {
        "id": "xnGx7kIG0Q28"
      },
      "source": [
        "# 문자 또는 숫자\n",
        "re.search('[0-9A-Za-z]', '$%^&')\n",
        "re.search('\\w', '$%^&')"
      ],
      "execution_count": 30,
      "outputs": []
    },
    {
      "cell_type": "markdown",
      "metadata": {
        "id": "sBYIlik4z0ux"
      },
      "source": [
        "- [^문자] 기호: ^ 기호 뒤에 붙은 문자들을 제외한 모든 문자를 매치"
      ]
    },
    {
      "cell_type": "code",
      "metadata": {
        "id": "OSYzqMWDzqTO"
      },
      "source": [
        "r = re.compile(\"[^abc]\")\n",
        "r.search(\"a\")       # 아무런 결과도 출력되지 않는다.\n",
        "r.search(\"ab\")      # 아무런 결과도 출력되지 않는다.\n",
        "r.search(\"b\")       # 아무런 결과도 출력되지 않는다."
      ],
      "execution_count": 28,
      "outputs": []
    },
    {
      "cell_type": "code",
      "metadata": {
        "colab": {
          "base_uri": "https://localhost:8080/"
        },
        "id": "V1x1oiMV0LAV",
        "outputId": "e042a48f-8f34-4d7d-8b58-e7f771d6265c"
      },
      "source": [
        "r.search('d1')"
      ],
      "execution_count": 29,
      "outputs": [
        {
          "output_type": "execute_result",
          "data": {
            "text/plain": [
              "<re.Match object; span=(0, 1), match='d'>"
            ]
          },
          "metadata": {},
          "execution_count": 29
        }
      ]
    },
    {
      "cell_type": "code",
      "metadata": {
        "colab": {
          "base_uri": "https://localhost:8080/",
          "height": 35
        },
        "id": "RFTwX8en0PMp",
        "outputId": "ea510876-0054-466c-9ffd-c0a79a2b3432"
      },
      "source": [
        "# 한글과 공백을 제외한 모든 문자를 제거\n",
        "re.sub('[^ㄱ-ㅎㅏ-ㅣ가-힣 ]', '', '한글과 공백을 제외한 모든 문자를 제거')"
      ],
      "execution_count": 31,
      "outputs": [
        {
          "output_type": "execute_result",
          "data": {
            "application/vnd.google.colaboratory.intrinsic+json": {
              "type": "string"
            },
            "text/plain": [
              "'한글과 공백을 제외한 모든 문자를 제거'"
            ]
          },
          "metadata": {},
          "execution_count": 31
        }
      ]
    },
    {
      "cell_type": "markdown",
      "metadata": {
        "id": "8ExcfQM31ne-"
      },
      "source": [
        "## 2. re 모듈 함수"
      ]
    },
    {
      "cell_type": "code",
      "metadata": {
        "id": "q17sebxQ1gJ0"
      },
      "source": [
        "re.match('ab.', 'kkkabc')"
      ],
      "execution_count": 32,
      "outputs": []
    },
    {
      "cell_type": "code",
      "metadata": {
        "colab": {
          "base_uri": "https://localhost:8080/"
        },
        "id": "bhIBIltZ17T8",
        "outputId": "bab923d0-ed82-439d-b07b-5bf538f1f989"
      },
      "source": [
        "re.search('ab.', 'kkkabc')"
      ],
      "execution_count": 33,
      "outputs": [
        {
          "output_type": "execute_result",
          "data": {
            "text/plain": [
              "<re.Match object; span=(3, 6), match='abc'>"
            ]
          },
          "metadata": {},
          "execution_count": 33
        }
      ]
    },
    {
      "cell_type": "markdown",
      "metadata": {
        "id": "coeLrEx52Ihk"
      },
      "source": [
        "- re.split()"
      ]
    },
    {
      "cell_type": "code",
      "metadata": {
        "colab": {
          "base_uri": "https://localhost:8080/"
        },
        "id": "aw4rNZK_2ADC",
        "outputId": "96317cac-3e36-47cf-c775-21d197960633"
      },
      "source": [
        "text=\"사과 딸기 수박 메론 바나나\"\n",
        "re.split(\" \", text)"
      ],
      "execution_count": 35,
      "outputs": [
        {
          "output_type": "execute_result",
          "data": {
            "text/plain": [
              "['사과', '딸기', '수박', '메론', '바나나']"
            ]
          },
          "metadata": {},
          "execution_count": 35
        }
      ]
    },
    {
      "cell_type": "code",
      "metadata": {
        "colab": {
          "base_uri": "https://localhost:8080/"
        },
        "id": "wH1GO6hP2STy",
        "outputId": "c1483ed0-bf77-40b8-9f71-40398eb66f37"
      },
      "source": [
        "text.split()"
      ],
      "execution_count": 36,
      "outputs": [
        {
          "output_type": "execute_result",
          "data": {
            "text/plain": [
              "['사과', '딸기', '수박', '메론', '바나나']"
            ]
          },
          "metadata": {},
          "execution_count": 36
        }
      ]
    },
    {
      "cell_type": "code",
      "metadata": {
        "colab": {
          "base_uri": "https://localhost:8080/"
        },
        "id": "RFG5WSCB2WfH",
        "outputId": "38dc0222-0eeb-48de-93d6-0783a45ce3c3"
      },
      "source": [
        "text=\"\"\"사과     딸기\n",
        " 수박\n",
        " 메론           바나나\"\"\"\n",
        "text.split()"
      ],
      "execution_count": 38,
      "outputs": [
        {
          "output_type": "execute_result",
          "data": {
            "text/plain": [
              "['사과', '딸기', '수박', '메론', '바나나']"
            ]
          },
          "metadata": {},
          "execution_count": 38
        }
      ]
    },
    {
      "cell_type": "code",
      "metadata": {
        "colab": {
          "base_uri": "https://localhost:8080/"
        },
        "id": "FF4SR1lv2bt-",
        "outputId": "22af41a7-0eb4-4cef-e0e2-83f476a8d5e1"
      },
      "source": [
        "re.split('\\s+', text)"
      ],
      "execution_count": 39,
      "outputs": [
        {
          "output_type": "execute_result",
          "data": {
            "text/plain": [
              "['사과', '딸기', '수박', '메론', '바나나']"
            ]
          },
          "metadata": {},
          "execution_count": 39
        }
      ]
    },
    {
      "cell_type": "code",
      "metadata": {
        "colab": {
          "base_uri": "https://localhost:8080/"
        },
        "id": "hRx8YGyX2tTl",
        "outputId": "8aabf262-b735-441a-87a3-177341fc14a3"
      },
      "source": [
        "text=\"\"\"이름 : 김철수\n",
        "전화번호 : 010 - 1234 - 1234\n",
        "나이 : 30\n",
        "성별 : 남\"\"\"  \n",
        "re.findall(\"\\d+\",text)"
      ],
      "execution_count": 40,
      "outputs": [
        {
          "output_type": "execute_result",
          "data": {
            "text/plain": [
              "['010', '1234', '1234', '30']"
            ]
          },
          "metadata": {},
          "execution_count": 40
        }
      ]
    },
    {
      "cell_type": "code",
      "metadata": {
        "colab": {
          "base_uri": "https://localhost:8080/"
        },
        "id": "HG4X_SqO3KAg",
        "outputId": "30dfcc1e-7cc4-4acd-d3a3-2e06e70fb55a"
      },
      "source": [
        "re.findall(\"d\\+\", '김철수')"
      ],
      "execution_count": 41,
      "outputs": [
        {
          "output_type": "execute_result",
          "data": {
            "text/plain": [
              "[]"
            ]
          },
          "metadata": {},
          "execution_count": 41
        }
      ]
    },
    {
      "cell_type": "markdown",
      "metadata": {
        "id": "Pmv7svXl3fxo"
      },
      "source": [
        "- re.sub()"
      ]
    },
    {
      "cell_type": "code",
      "metadata": {
        "colab": {
          "base_uri": "https://localhost:8080/",
          "height": 53
        },
        "id": "rZHWmiOc3fAm",
        "outputId": "53ae2d1f-22fd-432a-ef97-d4b4ca54e378"
      },
      "source": [
        "text=\"Regular expression : A regular expression, regex or regexp[1] (sometimes called a rational expression)[2][3] is, in theoretical computer science and formal language theory, a sequence of characters that define a search pattern.\"\n",
        "re.sub('[^a-zA-Z]',' ',text)"
      ],
      "execution_count": 43,
      "outputs": [
        {
          "output_type": "execute_result",
          "data": {
            "application/vnd.google.colaboratory.intrinsic+json": {
              "type": "string"
            },
            "text/plain": [
              "'Regular expression   A regular expression  regex or regexp     sometimes called a rational expression        is  in theoretical computer science and formal language theory  a sequence of characters that define a search pattern '"
            ]
          },
          "metadata": {},
          "execution_count": 43
        }
      ]
    },
    {
      "cell_type": "markdown",
      "metadata": {
        "id": "Ft9KizM-37bk"
      },
      "source": [
        "## 3. 정규 표현식 텍스트 전처리 예제"
      ]
    },
    {
      "cell_type": "code",
      "metadata": {
        "colab": {
          "base_uri": "https://localhost:8080/"
        },
        "id": "imjtav4b3j54",
        "outputId": "4384248a-adae-4810-a1c7-886bba67f094"
      },
      "source": [
        "text = \"\"\"100 John    PROF\n",
        "101 James   STUD\n",
        "102 Mac   STUD\"\"\"  \n",
        "\n",
        "re.split('\\s+', text)  "
      ],
      "execution_count": 44,
      "outputs": [
        {
          "output_type": "execute_result",
          "data": {
            "text/plain": [
              "['100', 'John', 'PROF', '101', 'James', 'STUD', '102', 'Mac', 'STUD']"
            ]
          },
          "metadata": {},
          "execution_count": 44
        }
      ]
    },
    {
      "cell_type": "code",
      "metadata": {
        "colab": {
          "base_uri": "https://localhost:8080/"
        },
        "id": "QvIzBFi74UDs",
        "outputId": "80d22c3b-6e3e-4a7e-dc58-55ba6199173a"
      },
      "source": [
        "re.findall('\\d+', text)"
      ],
      "execution_count": 45,
      "outputs": [
        {
          "output_type": "execute_result",
          "data": {
            "text/plain": [
              "['100', '101', '102']"
            ]
          },
          "metadata": {},
          "execution_count": 45
        }
      ]
    },
    {
      "cell_type": "code",
      "metadata": {
        "colab": {
          "base_uri": "https://localhost:8080/"
        },
        "id": "xorWs_Eu4W83",
        "outputId": "f5202fb9-8447-43c5-ff46-a001d02c3e91"
      },
      "source": [
        "re.findall('[A-Z]', text)"
      ],
      "execution_count": 46,
      "outputs": [
        {
          "output_type": "execute_result",
          "data": {
            "text/plain": [
              "['J', 'P', 'R', 'O', 'F', 'J', 'S', 'T', 'U', 'D', 'M', 'S', 'T', 'U', 'D']"
            ]
          },
          "metadata": {},
          "execution_count": 46
        }
      ]
    },
    {
      "cell_type": "code",
      "metadata": {
        "colab": {
          "base_uri": "https://localhost:8080/"
        },
        "id": "yk-iKrzN4d8_",
        "outputId": "9dfa5328-e079-4869-c9bc-26266d3c836a"
      },
      "source": [
        "re.findall('[A-Z]+', text)"
      ],
      "execution_count": 47,
      "outputs": [
        {
          "output_type": "execute_result",
          "data": {
            "text/plain": [
              "['J', 'PROF', 'J', 'STUD', 'M', 'STUD']"
            ]
          },
          "metadata": {},
          "execution_count": 47
        }
      ]
    },
    {
      "cell_type": "code",
      "metadata": {
        "colab": {
          "base_uri": "https://localhost:8080/"
        },
        "id": "QNvXeHFp4xU-",
        "outputId": "ae03b860-60d2-4932-a7d9-16b0ea9753f1"
      },
      "source": [
        "re.findall('[A-Z]{4}', text)"
      ],
      "execution_count": 48,
      "outputs": [
        {
          "output_type": "execute_result",
          "data": {
            "text/plain": [
              "['PROF', 'STUD', 'STUD']"
            ]
          },
          "metadata": {},
          "execution_count": 48
        }
      ]
    },
    {
      "cell_type": "code",
      "metadata": {
        "colab": {
          "base_uri": "https://localhost:8080/"
        },
        "id": "RCYgafvi4261",
        "outputId": "78a07e69-5091-4b52-9880-68ba6a3b66e0"
      },
      "source": [
        "re.findall('[A-Z][a-z]+', text)"
      ],
      "execution_count": 49,
      "outputs": [
        {
          "output_type": "execute_result",
          "data": {
            "text/plain": [
              "['John', 'James', 'Mac']"
            ]
          },
          "metadata": {},
          "execution_count": 49
        }
      ]
    },
    {
      "cell_type": "code",
      "metadata": {
        "id": "WM9Ntt8E47bH"
      },
      "source": [
        "# [A-Z][a-z]: 첫번째 글자는 대문자, 두번째는 소문자\n",
        "\n",
        "# [A-Za-z]: 대문자 또는 소문자"
      ],
      "execution_count": null,
      "outputs": []
    },
    {
      "cell_type": "markdown",
      "metadata": {
        "id": "tVNymlaC6NEM"
      },
      "source": [
        "## 4. POSIX 정규표현식\n"
      ]
    },
    {
      "cell_type": "code",
      "metadata": {
        "colab": {
          "base_uri": "https://localhost:8080/"
        },
        "id": "2YOBsmIg6RaB",
        "outputId": "657f2d46-7186-4911-c359-7254df1ad344"
      },
      "source": [
        "re.findall('[:alpha:]', '1 b C')"
      ],
      "execution_count": 51,
      "outputs": [
        {
          "output_type": "execute_result",
          "data": {
            "text/plain": [
              "[]"
            ]
          },
          "metadata": {},
          "execution_count": 51
        }
      ]
    },
    {
      "cell_type": "code",
      "metadata": {
        "id": "QCXM73mU6ZS_"
      },
      "source": [
        ""
      ],
      "execution_count": null,
      "outputs": []
    }
  ]
}