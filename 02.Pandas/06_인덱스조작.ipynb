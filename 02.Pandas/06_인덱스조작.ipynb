{
  "nbformat": 4,
  "nbformat_minor": 0,
  "metadata": {
    "colab": {
      "name": "06_인덱스조작.ipynb",
      "provenance": [],
      "collapsed_sections": []
    },
    "kernelspec": {
      "name": "python3",
      "display_name": "Python 3"
    },
    "language_info": {
      "name": "python"
    }
  },
  "cells": [
    {
      "cell_type": "markdown",
      "metadata": {
        "id": "RjO8INoLOnND"
      },
      "source": [
        "# 데이터프레임 인덱스 조작"
      ]
    },
    {
      "cell_type": "markdown",
      "metadata": {
        "id": "btlQkf3FOrBV"
      },
      "source": [
        "## 인덱스 설정 및 제거"
      ]
    },
    {
      "cell_type": "code",
      "metadata": {
        "id": "XpIbiQVGOdzl"
      },
      "source": [
        "import numpy as np\n",
        "import pandas as pd"
      ],
      "execution_count": 1,
      "outputs": []
    },
    {
      "cell_type": "code",
      "metadata": {
        "colab": {
          "base_uri": "https://localhost:8080/",
          "height": 204
        },
        "id": "jovcg5UsQDnC",
        "outputId": "ba296553-8fde-4928-b2d0-d8a2467d8f40"
      },
      "source": [
        "np.random.seed(2021)\n",
        "df1 = pd.DataFrame(np.vstack([list('ABCDE'),\n",
        "                              np.round(np.random.rand(3, 5), 2)]).T,\n",
        "                   columns=[\"C1\", \"C2\", \"C3\", \"C4\"])\n",
        "df1"
      ],
      "execution_count": 2,
      "outputs": [
        {
          "output_type": "execute_result",
          "data": {
            "text/html": [
              "<div>\n",
              "<style scoped>\n",
              "    .dataframe tbody tr th:only-of-type {\n",
              "        vertical-align: middle;\n",
              "    }\n",
              "\n",
              "    .dataframe tbody tr th {\n",
              "        vertical-align: top;\n",
              "    }\n",
              "\n",
              "    .dataframe thead th {\n",
              "        text-align: right;\n",
              "    }\n",
              "</style>\n",
              "<table border=\"1\" class=\"dataframe\">\n",
              "  <thead>\n",
              "    <tr style=\"text-align: right;\">\n",
              "      <th></th>\n",
              "      <th>C1</th>\n",
              "      <th>C2</th>\n",
              "      <th>C3</th>\n",
              "      <th>C4</th>\n",
              "    </tr>\n",
              "  </thead>\n",
              "  <tbody>\n",
              "    <tr>\n",
              "      <th>0</th>\n",
              "      <td>A</td>\n",
              "      <td>0.61</td>\n",
              "      <td>0.13</td>\n",
              "      <td>0.1</td>\n",
              "    </tr>\n",
              "    <tr>\n",
              "      <th>1</th>\n",
              "      <td>B</td>\n",
              "      <td>0.73</td>\n",
              "      <td>0.18</td>\n",
              "      <td>0.06</td>\n",
              "    </tr>\n",
              "    <tr>\n",
              "      <th>2</th>\n",
              "      <td>C</td>\n",
              "      <td>0.14</td>\n",
              "      <td>0.75</td>\n",
              "      <td>0.96</td>\n",
              "    </tr>\n",
              "    <tr>\n",
              "      <th>3</th>\n",
              "      <td>D</td>\n",
              "      <td>0.31</td>\n",
              "      <td>0.66</td>\n",
              "      <td>0.62</td>\n",
              "    </tr>\n",
              "    <tr>\n",
              "      <th>4</th>\n",
              "      <td>E</td>\n",
              "      <td>1.0</td>\n",
              "      <td>0.78</td>\n",
              "      <td>0.09</td>\n",
              "    </tr>\n",
              "  </tbody>\n",
              "</table>\n",
              "</div>"
            ],
            "text/plain": [
              "  C1    C2    C3    C4\n",
              "0  A  0.61  0.13   0.1\n",
              "1  B  0.73  0.18  0.06\n",
              "2  C  0.14  0.75  0.96\n",
              "3  D  0.31  0.66  0.62\n",
              "4  E   1.0  0.78  0.09"
            ]
          },
          "metadata": {
            "tags": []
          },
          "execution_count": 2
        }
      ]
    },
    {
      "cell_type": "code",
      "metadata": {
        "colab": {
          "base_uri": "https://localhost:8080/",
          "height": 235
        },
        "id": "YxlnYlWUQeRB",
        "outputId": "5534ee2e-cf9f-4b0f-cfcd-1e16d1b66e54"
      },
      "source": [
        "df2 = df1.set_index('C1')\n",
        "df2"
      ],
      "execution_count": 9,
      "outputs": [
        {
          "output_type": "execute_result",
          "data": {
            "text/html": [
              "<div>\n",
              "<style scoped>\n",
              "    .dataframe tbody tr th:only-of-type {\n",
              "        vertical-align: middle;\n",
              "    }\n",
              "\n",
              "    .dataframe tbody tr th {\n",
              "        vertical-align: top;\n",
              "    }\n",
              "\n",
              "    .dataframe thead th {\n",
              "        text-align: right;\n",
              "    }\n",
              "</style>\n",
              "<table border=\"1\" class=\"dataframe\">\n",
              "  <thead>\n",
              "    <tr style=\"text-align: right;\">\n",
              "      <th></th>\n",
              "      <th>C2</th>\n",
              "      <th>C3</th>\n",
              "      <th>C4</th>\n",
              "    </tr>\n",
              "    <tr>\n",
              "      <th>C1</th>\n",
              "      <th></th>\n",
              "      <th></th>\n",
              "      <th></th>\n",
              "    </tr>\n",
              "  </thead>\n",
              "  <tbody>\n",
              "    <tr>\n",
              "      <th>A</th>\n",
              "      <td>0.61</td>\n",
              "      <td>0.13</td>\n",
              "      <td>0.1</td>\n",
              "    </tr>\n",
              "    <tr>\n",
              "      <th>B</th>\n",
              "      <td>0.73</td>\n",
              "      <td>0.18</td>\n",
              "      <td>0.06</td>\n",
              "    </tr>\n",
              "    <tr>\n",
              "      <th>C</th>\n",
              "      <td>0.14</td>\n",
              "      <td>0.75</td>\n",
              "      <td>0.96</td>\n",
              "    </tr>\n",
              "    <tr>\n",
              "      <th>D</th>\n",
              "      <td>0.31</td>\n",
              "      <td>0.66</td>\n",
              "      <td>0.62</td>\n",
              "    </tr>\n",
              "    <tr>\n",
              "      <th>E</th>\n",
              "      <td>1.0</td>\n",
              "      <td>0.78</td>\n",
              "      <td>0.09</td>\n",
              "    </tr>\n",
              "  </tbody>\n",
              "</table>\n",
              "</div>"
            ],
            "text/plain": [
              "      C2    C3    C4\n",
              "C1                  \n",
              "A   0.61  0.13   0.1\n",
              "B   0.73  0.18  0.06\n",
              "C   0.14  0.75  0.96\n",
              "D   0.31  0.66  0.62\n",
              "E    1.0  0.78  0.09"
            ]
          },
          "metadata": {
            "tags": []
          },
          "execution_count": 9
        }
      ]
    },
    {
      "cell_type": "code",
      "metadata": {
        "colab": {
          "base_uri": "https://localhost:8080/",
          "height": 204
        },
        "id": "pBvHfeHqQtiu",
        "outputId": "85ee5ee5-c655-4633-e319-c77da83b1d04"
      },
      "source": [
        "df2.reset_index()"
      ],
      "execution_count": 10,
      "outputs": [
        {
          "output_type": "execute_result",
          "data": {
            "text/html": [
              "<div>\n",
              "<style scoped>\n",
              "    .dataframe tbody tr th:only-of-type {\n",
              "        vertical-align: middle;\n",
              "    }\n",
              "\n",
              "    .dataframe tbody tr th {\n",
              "        vertical-align: top;\n",
              "    }\n",
              "\n",
              "    .dataframe thead th {\n",
              "        text-align: right;\n",
              "    }\n",
              "</style>\n",
              "<table border=\"1\" class=\"dataframe\">\n",
              "  <thead>\n",
              "    <tr style=\"text-align: right;\">\n",
              "      <th></th>\n",
              "      <th>C1</th>\n",
              "      <th>C2</th>\n",
              "      <th>C3</th>\n",
              "      <th>C4</th>\n",
              "    </tr>\n",
              "  </thead>\n",
              "  <tbody>\n",
              "    <tr>\n",
              "      <th>0</th>\n",
              "      <td>A</td>\n",
              "      <td>0.61</td>\n",
              "      <td>0.13</td>\n",
              "      <td>0.1</td>\n",
              "    </tr>\n",
              "    <tr>\n",
              "      <th>1</th>\n",
              "      <td>B</td>\n",
              "      <td>0.73</td>\n",
              "      <td>0.18</td>\n",
              "      <td>0.06</td>\n",
              "    </tr>\n",
              "    <tr>\n",
              "      <th>2</th>\n",
              "      <td>C</td>\n",
              "      <td>0.14</td>\n",
              "      <td>0.75</td>\n",
              "      <td>0.96</td>\n",
              "    </tr>\n",
              "    <tr>\n",
              "      <th>3</th>\n",
              "      <td>D</td>\n",
              "      <td>0.31</td>\n",
              "      <td>0.66</td>\n",
              "      <td>0.62</td>\n",
              "    </tr>\n",
              "    <tr>\n",
              "      <th>4</th>\n",
              "      <td>E</td>\n",
              "      <td>1.0</td>\n",
              "      <td>0.78</td>\n",
              "      <td>0.09</td>\n",
              "    </tr>\n",
              "  </tbody>\n",
              "</table>\n",
              "</div>"
            ],
            "text/plain": [
              "  C1    C2    C3    C4\n",
              "0  A  0.61  0.13   0.1\n",
              "1  B  0.73  0.18  0.06\n",
              "2  C  0.14  0.75  0.96\n",
              "3  D  0.31  0.66  0.62\n",
              "4  E   1.0  0.78  0.09"
            ]
          },
          "metadata": {
            "tags": []
          },
          "execution_count": 10
        }
      ]
    },
    {
      "cell_type": "code",
      "metadata": {
        "colab": {
          "base_uri": "https://localhost:8080/",
          "height": 235
        },
        "id": "ece9YWgQQ5cA",
        "outputId": "565d7af8-216e-4bee-87bb-b2d1e5845c13"
      },
      "source": [
        "df2"
      ],
      "execution_count": 5,
      "outputs": [
        {
          "output_type": "execute_result",
          "data": {
            "text/html": [
              "<div>\n",
              "<style scoped>\n",
              "    .dataframe tbody tr th:only-of-type {\n",
              "        vertical-align: middle;\n",
              "    }\n",
              "\n",
              "    .dataframe tbody tr th {\n",
              "        vertical-align: top;\n",
              "    }\n",
              "\n",
              "    .dataframe thead th {\n",
              "        text-align: right;\n",
              "    }\n",
              "</style>\n",
              "<table border=\"1\" class=\"dataframe\">\n",
              "  <thead>\n",
              "    <tr style=\"text-align: right;\">\n",
              "      <th></th>\n",
              "      <th>C2</th>\n",
              "      <th>C3</th>\n",
              "      <th>C4</th>\n",
              "    </tr>\n",
              "    <tr>\n",
              "      <th>C1</th>\n",
              "      <th></th>\n",
              "      <th></th>\n",
              "      <th></th>\n",
              "    </tr>\n",
              "  </thead>\n",
              "  <tbody>\n",
              "    <tr>\n",
              "      <th>A</th>\n",
              "      <td>0.61</td>\n",
              "      <td>0.13</td>\n",
              "      <td>0.1</td>\n",
              "    </tr>\n",
              "    <tr>\n",
              "      <th>B</th>\n",
              "      <td>0.73</td>\n",
              "      <td>0.18</td>\n",
              "      <td>0.06</td>\n",
              "    </tr>\n",
              "    <tr>\n",
              "      <th>C</th>\n",
              "      <td>0.14</td>\n",
              "      <td>0.75</td>\n",
              "      <td>0.96</td>\n",
              "    </tr>\n",
              "    <tr>\n",
              "      <th>D</th>\n",
              "      <td>0.31</td>\n",
              "      <td>0.66</td>\n",
              "      <td>0.62</td>\n",
              "    </tr>\n",
              "    <tr>\n",
              "      <th>E</th>\n",
              "      <td>1.0</td>\n",
              "      <td>0.78</td>\n",
              "      <td>0.09</td>\n",
              "    </tr>\n",
              "  </tbody>\n",
              "</table>\n",
              "</div>"
            ],
            "text/plain": [
              "      C2    C3    C4\n",
              "C1                  \n",
              "A   0.61  0.13   0.1\n",
              "B   0.73  0.18  0.06\n",
              "C   0.14  0.75  0.96\n",
              "D   0.31  0.66  0.62\n",
              "E    1.0  0.78  0.09"
            ]
          },
          "metadata": {
            "tags": []
          },
          "execution_count": 5
        }
      ]
    },
    {
      "cell_type": "code",
      "metadata": {
        "colab": {
          "base_uri": "https://localhost:8080/",
          "height": 204
        },
        "id": "F0rD-acUQ7Bv",
        "outputId": "bc12a677-2466-4b47-ba86-cf87f1bb062b"
      },
      "source": [
        "df2.reset_index(inplace=True)\n",
        "df2"
      ],
      "execution_count": 11,
      "outputs": [
        {
          "output_type": "execute_result",
          "data": {
            "text/html": [
              "<div>\n",
              "<style scoped>\n",
              "    .dataframe tbody tr th:only-of-type {\n",
              "        vertical-align: middle;\n",
              "    }\n",
              "\n",
              "    .dataframe tbody tr th {\n",
              "        vertical-align: top;\n",
              "    }\n",
              "\n",
              "    .dataframe thead th {\n",
              "        text-align: right;\n",
              "    }\n",
              "</style>\n",
              "<table border=\"1\" class=\"dataframe\">\n",
              "  <thead>\n",
              "    <tr style=\"text-align: right;\">\n",
              "      <th></th>\n",
              "      <th>C1</th>\n",
              "      <th>C2</th>\n",
              "      <th>C3</th>\n",
              "      <th>C4</th>\n",
              "    </tr>\n",
              "  </thead>\n",
              "  <tbody>\n",
              "    <tr>\n",
              "      <th>0</th>\n",
              "      <td>A</td>\n",
              "      <td>0.61</td>\n",
              "      <td>0.13</td>\n",
              "      <td>0.1</td>\n",
              "    </tr>\n",
              "    <tr>\n",
              "      <th>1</th>\n",
              "      <td>B</td>\n",
              "      <td>0.73</td>\n",
              "      <td>0.18</td>\n",
              "      <td>0.06</td>\n",
              "    </tr>\n",
              "    <tr>\n",
              "      <th>2</th>\n",
              "      <td>C</td>\n",
              "      <td>0.14</td>\n",
              "      <td>0.75</td>\n",
              "      <td>0.96</td>\n",
              "    </tr>\n",
              "    <tr>\n",
              "      <th>3</th>\n",
              "      <td>D</td>\n",
              "      <td>0.31</td>\n",
              "      <td>0.66</td>\n",
              "      <td>0.62</td>\n",
              "    </tr>\n",
              "    <tr>\n",
              "      <th>4</th>\n",
              "      <td>E</td>\n",
              "      <td>1.0</td>\n",
              "      <td>0.78</td>\n",
              "      <td>0.09</td>\n",
              "    </tr>\n",
              "  </tbody>\n",
              "</table>\n",
              "</div>"
            ],
            "text/plain": [
              "  C1    C2    C3    C4\n",
              "0  A  0.61  0.13   0.1\n",
              "1  B  0.73  0.18  0.06\n",
              "2  C  0.14  0.75  0.96\n",
              "3  D  0.31  0.66  0.62\n",
              "4  E   1.0  0.78  0.09"
            ]
          },
          "metadata": {
            "tags": []
          },
          "execution_count": 11
        }
      ]
    },
    {
      "cell_type": "markdown",
      "metadata": {
        "id": "tu93bkHiROuT"
      },
      "source": [
        "### 연습문제 4.5.1\n",
        "- 5명의 학생이 국어, 영어, 수학 점수를 나타내는 데이터프레임을 다음과 같이 만든다."
      ]
    },
    {
      "cell_type": "code",
      "metadata": {
        "colab": {
          "base_uri": "https://localhost:8080/",
          "height": 204
        },
        "id": "pdYfAEFwRBLa",
        "outputId": "a48a1dff-2036-421e-bee1-f0ab57a2089d"
      },
      "source": [
        "# 1.학생 이름을 나타내는 열을 포함시키지 않고 데이터프레임 df_score1 을 생성한 후, \n",
        "# df_score1.index 속성에 학생 이름을 나타내는 열을 지정하여 인덱스를 지정한다. \n",
        "# reset_index 명령으로 이 인덱스 열을 명령으로 일반 데이터열로 바꾸여 데이터프레임 df_score2을 만든다.\n",
        "np.random.seed(2021)\n",
        "data = np.random.randint(40, 100, size=(5, 3))\n",
        "df_score1 = pd.DataFrame(data, columns=['국어', '영어', '수학'])\n",
        "df_score1"
      ],
      "execution_count": 12,
      "outputs": [
        {
          "output_type": "execute_result",
          "data": {
            "text/html": [
              "<div>\n",
              "<style scoped>\n",
              "    .dataframe tbody tr th:only-of-type {\n",
              "        vertical-align: middle;\n",
              "    }\n",
              "\n",
              "    .dataframe tbody tr th {\n",
              "        vertical-align: top;\n",
              "    }\n",
              "\n",
              "    .dataframe thead th {\n",
              "        text-align: right;\n",
              "    }\n",
              "</style>\n",
              "<table border=\"1\" class=\"dataframe\">\n",
              "  <thead>\n",
              "    <tr style=\"text-align: right;\">\n",
              "      <th></th>\n",
              "      <th>국어</th>\n",
              "      <th>영어</th>\n",
              "      <th>수학</th>\n",
              "    </tr>\n",
              "  </thead>\n",
              "  <tbody>\n",
              "    <tr>\n",
              "      <th>0</th>\n",
              "      <td>92</td>\n",
              "      <td>61</td>\n",
              "      <td>97</td>\n",
              "    </tr>\n",
              "    <tr>\n",
              "      <th>1</th>\n",
              "      <td>40</td>\n",
              "      <td>85</td>\n",
              "      <td>70</td>\n",
              "    </tr>\n",
              "    <tr>\n",
              "      <th>2</th>\n",
              "      <td>62</td>\n",
              "      <td>84</td>\n",
              "      <td>67</td>\n",
              "    </tr>\n",
              "    <tr>\n",
              "      <th>3</th>\n",
              "      <td>69</td>\n",
              "      <td>61</td>\n",
              "      <td>69</td>\n",
              "    </tr>\n",
              "    <tr>\n",
              "      <th>4</th>\n",
              "      <td>64</td>\n",
              "      <td>52</td>\n",
              "      <td>94</td>\n",
              "    </tr>\n",
              "  </tbody>\n",
              "</table>\n",
              "</div>"
            ],
            "text/plain": [
              "   국어  영어  수학\n",
              "0  92  61  97\n",
              "1  40  85  70\n",
              "2  62  84  67\n",
              "3  69  61  69\n",
              "4  64  52  94"
            ]
          },
          "metadata": {
            "tags": []
          },
          "execution_count": 12
        }
      ]
    },
    {
      "cell_type": "code",
      "metadata": {
        "colab": {
          "base_uri": "https://localhost:8080/",
          "height": 235
        },
        "id": "x3xLPFuwRvb0",
        "outputId": "9ee21822-bc43-4d90-d5f4-2c8bab32cde2"
      },
      "source": [
        "df_score1.index = ['Ailee', 'Elizabeth', 'James', 'Maris', 'Brian']\n",
        "df_score1.index.name = '이름'\n",
        "df_score1"
      ],
      "execution_count": 16,
      "outputs": [
        {
          "output_type": "execute_result",
          "data": {
            "text/html": [
              "<div>\n",
              "<style scoped>\n",
              "    .dataframe tbody tr th:only-of-type {\n",
              "        vertical-align: middle;\n",
              "    }\n",
              "\n",
              "    .dataframe tbody tr th {\n",
              "        vertical-align: top;\n",
              "    }\n",
              "\n",
              "    .dataframe thead th {\n",
              "        text-align: right;\n",
              "    }\n",
              "</style>\n",
              "<table border=\"1\" class=\"dataframe\">\n",
              "  <thead>\n",
              "    <tr style=\"text-align: right;\">\n",
              "      <th></th>\n",
              "      <th>국어</th>\n",
              "      <th>영어</th>\n",
              "      <th>수학</th>\n",
              "    </tr>\n",
              "    <tr>\n",
              "      <th>이름</th>\n",
              "      <th></th>\n",
              "      <th></th>\n",
              "      <th></th>\n",
              "    </tr>\n",
              "  </thead>\n",
              "  <tbody>\n",
              "    <tr>\n",
              "      <th>Ailee</th>\n",
              "      <td>92</td>\n",
              "      <td>61</td>\n",
              "      <td>97</td>\n",
              "    </tr>\n",
              "    <tr>\n",
              "      <th>Elizabeth</th>\n",
              "      <td>40</td>\n",
              "      <td>85</td>\n",
              "      <td>70</td>\n",
              "    </tr>\n",
              "    <tr>\n",
              "      <th>James</th>\n",
              "      <td>62</td>\n",
              "      <td>84</td>\n",
              "      <td>67</td>\n",
              "    </tr>\n",
              "    <tr>\n",
              "      <th>Maris</th>\n",
              "      <td>69</td>\n",
              "      <td>61</td>\n",
              "      <td>69</td>\n",
              "    </tr>\n",
              "    <tr>\n",
              "      <th>Brian</th>\n",
              "      <td>64</td>\n",
              "      <td>52</td>\n",
              "      <td>94</td>\n",
              "    </tr>\n",
              "  </tbody>\n",
              "</table>\n",
              "</div>"
            ],
            "text/plain": [
              "           국어  영어  수학\n",
              "이름                   \n",
              "Ailee      92  61  97\n",
              "Elizabeth  40  85  70\n",
              "James      62  84  67\n",
              "Maris      69  61  69\n",
              "Brian      64  52  94"
            ]
          },
          "metadata": {
            "tags": []
          },
          "execution_count": 16
        }
      ]
    },
    {
      "cell_type": "code",
      "metadata": {
        "colab": {
          "base_uri": "https://localhost:8080/",
          "height": 204
        },
        "id": "it_5eqh_SJQ2",
        "outputId": "6ab901af-bdda-49c0-ce4b-8e30c61d39a1"
      },
      "source": [
        "# 2. 학생 이름을 나타내는 열이 일반 데이터 열을 포함하는 데이터프레임 df_score2에\n",
        "# set_index 명령을 적용하여 다시 학생 이름을 나타내는 열을 인덱스로 변경한다.\n",
        "df_score2 = df_score1.reset_index()\n",
        "df_score2"
      ],
      "execution_count": 17,
      "outputs": [
        {
          "output_type": "execute_result",
          "data": {
            "text/html": [
              "<div>\n",
              "<style scoped>\n",
              "    .dataframe tbody tr th:only-of-type {\n",
              "        vertical-align: middle;\n",
              "    }\n",
              "\n",
              "    .dataframe tbody tr th {\n",
              "        vertical-align: top;\n",
              "    }\n",
              "\n",
              "    .dataframe thead th {\n",
              "        text-align: right;\n",
              "    }\n",
              "</style>\n",
              "<table border=\"1\" class=\"dataframe\">\n",
              "  <thead>\n",
              "    <tr style=\"text-align: right;\">\n",
              "      <th></th>\n",
              "      <th>이름</th>\n",
              "      <th>국어</th>\n",
              "      <th>영어</th>\n",
              "      <th>수학</th>\n",
              "    </tr>\n",
              "  </thead>\n",
              "  <tbody>\n",
              "    <tr>\n",
              "      <th>0</th>\n",
              "      <td>Ailee</td>\n",
              "      <td>92</td>\n",
              "      <td>61</td>\n",
              "      <td>97</td>\n",
              "    </tr>\n",
              "    <tr>\n",
              "      <th>1</th>\n",
              "      <td>Elizabeth</td>\n",
              "      <td>40</td>\n",
              "      <td>85</td>\n",
              "      <td>70</td>\n",
              "    </tr>\n",
              "    <tr>\n",
              "      <th>2</th>\n",
              "      <td>James</td>\n",
              "      <td>62</td>\n",
              "      <td>84</td>\n",
              "      <td>67</td>\n",
              "    </tr>\n",
              "    <tr>\n",
              "      <th>3</th>\n",
              "      <td>Maris</td>\n",
              "      <td>69</td>\n",
              "      <td>61</td>\n",
              "      <td>69</td>\n",
              "    </tr>\n",
              "    <tr>\n",
              "      <th>4</th>\n",
              "      <td>Brian</td>\n",
              "      <td>64</td>\n",
              "      <td>52</td>\n",
              "      <td>94</td>\n",
              "    </tr>\n",
              "  </tbody>\n",
              "</table>\n",
              "</div>"
            ],
            "text/plain": [
              "          이름  국어  영어  수학\n",
              "0      Ailee  92  61  97\n",
              "1  Elizabeth  40  85  70\n",
              "2      James  62  84  67\n",
              "3      Maris  69  61  69\n",
              "4      Brian  64  52  94"
            ]
          },
          "metadata": {
            "tags": []
          },
          "execution_count": 17
        }
      ]
    },
    {
      "cell_type": "code",
      "metadata": {
        "colab": {
          "base_uri": "https://localhost:8080/",
          "height": 235
        },
        "id": "JNXj6ruESZ6l",
        "outputId": "bb6c08df-c3dc-486f-ab0f-7cc43a81a36c"
      },
      "source": [
        "# df_score2 = df_score2.set_index('이름')\n",
        "df_score2.set_index('이름', inplace=True)\n",
        "df_score2"
      ],
      "execution_count": 18,
      "outputs": [
        {
          "output_type": "execute_result",
          "data": {
            "text/html": [
              "<div>\n",
              "<style scoped>\n",
              "    .dataframe tbody tr th:only-of-type {\n",
              "        vertical-align: middle;\n",
              "    }\n",
              "\n",
              "    .dataframe tbody tr th {\n",
              "        vertical-align: top;\n",
              "    }\n",
              "\n",
              "    .dataframe thead th {\n",
              "        text-align: right;\n",
              "    }\n",
              "</style>\n",
              "<table border=\"1\" class=\"dataframe\">\n",
              "  <thead>\n",
              "    <tr style=\"text-align: right;\">\n",
              "      <th></th>\n",
              "      <th>국어</th>\n",
              "      <th>영어</th>\n",
              "      <th>수학</th>\n",
              "    </tr>\n",
              "    <tr>\n",
              "      <th>이름</th>\n",
              "      <th></th>\n",
              "      <th></th>\n",
              "      <th></th>\n",
              "    </tr>\n",
              "  </thead>\n",
              "  <tbody>\n",
              "    <tr>\n",
              "      <th>Ailee</th>\n",
              "      <td>92</td>\n",
              "      <td>61</td>\n",
              "      <td>97</td>\n",
              "    </tr>\n",
              "    <tr>\n",
              "      <th>Elizabeth</th>\n",
              "      <td>40</td>\n",
              "      <td>85</td>\n",
              "      <td>70</td>\n",
              "    </tr>\n",
              "    <tr>\n",
              "      <th>James</th>\n",
              "      <td>62</td>\n",
              "      <td>84</td>\n",
              "      <td>67</td>\n",
              "    </tr>\n",
              "    <tr>\n",
              "      <th>Maris</th>\n",
              "      <td>69</td>\n",
              "      <td>61</td>\n",
              "      <td>69</td>\n",
              "    </tr>\n",
              "    <tr>\n",
              "      <th>Brian</th>\n",
              "      <td>64</td>\n",
              "      <td>52</td>\n",
              "      <td>94</td>\n",
              "    </tr>\n",
              "  </tbody>\n",
              "</table>\n",
              "</div>"
            ],
            "text/plain": [
              "           국어  영어  수학\n",
              "이름                   \n",
              "Ailee      92  61  97\n",
              "Elizabeth  40  85  70\n",
              "James      62  84  67\n",
              "Maris      69  61  69\n",
              "Brian      64  52  94"
            ]
          },
          "metadata": {
            "tags": []
          },
          "execution_count": 18
        }
      ]
    },
    {
      "cell_type": "markdown",
      "metadata": {
        "id": "hQxNrdpUS6VY"
      },
      "source": [
        "## 다중 인덱스"
      ]
    },
    {
      "cell_type": "code",
      "metadata": {
        "colab": {
          "base_uri": "https://localhost:8080/",
          "height": 297
        },
        "id": "SOtiSWRMS1X4",
        "outputId": "4930ae40-34f0-41c3-8de7-14b341e1ba52"
      },
      "source": [
        "np.random.seed(2021)\n",
        "df4 = pd.DataFrame(np.round(np.random.randn(6, 4), 2),\n",
        "                   columns=[[\"A\", \"A\", \"B\", \"B\"],\n",
        "                            [\"C\", \"D\", \"C\", \"D\"]],\n",
        "                   index=[[\"M\", \"M\", \"M\", \"F\", \"F\", \"F\"],\n",
        "                          [\"id_\" + str(i + 1) for i in range(3)] * 2])\n",
        "df4.columns.names = [\"Cidx1\", \"Cidx2\"]\n",
        "df4.index.names = [\"Ridx1\", \"Ridx2\"]\n",
        "df4"
      ],
      "execution_count": 20,
      "outputs": [
        {
          "output_type": "execute_result",
          "data": {
            "text/html": [
              "<div>\n",
              "<style scoped>\n",
              "    .dataframe tbody tr th:only-of-type {\n",
              "        vertical-align: middle;\n",
              "    }\n",
              "\n",
              "    .dataframe tbody tr th {\n",
              "        vertical-align: top;\n",
              "    }\n",
              "\n",
              "    .dataframe thead tr th {\n",
              "        text-align: left;\n",
              "    }\n",
              "\n",
              "    .dataframe thead tr:last-of-type th {\n",
              "        text-align: right;\n",
              "    }\n",
              "</style>\n",
              "<table border=\"1\" class=\"dataframe\">\n",
              "  <thead>\n",
              "    <tr>\n",
              "      <th></th>\n",
              "      <th>Cidx1</th>\n",
              "      <th colspan=\"2\" halign=\"left\">A</th>\n",
              "      <th colspan=\"2\" halign=\"left\">B</th>\n",
              "    </tr>\n",
              "    <tr>\n",
              "      <th></th>\n",
              "      <th>Cidx2</th>\n",
              "      <th>C</th>\n",
              "      <th>D</th>\n",
              "      <th>C</th>\n",
              "      <th>D</th>\n",
              "    </tr>\n",
              "    <tr>\n",
              "      <th>Ridx1</th>\n",
              "      <th>Ridx2</th>\n",
              "      <th></th>\n",
              "      <th></th>\n",
              "      <th></th>\n",
              "      <th></th>\n",
              "    </tr>\n",
              "  </thead>\n",
              "  <tbody>\n",
              "    <tr>\n",
              "      <th rowspan=\"3\" valign=\"top\">M</th>\n",
              "      <th>id_1</th>\n",
              "      <td>1.49</td>\n",
              "      <td>0.68</td>\n",
              "      <td>-0.42</td>\n",
              "      <td>-0.81</td>\n",
              "    </tr>\n",
              "    <tr>\n",
              "      <th>id_2</th>\n",
              "      <td>0.56</td>\n",
              "      <td>-0.71</td>\n",
              "      <td>1.13</td>\n",
              "      <td>0.65</td>\n",
              "    </tr>\n",
              "    <tr>\n",
              "      <th>id_3</th>\n",
              "      <td>0.11</td>\n",
              "      <td>0.42</td>\n",
              "      <td>0.12</td>\n",
              "      <td>-0.84</td>\n",
              "    </tr>\n",
              "    <tr>\n",
              "      <th rowspan=\"3\" valign=\"top\">F</th>\n",
              "      <th>id_1</th>\n",
              "      <td>0.41</td>\n",
              "      <td>0.10</td>\n",
              "      <td>-1.91</td>\n",
              "      <td>1.10</td>\n",
              "    </tr>\n",
              "    <tr>\n",
              "      <th>id_2</th>\n",
              "      <td>-1.40</td>\n",
              "      <td>-0.23</td>\n",
              "      <td>-1.34</td>\n",
              "      <td>0.30</td>\n",
              "    </tr>\n",
              "    <tr>\n",
              "      <th>id_3</th>\n",
              "      <td>-0.72</td>\n",
              "      <td>2.54</td>\n",
              "      <td>1.32</td>\n",
              "      <td>0.07</td>\n",
              "    </tr>\n",
              "  </tbody>\n",
              "</table>\n",
              "</div>"
            ],
            "text/plain": [
              "Cidx1           A           B      \n",
              "Cidx2           C     D     C     D\n",
              "Ridx1 Ridx2                        \n",
              "M     id_1   1.49  0.68 -0.42 -0.81\n",
              "      id_2   0.56 -0.71  1.13  0.65\n",
              "      id_3   0.11  0.42  0.12 -0.84\n",
              "F     id_1   0.41  0.10 -1.91  1.10\n",
              "      id_2  -1.40 -0.23 -1.34  0.30\n",
              "      id_3  -0.72  2.54  1.32  0.07"
            ]
          },
          "metadata": {
            "tags": []
          },
          "execution_count": 20
        }
      ]
    },
    {
      "cell_type": "code",
      "metadata": {
        "id": "3o8VjM_iTOuR"
      },
      "source": [
        ""
      ],
      "execution_count": null,
      "outputs": []
    }
  ]
}