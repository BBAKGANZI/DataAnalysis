{
  "nbformat": 4,
  "nbformat_minor": 0,
  "metadata": {
    "colab": {
      "name": "06_YouTube_Selenium.ipynb",
      "provenance": [],
      "collapsed_sections": []
    },
    "kernelspec": {
      "name": "python3",
      "display_name": "Python 3"
    },
    "language_info": {
      "name": "python"
    },
    "widgets": {
      "application/vnd.jupyter.widget-state+json": {
        "a9c27980378d4f888536446f1bf51c26": {
          "model_module": "@jupyter-widgets/controls",
          "model_name": "HBoxModel",
          "model_module_version": "1.5.0",
          "state": {
            "_view_name": "HBoxView",
            "_dom_classes": [],
            "_model_name": "HBoxModel",
            "_view_module": "@jupyter-widgets/controls",
            "_model_module_version": "1.5.0",
            "_view_count": null,
            "_view_module_version": "1.5.0",
            "box_style": "",
            "layout": "IPY_MODEL_d5ff33d7cd1448b0b5ca12cd372d06e1",
            "_model_module": "@jupyter-widgets/controls",
            "children": [
              "IPY_MODEL_e349fc8c9c0042e992b866fb7a7b8d5f",
              "IPY_MODEL_8fd876114fb34c519a17d38b4d0a8df1",
              "IPY_MODEL_e468f28da2f346c49a743522adaf38d0"
            ]
          }
        },
        "d5ff33d7cd1448b0b5ca12cd372d06e1": {
          "model_module": "@jupyter-widgets/base",
          "model_name": "LayoutModel",
          "model_module_version": "1.2.0",
          "state": {
            "_view_name": "LayoutView",
            "grid_template_rows": null,
            "right": null,
            "justify_content": null,
            "_view_module": "@jupyter-widgets/base",
            "overflow": null,
            "_model_module_version": "1.2.0",
            "_view_count": null,
            "flex_flow": null,
            "width": null,
            "min_width": null,
            "border": null,
            "align_items": null,
            "bottom": null,
            "_model_module": "@jupyter-widgets/base",
            "top": null,
            "grid_column": null,
            "overflow_y": null,
            "overflow_x": null,
            "grid_auto_flow": null,
            "grid_area": null,
            "grid_template_columns": null,
            "flex": null,
            "_model_name": "LayoutModel",
            "justify_items": null,
            "grid_row": null,
            "max_height": null,
            "align_content": null,
            "visibility": null,
            "align_self": null,
            "height": null,
            "min_height": null,
            "padding": null,
            "grid_auto_rows": null,
            "grid_gap": null,
            "max_width": null,
            "order": null,
            "_view_module_version": "1.2.0",
            "grid_template_areas": null,
            "object_position": null,
            "object_fit": null,
            "grid_auto_columns": null,
            "margin": null,
            "display": null,
            "left": null
          }
        },
        "e349fc8c9c0042e992b866fb7a7b8d5f": {
          "model_module": "@jupyter-widgets/controls",
          "model_name": "HTMLModel",
          "model_module_version": "1.5.0",
          "state": {
            "_view_name": "HTMLView",
            "style": "IPY_MODEL_1f2062b1b3214345921bdc7afa8af1ec",
            "_dom_classes": [],
            "description": "",
            "_model_name": "HTMLModel",
            "placeholder": "​",
            "_view_module": "@jupyter-widgets/controls",
            "_model_module_version": "1.5.0",
            "value": "100%",
            "_view_count": null,
            "_view_module_version": "1.5.0",
            "description_tooltip": null,
            "_model_module": "@jupyter-widgets/controls",
            "layout": "IPY_MODEL_23f124fc95504c22975d997027e290ce"
          }
        },
        "8fd876114fb34c519a17d38b4d0a8df1": {
          "model_module": "@jupyter-widgets/controls",
          "model_name": "FloatProgressModel",
          "model_module_version": "1.5.0",
          "state": {
            "_view_name": "ProgressView",
            "style": "IPY_MODEL_6d5c7314997a46949cf128f2dc9f2e34",
            "_dom_classes": [],
            "description": "",
            "_model_name": "FloatProgressModel",
            "bar_style": "success",
            "max": 10,
            "_view_module": "@jupyter-widgets/controls",
            "_model_module_version": "1.5.0",
            "value": 10,
            "_view_count": null,
            "_view_module_version": "1.5.0",
            "orientation": "horizontal",
            "min": 0,
            "description_tooltip": null,
            "_model_module": "@jupyter-widgets/controls",
            "layout": "IPY_MODEL_113f315af93a497c807f13bc7e12e85d"
          }
        },
        "e468f28da2f346c49a743522adaf38d0": {
          "model_module": "@jupyter-widgets/controls",
          "model_name": "HTMLModel",
          "model_module_version": "1.5.0",
          "state": {
            "_view_name": "HTMLView",
            "style": "IPY_MODEL_2587c593165840ab938c563a5816044f",
            "_dom_classes": [],
            "description": "",
            "_model_name": "HTMLModel",
            "placeholder": "​",
            "_view_module": "@jupyter-widgets/controls",
            "_model_module_version": "1.5.0",
            "value": " 10/10 [07:54&lt;00:00, 47.56s/it]",
            "_view_count": null,
            "_view_module_version": "1.5.0",
            "description_tooltip": null,
            "_model_module": "@jupyter-widgets/controls",
            "layout": "IPY_MODEL_7be383e27d7f4c3c85ef7ac038b04343"
          }
        },
        "1f2062b1b3214345921bdc7afa8af1ec": {
          "model_module": "@jupyter-widgets/controls",
          "model_name": "DescriptionStyleModel",
          "model_module_version": "1.5.0",
          "state": {
            "_view_name": "StyleView",
            "_model_name": "DescriptionStyleModel",
            "description_width": "",
            "_view_module": "@jupyter-widgets/base",
            "_model_module_version": "1.5.0",
            "_view_count": null,
            "_view_module_version": "1.2.0",
            "_model_module": "@jupyter-widgets/controls"
          }
        },
        "23f124fc95504c22975d997027e290ce": {
          "model_module": "@jupyter-widgets/base",
          "model_name": "LayoutModel",
          "model_module_version": "1.2.0",
          "state": {
            "_view_name": "LayoutView",
            "grid_template_rows": null,
            "right": null,
            "justify_content": null,
            "_view_module": "@jupyter-widgets/base",
            "overflow": null,
            "_model_module_version": "1.2.0",
            "_view_count": null,
            "flex_flow": null,
            "width": null,
            "min_width": null,
            "border": null,
            "align_items": null,
            "bottom": null,
            "_model_module": "@jupyter-widgets/base",
            "top": null,
            "grid_column": null,
            "overflow_y": null,
            "overflow_x": null,
            "grid_auto_flow": null,
            "grid_area": null,
            "grid_template_columns": null,
            "flex": null,
            "_model_name": "LayoutModel",
            "justify_items": null,
            "grid_row": null,
            "max_height": null,
            "align_content": null,
            "visibility": null,
            "align_self": null,
            "height": null,
            "min_height": null,
            "padding": null,
            "grid_auto_rows": null,
            "grid_gap": null,
            "max_width": null,
            "order": null,
            "_view_module_version": "1.2.0",
            "grid_template_areas": null,
            "object_position": null,
            "object_fit": null,
            "grid_auto_columns": null,
            "margin": null,
            "display": null,
            "left": null
          }
        },
        "6d5c7314997a46949cf128f2dc9f2e34": {
          "model_module": "@jupyter-widgets/controls",
          "model_name": "ProgressStyleModel",
          "model_module_version": "1.5.0",
          "state": {
            "_view_name": "StyleView",
            "_model_name": "ProgressStyleModel",
            "description_width": "",
            "_view_module": "@jupyter-widgets/base",
            "_model_module_version": "1.5.0",
            "_view_count": null,
            "_view_module_version": "1.2.0",
            "bar_color": null,
            "_model_module": "@jupyter-widgets/controls"
          }
        },
        "113f315af93a497c807f13bc7e12e85d": {
          "model_module": "@jupyter-widgets/base",
          "model_name": "LayoutModel",
          "model_module_version": "1.2.0",
          "state": {
            "_view_name": "LayoutView",
            "grid_template_rows": null,
            "right": null,
            "justify_content": null,
            "_view_module": "@jupyter-widgets/base",
            "overflow": null,
            "_model_module_version": "1.2.0",
            "_view_count": null,
            "flex_flow": null,
            "width": null,
            "min_width": null,
            "border": null,
            "align_items": null,
            "bottom": null,
            "_model_module": "@jupyter-widgets/base",
            "top": null,
            "grid_column": null,
            "overflow_y": null,
            "overflow_x": null,
            "grid_auto_flow": null,
            "grid_area": null,
            "grid_template_columns": null,
            "flex": null,
            "_model_name": "LayoutModel",
            "justify_items": null,
            "grid_row": null,
            "max_height": null,
            "align_content": null,
            "visibility": null,
            "align_self": null,
            "height": null,
            "min_height": null,
            "padding": null,
            "grid_auto_rows": null,
            "grid_gap": null,
            "max_width": null,
            "order": null,
            "_view_module_version": "1.2.0",
            "grid_template_areas": null,
            "object_position": null,
            "object_fit": null,
            "grid_auto_columns": null,
            "margin": null,
            "display": null,
            "left": null
          }
        },
        "2587c593165840ab938c563a5816044f": {
          "model_module": "@jupyter-widgets/controls",
          "model_name": "DescriptionStyleModel",
          "model_module_version": "1.5.0",
          "state": {
            "_view_name": "StyleView",
            "_model_name": "DescriptionStyleModel",
            "description_width": "",
            "_view_module": "@jupyter-widgets/base",
            "_model_module_version": "1.5.0",
            "_view_count": null,
            "_view_module_version": "1.2.0",
            "_model_module": "@jupyter-widgets/controls"
          }
        },
        "7be383e27d7f4c3c85ef7ac038b04343": {
          "model_module": "@jupyter-widgets/base",
          "model_name": "LayoutModel",
          "model_module_version": "1.2.0",
          "state": {
            "_view_name": "LayoutView",
            "grid_template_rows": null,
            "right": null,
            "justify_content": null,
            "_view_module": "@jupyter-widgets/base",
            "overflow": null,
            "_model_module_version": "1.2.0",
            "_view_count": null,
            "flex_flow": null,
            "width": null,
            "min_width": null,
            "border": null,
            "align_items": null,
            "bottom": null,
            "_model_module": "@jupyter-widgets/base",
            "top": null,
            "grid_column": null,
            "overflow_y": null,
            "overflow_x": null,
            "grid_auto_flow": null,
            "grid_area": null,
            "grid_template_columns": null,
            "flex": null,
            "_model_name": "LayoutModel",
            "justify_items": null,
            "grid_row": null,
            "max_height": null,
            "align_content": null,
            "visibility": null,
            "align_self": null,
            "height": null,
            "min_height": null,
            "padding": null,
            "grid_auto_rows": null,
            "grid_gap": null,
            "max_width": null,
            "order": null,
            "_view_module_version": "1.2.0",
            "grid_template_areas": null,
            "object_position": null,
            "object_fit": null,
            "grid_auto_columns": null,
            "margin": null,
            "display": null,
            "left": null
          }
        }
      }
    }
  },
  "cells": [
    {
      "cell_type": "markdown",
      "metadata": {
        "id": "72fsQCV74Us-"
      },
      "source": [
        "# Selenium 만으로 YouTube Ranking 수집하기\n"
      ]
    },
    {
      "cell_type": "code",
      "metadata": {
        "colab": {
          "base_uri": "https://localhost:8080/"
        },
        "id": "om8Bbunj4O8U",
        "outputId": "eb7b2171-131e-471b-dad9-00da90532742"
      },
      "source": [
        "!apt-get update > /dev/null\n",
        "!pip install selenium > /dev/null\n",
        "!apt install chromium-chromedriver > /dev/null"
      ],
      "execution_count": 1,
      "outputs": [
        {
          "output_type": "stream",
          "text": [
            "\n",
            "WARNING: apt does not have a stable CLI interface. Use with caution in scripts.\n",
            "\n"
          ],
          "name": "stdout"
        }
      ]
    },
    {
      "cell_type": "code",
      "metadata": {
        "id": "vfrMeOuK4bWt"
      },
      "source": [
        "from selenium import webdriver\n",
        "from selenium.webdriver.common.keys import Keys\n",
        "import time\n",
        "import pandas as pd"
      ],
      "execution_count": 2,
      "outputs": []
    },
    {
      "cell_type": "code",
      "metadata": {
        "id": "a4DUVrCE4m67"
      },
      "source": [
        "options = webdriver.ChromeOptions()\n",
        "options.add_argument('--headless')   # 화면없이 실행\n",
        "options.add_argument('--no-sandbox')\n",
        "options.add_argument(\"--single-process\")\n",
        "options.add_argument(\"--disable-dev-shm-usage\")\n",
        "driver = webdriver.Chrome('chromedriver', options=options)"
      ],
      "execution_count": 3,
      "outputs": []
    },
    {
      "cell_type": "code",
      "metadata": {
        "id": "Dsg5TIWc4oP1"
      },
      "source": [
        "url = 'https://youtube-rank.com/board/bbs/board.php?bo_table=youtube&page=1'\n",
        "driver.get(url)\n",
        "# time.sleep(2)"
      ],
      "execution_count": 4,
      "outputs": []
    },
    {
      "cell_type": "code",
      "metadata": {
        "id": "kI3GsMgc4paS"
      },
      "source": [
        "# pop-up 창이 있으면, pop-up 창을 닫고 메인 윈도우로 되돌아 옴\n",
        "window_len = len(driver.window_handles)\n",
        "if window_len == 2:\n",
        "    driver.switch_to.window(driver.window_handles[1])\n",
        "    driver.close()\n",
        "\n",
        "# 화면의 끝까지 PageDown으로 내려보냄\n",
        "driver.switch_to.window(driver.window_handles[0])\n",
        "body = driver.find_element_by_css_selector('body')\n",
        "for i in range(30):\n",
        "    body.send_keys(Keys.PAGE_DOWN)\n",
        "    time.sleep(1)"
      ],
      "execution_count": 5,
      "outputs": []
    },
    {
      "cell_type": "code",
      "metadata": {
        "colab": {
          "base_uri": "https://localhost:8080/"
        },
        "id": "79a8lmYE4q79",
        "outputId": "340d131a-27b8-497f-bc5b-ec5674a26b53"
      },
      "source": [
        "trs = driver.find_elements_by_css_selector('.aos-init')\n",
        "len(trs)"
      ],
      "execution_count": 6,
      "outputs": [
        {
          "output_type": "execute_result",
          "data": {
            "text/plain": [
              "100"
            ]
          },
          "metadata": {
            "tags": []
          },
          "execution_count": 6
        }
      ]
    },
    {
      "cell_type": "code",
      "metadata": {
        "colab": {
          "base_uri": "https://localhost:8080/",
          "height": 35
        },
        "id": "TNCNltQ24zIu",
        "outputId": "084452ac-3080-42f0-d8c9-81e82403aa44"
      },
      "source": [
        "trs[99].text"
      ],
      "execution_count": 7,
      "outputs": [
        {
          "output_type": "execute_result",
          "data": {
            "application/vnd.google.colaboratory.intrinsic+json": {
              "type": "string"
            },
            "text/plain": [
              "'101\\n[취미/라이프]\\nJaeYeol ASMR 재열 0\\n먹방 asmr mukbang \"jaeyeol asmr\" 재열 MUKBANG \"ASMR MUKBANG\"\\n380만 10억1154만 970개 3,097'"
            ]
          },
          "metadata": {
            "tags": []
          },
          "execution_count": 7
        }
      ]
    },
    {
      "cell_type": "code",
      "metadata": {
        "id": "Wp8IuW4U40aI"
      },
      "source": [
        "def convert_unit(s):\n",
        "    #s = ''.join(s.split('억'))\n",
        "    s = s.replace('억', '').replace('개','').replace(',','')\n",
        "    s = s.replace('만', '0000')\n",
        "    return f'{int(s):,d}'"
      ],
      "execution_count": 8,
      "outputs": []
    },
    {
      "cell_type": "code",
      "metadata": {
        "colab": {
          "base_uri": "https://localhost:8080/",
          "height": 35
        },
        "id": "77Na7VhE416z",
        "outputId": "7d4f89e7-8414-4248-b31c-3ac599b9874a"
      },
      "source": [
        "tr = trs[99]\n",
        "category = tr.find_element_by_css_selector('p.category').text.strip(' \\n[]')\n",
        "category"
      ],
      "execution_count": 9,
      "outputs": [
        {
          "output_type": "execute_result",
          "data": {
            "application/vnd.google.colaboratory.intrinsic+json": {
              "type": "string"
            },
            "text/plain": [
              "'취미/라이프'"
            ]
          },
          "metadata": {
            "tags": []
          },
          "execution_count": 9
        }
      ]
    },
    {
      "cell_type": "code",
      "metadata": {
        "colab": {
          "base_uri": "https://localhost:8080/"
        },
        "id": "mZz7Mlz-43ey",
        "outputId": "f1485a64-cc2c-4741-ddf6-8cd7df1f4fda"
      },
      "source": [
        "name = tr.find_element_by_css_selector('.subject a').text.strip()\n",
        "subscriber = convert_unit(tr.find_element_by_css_selector('.subscriber_cnt').text)\n",
        "view = convert_unit(tr.find_element_by_css_selector('.view_cnt').text)\n",
        "video = convert_unit(tr.find_element_by_css_selector('.video_cnt').text)\n",
        "name, subscriber, view, video"
      ],
      "execution_count": 10,
      "outputs": [
        {
          "output_type": "execute_result",
          "data": {
            "text/plain": [
              "('JaeYeol ASMR 재열', '3,800,000', '1,011,540,000', '970')"
            ]
          },
          "metadata": {
            "tags": []
          },
          "execution_count": 10
        }
      ]
    },
    {
      "cell_type": "code",
      "metadata": {
        "id": "O6q7c6RO44vZ"
      },
      "source": [
        "from tqdm.notebook import tqdm"
      ],
      "execution_count": 11,
      "outputs": []
    },
    {
      "cell_type": "code",
      "metadata": {
        "colab": {
          "base_uri": "https://localhost:8080/",
          "height": 49,
          "referenced_widgets": [
            "a9c27980378d4f888536446f1bf51c26",
            "d5ff33d7cd1448b0b5ca12cd372d06e1",
            "e349fc8c9c0042e992b866fb7a7b8d5f",
            "8fd876114fb34c519a17d38b4d0a8df1",
            "e468f28da2f346c49a743522adaf38d0",
            "1f2062b1b3214345921bdc7afa8af1ec",
            "23f124fc95504c22975d997027e290ce",
            "6d5c7314997a46949cf128f2dc9f2e34",
            "113f315af93a497c807f13bc7e12e85d",
            "2587c593165840ab938c563a5816044f",
            "7be383e27d7f4c3c85ef7ac038b04343"
          ]
        },
        "id": "OnJGC8en46Cg",
        "outputId": "ba8cd1e8-7c38-4b12-a5ce-974864f581b3"
      },
      "source": [
        "results = []\n",
        "for page in tqdm(range(1,11)):\n",
        "    #print(page)\n",
        "    url = 'https://youtube-rank.com/board/bbs/board.php?bo_table=youtube&page='+str(page)\n",
        "    driver.get(url)\n",
        "    time.sleep(2)\n",
        "\n",
        "    window_len = len(driver.window_handles)\n",
        "    if window_len == 2:\n",
        "        driver.switch_to.window(driver.window_handles[1])\n",
        "        driver.close()\n",
        "    driver.switch_to.window(driver.window_handles[0])\n",
        "    body = driver.find_element_by_css_selector('body')\n",
        "    for i in range(30):\n",
        "        body.send_keys(Keys.PAGE_DOWN)\n",
        "        time.sleep(1)\n",
        "\n",
        "    trs = driver.find_elements_by_css_selector('.aos-init')\n",
        "\n",
        "    for tr in trs:\n",
        "        category = tr.find_element_by_css_selector('p.category').text.strip(' \\n[]')\n",
        "        #category = channel.select_one('p.category').get_text().strip(' \\n[]')\n",
        "        name = tr.find_element_by_css_selector('.subject a').text.strip()\n",
        "        #name = channel.select_one('.subject a').text.strip()\n",
        "        subscriber = convert_unit(tr.find_element_by_css_selector('.subscriber_cnt').text)\n",
        "        #subscriber = convert_unit(channel.select_one('.subscriber_cnt').text)\n",
        "        view = convert_unit(tr.find_element_by_css_selector('.view_cnt').text)\n",
        "        #view = convert_unit(channel.select_one('.view_cnt').text)\n",
        "        video = convert_unit(tr.find_element_by_css_selector('.video_cnt').text)\n",
        "        #video = convert_unit(channel.select_one('.video_cnt').text)\n",
        "        results.append([category,name,subscriber,view,video])"
      ],
      "execution_count": 12,
      "outputs": [
        {
          "output_type": "display_data",
          "data": {
            "application/vnd.jupyter.widget-view+json": {
              "model_id": "a9c27980378d4f888536446f1bf51c26",
              "version_minor": 0,
              "version_major": 2
            },
            "text/plain": [
              "  0%|          | 0/10 [00:00<?, ?it/s]"
            ]
          },
          "metadata": {
            "tags": []
          }
        }
      ]
    },
    {
      "cell_type": "code",
      "metadata": {
        "colab": {
          "base_uri": "https://localhost:8080/",
          "height": 204
        },
        "id": "IhIEbNLW47yn",
        "outputId": "28dcffc5-753a-4068-f753-9ba2e4bef44e"
      },
      "source": [
        "df = pd.DataFrame(results, columns=['카테고리','채널명','구독자수','조회수','비디오수'])\n",
        "df.head()"
      ],
      "execution_count": 13,
      "outputs": [
        {
          "output_type": "execute_result",
          "data": {
            "text/html": [
              "<div>\n",
              "<style scoped>\n",
              "    .dataframe tbody tr th:only-of-type {\n",
              "        vertical-align: middle;\n",
              "    }\n",
              "\n",
              "    .dataframe tbody tr th {\n",
              "        vertical-align: top;\n",
              "    }\n",
              "\n",
              "    .dataframe thead th {\n",
              "        text-align: right;\n",
              "    }\n",
              "</style>\n",
              "<table border=\"1\" class=\"dataframe\">\n",
              "  <thead>\n",
              "    <tr style=\"text-align: right;\">\n",
              "      <th></th>\n",
              "      <th>카테고리</th>\n",
              "      <th>채널명</th>\n",
              "      <th>구독자수</th>\n",
              "      <th>조회수</th>\n",
              "      <th>비디오수</th>\n",
              "    </tr>\n",
              "  </thead>\n",
              "  <tbody>\n",
              "    <tr>\n",
              "      <th>0</th>\n",
              "      <td>음악/댄스/가수</td>\n",
              "      <td>BLACKPINK</td>\n",
              "      <td>64,000,000</td>\n",
              "      <td>19,003,810,000</td>\n",
              "      <td>371</td>\n",
              "    </tr>\n",
              "    <tr>\n",
              "      <th>1</th>\n",
              "      <td>음악/댄스/가수</td>\n",
              "      <td>HYBE LABELS</td>\n",
              "      <td>60,300,000</td>\n",
              "      <td>18,713,050,000</td>\n",
              "      <td>654</td>\n",
              "    </tr>\n",
              "    <tr>\n",
              "      <th>2</th>\n",
              "      <td>음악/댄스/가수</td>\n",
              "      <td>BANGTANTV</td>\n",
              "      <td>56,400,000</td>\n",
              "      <td>12,194,960,000</td>\n",
              "      <td>1,579</td>\n",
              "    </tr>\n",
              "    <tr>\n",
              "      <th>3</th>\n",
              "      <td>음악/댄스/가수</td>\n",
              "      <td>SMTOWN</td>\n",
              "      <td>28,500,000</td>\n",
              "      <td>21,870,920,000</td>\n",
              "      <td>3,729</td>\n",
              "    </tr>\n",
              "    <tr>\n",
              "      <th>4</th>\n",
              "      <td>키즈/어린이</td>\n",
              "      <td>Boram Tube Vlog [보람튜브 브이로그]</td>\n",
              "      <td>26,500,000</td>\n",
              "      <td>11,052,880,000</td>\n",
              "      <td>223</td>\n",
              "    </tr>\n",
              "  </tbody>\n",
              "</table>\n",
              "</div>"
            ],
            "text/plain": [
              "       카테고리                          채널명        구독자수             조회수   비디오수\n",
              "0  음악/댄스/가수                    BLACKPINK  64,000,000  19,003,810,000    371\n",
              "1  음악/댄스/가수                  HYBE LABELS  60,300,000  18,713,050,000    654\n",
              "2  음악/댄스/가수                    BANGTANTV  56,400,000  12,194,960,000  1,579\n",
              "3  음악/댄스/가수                       SMTOWN  28,500,000  21,870,920,000  3,729\n",
              "4    키즈/어린이  Boram Tube Vlog [보람튜브 브이로그]  26,500,000  11,052,880,000    223"
            ]
          },
          "metadata": {
            "tags": []
          },
          "execution_count": 13
        }
      ]
    },
    {
      "cell_type": "code",
      "metadata": {
        "colab": {
          "base_uri": "https://localhost:8080/",
          "height": 204
        },
        "id": "Nla289jy60d9",
        "outputId": "47960a75-53ee-4d73-f8cb-9d8509dde99c"
      },
      "source": [
        "df.tail()"
      ],
      "execution_count": 14,
      "outputs": [
        {
          "output_type": "execute_result",
          "data": {
            "text/html": [
              "<div>\n",
              "<style scoped>\n",
              "    .dataframe tbody tr th:only-of-type {\n",
              "        vertical-align: middle;\n",
              "    }\n",
              "\n",
              "    .dataframe tbody tr th {\n",
              "        vertical-align: top;\n",
              "    }\n",
              "\n",
              "    .dataframe thead th {\n",
              "        text-align: right;\n",
              "    }\n",
              "</style>\n",
              "<table border=\"1\" class=\"dataframe\">\n",
              "  <thead>\n",
              "    <tr style=\"text-align: right;\">\n",
              "      <th></th>\n",
              "      <th>카테고리</th>\n",
              "      <th>채널명</th>\n",
              "      <th>구독자수</th>\n",
              "      <th>조회수</th>\n",
              "      <th>비디오수</th>\n",
              "    </tr>\n",
              "  </thead>\n",
              "  <tbody>\n",
              "    <tr>\n",
              "      <th>995</th>\n",
              "      <td>게임</td>\n",
              "      <td>미소</td>\n",
              "      <td>510,000</td>\n",
              "      <td>210,770,000</td>\n",
              "      <td>3,084</td>\n",
              "    </tr>\n",
              "    <tr>\n",
              "      <th>996</th>\n",
              "      <td>미분류</td>\n",
              "      <td>밉지않은 관종언니</td>\n",
              "      <td>510,000</td>\n",
              "      <td>67,740,000</td>\n",
              "      <td>170</td>\n",
              "    </tr>\n",
              "    <tr>\n",
              "      <th>997</th>\n",
              "      <td>미분류</td>\n",
              "      <td>복지마블TV [Welfare Marble]</td>\n",
              "      <td>510,000</td>\n",
              "      <td>49,960,000</td>\n",
              "      <td>240</td>\n",
              "    </tr>\n",
              "    <tr>\n",
              "      <th>998</th>\n",
              "      <td>음식/요리/레시피</td>\n",
              "      <td>Muggo</td>\n",
              "      <td>510,000</td>\n",
              "      <td>183,720,000</td>\n",
              "      <td>1,388</td>\n",
              "    </tr>\n",
              "    <tr>\n",
              "      <th>999</th>\n",
              "      <td>게임</td>\n",
              "      <td>임선비</td>\n",
              "      <td>510,000</td>\n",
              "      <td>234,290,000</td>\n",
              "      <td>1,134</td>\n",
              "    </tr>\n",
              "  </tbody>\n",
              "</table>\n",
              "</div>"
            ],
            "text/plain": [
              "          카테고리                      채널명     구독자수          조회수   비디오수\n",
              "995         게임                       미소  510,000  210,770,000  3,084\n",
              "996        미분류                밉지않은 관종언니  510,000   67,740,000    170\n",
              "997        미분류  복지마블TV [Welfare Marble]  510,000   49,960,000    240\n",
              "998  음식/요리/레시피                    Muggo  510,000  183,720,000  1,388\n",
              "999         게임                      임선비  510,000  234,290,000  1,134"
            ]
          },
          "metadata": {
            "tags": []
          },
          "execution_count": 14
        }
      ]
    },
    {
      "cell_type": "code",
      "metadata": {
        "id": "Rzxfze1p62NV"
      },
      "source": [
        ""
      ],
      "execution_count": null,
      "outputs": []
    }
  ]
}