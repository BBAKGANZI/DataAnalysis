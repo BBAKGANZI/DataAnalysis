{
 "cells": [
  {
   "cell_type": "markdown",
   "source": [
    "# 제주도 명소 - 인스타그램 그롤링"
   ],
   "metadata": {}
  },
  {
   "cell_type": "code",
   "execution_count": 1,
   "source": [
    "from selenium import webdriver\r\n",
    "from bs4 import BeautifulSoup\r\n",
    "import time\r\n",
    "import pandas as pd\r\n",
    "from urllib.parse import quote"
   ],
   "outputs": [],
   "metadata": {}
  },
  {
   "cell_type": "code",
   "execution_count": 2,
   "source": [
    "chromedriver = '/Users/baekj/Downloads/chromedriver_win32/chromedriver.exe'\r\n",
    "driver = webdriver.Chrome(chromedriver)"
   ],
   "outputs": [],
   "metadata": {}
  },
  {
   "cell_type": "markdown",
   "source": [
    "## 1. Instagram에 접속하여 로그인"
   ],
   "metadata": {}
  },
  {
   "cell_type": "code",
   "execution_count": 3,
   "source": [
    "insta_url = 'https://www.instagram.com'\r\n",
    "driver.get(insta_url)\r\n",
    "time.sleep(1)"
   ],
   "outputs": [],
   "metadata": {}
  },
  {
   "cell_type": "code",
   "execution_count": 4,
   "source": [
    "with open('password.txt') as f:\r\n",
    "    password = f.read(10)"
   ],
   "outputs": [],
   "metadata": {}
  },
  {
   "cell_type": "code",
   "execution_count": 5,
   "source": [
    "len(password)"
   ],
   "outputs": [
    {
     "output_type": "execute_result",
     "data": {
      "text/plain": [
       "10"
      ]
     },
     "metadata": {},
     "execution_count": 5
    }
   ],
   "metadata": {}
  },
  {
   "cell_type": "code",
   "execution_count": 6,
   "source": [
    "email = 'bbakganzi_90'\r\n",
    "input_email = driver.find_element_by_css_selector('._2hvTZ.pexuQ.zyHYP')\r\n",
    "input_email.clear()\r\n",
    "input_email.send_keys(email)"
   ],
   "outputs": [],
   "metadata": {}
  },
  {
   "cell_type": "code",
   "execution_count": 7,
   "source": [
    "input_pwd = driver.find_element_by_name('password')\r\n",
    "input_pwd.clear()\r\n",
    "input_pwd.send_keys(password)\r\n",
    "input_pwd.submit()\r\n",
    "time.sleep(1)"
   ],
   "outputs": [],
   "metadata": {}
  },
  {
   "cell_type": "code",
   "execution_count": 8,
   "source": [
    "# 로그인 정보 저장 - 나중에 하기\r\n",
    "driver.find_element_by_css_selector('.sqdOP.yWX7d.y3zKF').click()\r\n",
    "time.sleep(1)"
   ],
   "outputs": [],
   "metadata": {}
  },
  {
   "cell_type": "code",
   "execution_count": 9,
   "source": [
    "# 알림 설정 - 나중에 하기\r\n",
    "try:        # 있으면 클릭 없으면 pass\r\n",
    "    driver.find_element_by_css_selector('.aOOlW.HoLwm').click()\r\n",
    "    time.sleep(1)\r\n",
    "except:\r\n",
    "    pass"
   ],
   "outputs": [],
   "metadata": {}
  },
  {
   "cell_type": "markdown",
   "source": [
    "## 2. 제주도맛집으로 검색"
   ],
   "metadata": {}
  },
  {
   "cell_type": "code",
   "execution_count": 10,
   "source": [
    "from urllib.parse import quote\r\n",
    "keyword = '제주도맛집'\r\n",
    "search_url = 'https://www.instagram.com/explore/tags/'\r\n",
    "url = f'{search_url}{quote(keyword)}'\r\n",
    "url"
   ],
   "outputs": [
    {
     "output_type": "execute_result",
     "data": {
      "text/plain": [
       "'https://www.instagram.com/explore/tags/%EC%A0%9C%EC%A3%BC%EB%8F%84%EB%A7%9B%EC%A7%91'"
      ]
     },
     "metadata": {},
     "execution_count": 10
    }
   ],
   "metadata": {}
  },
  {
   "cell_type": "code",
   "execution_count": 11,
   "source": [
    "driver.get(url)\r\n",
    "time.sleep(5)       # 충분한 time.sleep시간을 줘야함"
   ],
   "outputs": [],
   "metadata": {}
  },
  {
   "cell_type": "markdown",
   "source": [
    "## 3. 첫번째 게시글 열기"
   ],
   "metadata": {}
  },
  {
   "cell_type": "code",
   "execution_count": 12,
   "source": [
    "driver.find_element_by_css_selector('div._9AhH0').click()\r\n",
    "time.sleep(1)"
   ],
   "outputs": [],
   "metadata": {}
  },
  {
   "cell_type": "markdown",
   "source": [
    "## 4. 게시글 정보 가져오기"
   ],
   "metadata": {}
  },
  {
   "cell_type": "code",
   "execution_count": 13,
   "source": [
    "html = driver.page_source\r\n",
    "soup = BeautifulSoup(html, 'html.parser')"
   ],
   "outputs": [],
   "metadata": {}
  },
  {
   "cell_type": "code",
   "execution_count": 16,
   "source": [
    "# 1) 본문 내용 가져오기\r\n",
    "import unicodedata\r\n",
    "try:\r\n",
    "    content = soup.select_one('div.C4VMK > span').text\r\n",
    "    content = unicodedata.normalize('NFC', content)\r\n",
    "except:\r\n",
    "    content = ' '\r\n",
    "content"
   ],
   "outputs": [
    {
     "output_type": "execute_result",
     "data": {
      "text/plain": [
       "'42년 전통 도민 맛집. 태양을 품은 듯 화끈한 비주얼이다. 포슬포슬한 두부가 푸짐히 들어간 순두부 찌개다. #신해바라기분식 #제주도맛집뜨끈한 국물과 두부 한 숟갈을 떠먹으면 화끈한 매운맛과 뜨거운 열기가 식욕을 자극한다. (신라면보다 조금 매운 정도?)맵기 조절이 가능하기에 취향에 따라 먹을 수 있다. 매운 걸 먹지 못하는 일행이 있다면, 백순두부도 좋다. 더 담백하고 맑은 국물로 두부맛에 집중할 수 있다. 보글보글 끓어나오는 콩비지 느낌의 순두부 찌개와 오징어 젓갈이 기억에 남는 제주도 로컬 맛집이다. 📍 제주 일도1동 1342-4◾순두부찌개 ₩7,000🏷 피웨 부캐 노포 간판 수집가 @nopo__joa🏷 미식가들의 맛집 모음집 @e.a.t.club#순두부찌개 #국밥맛집 #제주맛집 #제주시맛집 #피그웨이브_제주'"
      ]
     },
     "metadata": {},
     "execution_count": 16
    }
   ],
   "metadata": {}
  },
  {
   "cell_type": "code",
   "execution_count": 31,
   "source": [
    "# 2) 본문 내용에서 해시태그 가져오기   '#[^\\s#,\\\\]+'\r\n",
    "import re\r\n",
    "tags = re.findall(r'#[^\\s#,\\\\]+', content)\r\n",
    "tags\r\n"
   ],
   "outputs": [
    {
     "output_type": "execute_result",
     "data": {
      "text/plain": [
       "['#신해바라기분식', '#제주도맛집뜨끈한', '#순두부찌개', '#국밥맛집', '#제주맛집', '#제주시맛집', '#피그웨이브_제주']"
      ]
     },
     "metadata": {},
     "execution_count": 31
    }
   ],
   "metadata": {}
  },
  {
   "cell_type": "code",
   "execution_count": 21,
   "source": [
    "# 3) 작성일자 정보 가져오기\r\n",
    "date = soup.select_one('time.FH9sR.Nzb55')['datetime'][:10]\r\n",
    "date"
   ],
   "outputs": [
    {
     "output_type": "execute_result",
     "data": {
      "text/plain": [
       "'2021-08-18'"
      ]
     },
     "metadata": {},
     "execution_count": 21
    }
   ],
   "metadata": {}
  },
  {
   "cell_type": "code",
   "execution_count": 28,
   "source": [
    "# 4) 좋아요 수 가져오기\r\n",
    "try:\r\n",
    "    like = soup.select_one('div.Nm9Fw').text[4:-1]\r\n",
    "except:\r\n",
    "    like=0\r\n",
    "like"
   ],
   "outputs": [
    {
     "output_type": "execute_result",
     "data": {
      "text/plain": [
       "0"
      ]
     },
     "metadata": {},
     "execution_count": 28
    }
   ],
   "metadata": {}
  },
  {
   "cell_type": "code",
   "execution_count": 27,
   "source": [
    "# 5) 위치정보 가져오기\r\n",
    "try:\r\n",
    "    place = soup.select('div.M30xS')[0].text\r\n",
    "    place = unicodedata.normalize('NFC', place)\r\n",
    "except:\r\n",
    "    place = ''\r\n",
    "place"
   ],
   "outputs": [
    {
     "output_type": "execute_result",
     "data": {
      "text/plain": [
       "''"
      ]
     },
     "metadata": {},
     "execution_count": 27
    }
   ],
   "metadata": {}
  },
  {
   "cell_type": "code",
   "execution_count": 30,
   "source": [
    "row = [content, tags, date, like, place]\r\n",
    "row"
   ],
   "outputs": [
    {
     "output_type": "execute_result",
     "data": {
      "text/plain": [
       "['42년 전통 도민 맛집. 태양을 품은 듯 화끈한 비주얼이다. 포슬포슬한 두부가 푸짐히 들어간 순두부 찌개다. #신해바라기분식 #제주도맛집뜨끈한 국물과 두부 한 숟갈을 떠먹으면 화끈한 매운맛과 뜨거운 열기가 식욕을 자극한다. (신라면보다 조금 매운 정도?)맵기 조절이 가능하기에 취향에 따라 먹을 수 있다. 매운 걸 먹지 못하는 일행이 있다면, 백순두부도 좋다. 더 담백하고 맑은 국물로 두부맛에 집중할 수 있다. 보글보글 끓어나오는 콩비지 느낌의 순두부 찌개와 오징어 젓갈이 기억에 남는 제주도 로컬 맛집이다. 📍 제주 일도1동 1342-4◾순두부찌개 ₩7,000🏷 피웨 부캐 노포 간판 수집가 @nopo__joa🏷 미식가들의 맛집 모음집 @e.a.t.club#순두부찌개 #국밥맛집 #제주맛집 #제주시맛집 #피그웨이브_제주',\n",
       " ['#신해바라기분식', '#제주도맛집뜨끈한', '#순두부찌개', '#국밥맛집', '#제주맛집', '#제주시맛집', '#피그웨이브_제주'],\n",
       " '2021-08-18',\n",
       " 0,\n",
       " '']"
      ]
     },
     "metadata": {},
     "execution_count": 30
    }
   ],
   "metadata": {}
  },
  {
   "cell_type": "markdown",
   "source": [
    "## 5. 다음 게시글로 이동"
   ],
   "metadata": {}
  },
  {
   "cell_type": "code",
   "execution_count": 33,
   "source": [
    "driver.find_element_by_css_selector('a._65Bje.coreSpriteRightPaginationArrow').click()\r\n",
    "time.sleep(2)"
   ],
   "outputs": [],
   "metadata": {}
  },
  {
   "cell_type": "code",
   "execution_count": 71,
   "source": [
    "# 6을 하기 위해 게시글 닫기\r\n",
    "driver.find_element_by_xpath('/html/body/div[6]/div[3]/button').click()"
   ],
   "outputs": [],
   "metadata": {}
  },
  {
   "cell_type": "markdown",
   "source": [
    "## 6. 여러개의 게시글 가져오기"
   ],
   "metadata": {}
  },
  {
   "cell_type": "code",
   "execution_count": 45,
   "source": [
    "from tqdm.notebook import tqdm"
   ],
   "outputs": [],
   "metadata": {}
  },
  {
   "cell_type": "code",
   "execution_count": 59,
   "source": [
    "def get_content(driver):\r\n",
    "    html = driver.page_source\r\n",
    "    soup = BeautifulSoup(html, 'html.parser')\r\n",
    "    \r\n",
    "    try:\r\n",
    "        content = soup.select_one('div.C4VMK > span').text\r\n",
    "        content = unicodedata.normalize('NFC', content)\r\n",
    "    except:\r\n",
    "        content = ' '\r\n",
    "    tags = re.findall(r'#[^\\s#,\\\\]+', content)\r\n",
    "    date = soup.select_one('time.FH9sR.Nzb55')['datetime'][:10]\r\n",
    "\r\n",
    "    try:\r\n",
    "        like = soup.select_one('div.Nm9Fw').text[4:-1]\r\n",
    "    except:\r\n",
    "        like=0\r\n",
    "\r\n",
    "    try:\r\n",
    "        place = soup.select('div.M30xS')[0].text\r\n",
    "        place = unicodedata.normalize('NFC', place)\r\n",
    "    except:\r\n",
    "        place = ''\r\n",
    "\r\n",
    "    return[content, tags, date, like, place]"
   ],
   "outputs": [],
   "metadata": {}
  },
  {
   "cell_type": "markdown",
   "source": [
    "### - 제주도맛집, 제주맛집, 제주도관광, 제주여행"
   ],
   "metadata": {}
  },
  {
   "cell_type": "code",
   "execution_count": 62,
   "source": [
    "keyword = '제주여행'\r\n",
    "search_url = 'https://www.instagram.com/explore/tags/'\r\n",
    "url = f'{search_url}{quote(keyword)}'\r\n",
    "driver.get(url)\r\n",
    "time.sleep(5)\r\n",
    "driver.find_element_by_css_selector('div._9AhH0').click()\r\n",
    "time.sleep(1)"
   ],
   "outputs": [],
   "metadata": {}
  },
  {
   "cell_type": "code",
   "execution_count": 63,
   "source": [
    "results = []\r\n",
    "for _ in tqdm(range(200)):\r\n",
    "    try:\r\n",
    "        row = get_content(driver)\r\n",
    "        results.append(row)\r\n",
    "        driver.find_element_by_css_selector('a._65Bje.coreSpriteRightPaginationArrow').click()\r\n",
    "        time.sleep(3)\r\n",
    "    except:\r\n",
    "        time.sleep(3)\r\n",
    "        driver.find_element_by_css_selector('a._65Bje.coreSpriteRightPaginationArrow').click()\r\n",
    "        time.sleep(3)"
   ],
   "outputs": [
    {
     "output_type": "display_data",
     "data": {
      "text/plain": [
       "  0%|          | 0/500 [00:00<?, ?it/s]"
      ],
      "application/vnd.jupyter.widget-view+json": {
       "version_major": 2,
       "version_minor": 0,
       "model_id": "8f86db86cd9d4e25b2e794bdd4d56c62"
      }
     },
     "metadata": {}
    },
    {
     "output_type": "error",
     "ename": "KeyboardInterrupt",
     "evalue": "",
     "traceback": [
      "\u001b[1;31m---------------------------------------------------------------------------\u001b[0m",
      "\u001b[1;31mTypeError\u001b[0m                                 Traceback (most recent call last)",
      "\u001b[1;32m<ipython-input-63-ba5d490652b9>\u001b[0m in \u001b[0;36m<module>\u001b[1;34m\u001b[0m\n\u001b[0;32m      3\u001b[0m     \u001b[1;32mtry\u001b[0m\u001b[1;33m:\u001b[0m\u001b[1;33m\u001b[0m\u001b[1;33m\u001b[0m\u001b[0m\n\u001b[1;32m----> 4\u001b[1;33m         \u001b[0mrow\u001b[0m \u001b[1;33m=\u001b[0m \u001b[0mget_content\u001b[0m\u001b[1;33m(\u001b[0m\u001b[0mdriver\u001b[0m\u001b[1;33m)\u001b[0m\u001b[1;33m\u001b[0m\u001b[1;33m\u001b[0m\u001b[0m\n\u001b[0m\u001b[0;32m      5\u001b[0m         \u001b[0mresults\u001b[0m\u001b[1;33m.\u001b[0m\u001b[0mappend\u001b[0m\u001b[1;33m(\u001b[0m\u001b[0mrow\u001b[0m\u001b[1;33m)\u001b[0m\u001b[1;33m\u001b[0m\u001b[1;33m\u001b[0m\u001b[0m\n",
      "\u001b[1;32m<ipython-input-59-eb9e8048bf2f>\u001b[0m in \u001b[0;36mget_content\u001b[1;34m(driver)\u001b[0m\n\u001b[0;32m     10\u001b[0m     \u001b[0mtags\u001b[0m \u001b[1;33m=\u001b[0m \u001b[0mre\u001b[0m\u001b[1;33m.\u001b[0m\u001b[0mfindall\u001b[0m\u001b[1;33m(\u001b[0m\u001b[1;34mr'#[^\\s#,\\\\]+'\u001b[0m\u001b[1;33m,\u001b[0m \u001b[0mcontent\u001b[0m\u001b[1;33m)\u001b[0m\u001b[1;33m\u001b[0m\u001b[1;33m\u001b[0m\u001b[0m\n\u001b[1;32m---> 11\u001b[1;33m     \u001b[0mdate\u001b[0m \u001b[1;33m=\u001b[0m \u001b[0msoup\u001b[0m\u001b[1;33m.\u001b[0m\u001b[0mselect_one\u001b[0m\u001b[1;33m(\u001b[0m\u001b[1;34m'time.FH9sR.Nzb55'\u001b[0m\u001b[1;33m)\u001b[0m\u001b[1;33m[\u001b[0m\u001b[1;34m'datetime'\u001b[0m\u001b[1;33m]\u001b[0m\u001b[1;33m[\u001b[0m\u001b[1;33m:\u001b[0m\u001b[1;36m10\u001b[0m\u001b[1;33m]\u001b[0m\u001b[1;33m\u001b[0m\u001b[1;33m\u001b[0m\u001b[0m\n\u001b[0m\u001b[0;32m     12\u001b[0m \u001b[1;33m\u001b[0m\u001b[0m\n",
      "\u001b[1;31mTypeError\u001b[0m: 'NoneType' object is not subscriptable",
      "\nDuring handling of the above exception, another exception occurred:\n",
      "\u001b[1;31mKeyboardInterrupt\u001b[0m                         Traceback (most recent call last)",
      "\u001b[1;32m<ipython-input-63-ba5d490652b9>\u001b[0m in \u001b[0;36m<module>\u001b[1;34m\u001b[0m\n\u001b[0;32m      7\u001b[0m         \u001b[0mtime\u001b[0m\u001b[1;33m.\u001b[0m\u001b[0msleep\u001b[0m\u001b[1;33m(\u001b[0m\u001b[1;36m2\u001b[0m\u001b[1;33m)\u001b[0m\u001b[1;33m\u001b[0m\u001b[1;33m\u001b[0m\u001b[0m\n\u001b[0;32m      8\u001b[0m     \u001b[1;32mexcept\u001b[0m\u001b[1;33m:\u001b[0m\u001b[1;33m\u001b[0m\u001b[1;33m\u001b[0m\u001b[0m\n\u001b[1;32m----> 9\u001b[1;33m         \u001b[0mtime\u001b[0m\u001b[1;33m.\u001b[0m\u001b[0msleep\u001b[0m\u001b[1;33m(\u001b[0m\u001b[1;36m3\u001b[0m\u001b[1;33m)\u001b[0m\u001b[1;33m\u001b[0m\u001b[1;33m\u001b[0m\u001b[0m\n\u001b[0m\u001b[0;32m     10\u001b[0m         \u001b[0mdriver\u001b[0m\u001b[1;33m.\u001b[0m\u001b[0mfind_element_by_css_selector\u001b[0m\u001b[1;33m(\u001b[0m\u001b[1;34m'a._65Bje.coreSpriteRightPaginationArrow'\u001b[0m\u001b[1;33m)\u001b[0m\u001b[1;33m.\u001b[0m\u001b[0mclick\u001b[0m\u001b[1;33m(\u001b[0m\u001b[1;33m)\u001b[0m\u001b[1;33m\u001b[0m\u001b[1;33m\u001b[0m\u001b[0m\n\u001b[0;32m     11\u001b[0m         \u001b[0mtime\u001b[0m\u001b[1;33m.\u001b[0m\u001b[0msleep\u001b[0m\u001b[1;33m(\u001b[0m\u001b[1;36m2\u001b[0m\u001b[1;33m)\u001b[0m\u001b[1;33m\u001b[0m\u001b[1;33m\u001b[0m\u001b[0m\n",
      "\u001b[1;31mKeyboardInterrupt\u001b[0m: "
     ]
    }
   ],
   "metadata": {}
  },
  {
   "cell_type": "code",
   "execution_count": 50,
   "source": [
    "#제주도맛집\r\n",
    "df = pd.DataFrame(results, columns=['content', 'date', 'like', 'place', 'tags'])\r\n",
    "df.head()"
   ],
   "outputs": [
    {
     "output_type": "execute_result",
     "data": {
      "text/plain": [
       "                                             content        date  \\\n",
       "0  .💙 구좌 \"제주모랑\" 💙사장님들이 손수 만든 수제소품들이 가득~좋은향이 가득한 구...  2021-08-18   \n",
       "1  .< 제주해물라면 맛집모음! > 일단저장@ 해물 아낌없이 주는 해물라면 맛집!바다뷰...  2021-08-18   \n",
       "2  그 유명한 #연돈 에 다녀왔습니다. 그런데ㅎ;;;⠀⠀⠀⠀⠀⠀⠀어마무시한 웨이팅으로 ...  2021-08-18   \n",
       "3  .한림 #문도지오름방목된 조랑말과 교감까지 할 수이따규~일몰 시간에 맞춰서 가면 멋...  2021-08-17   \n",
       "4  <광고>#제주분식 https://jejubunsig.modoo.at/ 📌제주시 귀아...  2021-08-16   \n",
       "\n",
       "                       like place  \\\n",
       "0                     1,027         \n",
       "1                     1,008         \n",
       "2  e_foodie님 외 4,534명이 좋아합니         \n",
       "3                     1,303         \n",
       "4                         0         \n",
       "\n",
       "                                                tags  \n",
       "0  [#제주모랑, #제주소품샵, #세화소품샵, #제주기념품, #제주기념품샵, #구좌읍소...  \n",
       "1  [#제주맛집, #제주도맛집, #제주공항근처맛집, #제주시맛집, #애월맛집, #중문맛...  \n",
       "2  [#연돈, #제주도연돈, #테이블링, #등심까스, #수제볼카츠, #아토짱_제주, #...  \n",
       "3  [#문도지오름방목된, #제주맛집, #제주도맛집, #제주공항근처맛집, #제주시맛집, ...  \n",
       "4  [#제주분식, #제주분식⠀간편하게, #모당모당, #돔베라면돔베김밥, #제주맛집, #...  "
      ],
      "text/html": [
       "<div>\n",
       "<style scoped>\n",
       "    .dataframe tbody tr th:only-of-type {\n",
       "        vertical-align: middle;\n",
       "    }\n",
       "\n",
       "    .dataframe tbody tr th {\n",
       "        vertical-align: top;\n",
       "    }\n",
       "\n",
       "    .dataframe thead th {\n",
       "        text-align: right;\n",
       "    }\n",
       "</style>\n",
       "<table border=\"1\" class=\"dataframe\">\n",
       "  <thead>\n",
       "    <tr style=\"text-align: right;\">\n",
       "      <th></th>\n",
       "      <th>content</th>\n",
       "      <th>date</th>\n",
       "      <th>like</th>\n",
       "      <th>place</th>\n",
       "      <th>tags</th>\n",
       "    </tr>\n",
       "  </thead>\n",
       "  <tbody>\n",
       "    <tr>\n",
       "      <th>0</th>\n",
       "      <td>.💙 구좌 \"제주모랑\" 💙사장님들이 손수 만든 수제소품들이 가득~좋은향이 가득한 구...</td>\n",
       "      <td>2021-08-18</td>\n",
       "      <td>1,027</td>\n",
       "      <td></td>\n",
       "      <td>[#제주모랑, #제주소품샵, #세화소품샵, #제주기념품, #제주기념품샵, #구좌읍소...</td>\n",
       "    </tr>\n",
       "    <tr>\n",
       "      <th>1</th>\n",
       "      <td>.&lt; 제주해물라면 맛집모음! &gt; 일단저장@ 해물 아낌없이 주는 해물라면 맛집!바다뷰...</td>\n",
       "      <td>2021-08-18</td>\n",
       "      <td>1,008</td>\n",
       "      <td></td>\n",
       "      <td>[#제주맛집, #제주도맛집, #제주공항근처맛집, #제주시맛집, #애월맛집, #중문맛...</td>\n",
       "    </tr>\n",
       "    <tr>\n",
       "      <th>2</th>\n",
       "      <td>그 유명한 #연돈 에 다녀왔습니다. 그런데ㅎ;;;⠀⠀⠀⠀⠀⠀⠀어마무시한 웨이팅으로 ...</td>\n",
       "      <td>2021-08-18</td>\n",
       "      <td>e_foodie님 외 4,534명이 좋아합니</td>\n",
       "      <td></td>\n",
       "      <td>[#연돈, #제주도연돈, #테이블링, #등심까스, #수제볼카츠, #아토짱_제주, #...</td>\n",
       "    </tr>\n",
       "    <tr>\n",
       "      <th>3</th>\n",
       "      <td>.한림 #문도지오름방목된 조랑말과 교감까지 할 수이따규~일몰 시간에 맞춰서 가면 멋...</td>\n",
       "      <td>2021-08-17</td>\n",
       "      <td>1,303</td>\n",
       "      <td></td>\n",
       "      <td>[#문도지오름방목된, #제주맛집, #제주도맛집, #제주공항근처맛집, #제주시맛집, ...</td>\n",
       "    </tr>\n",
       "    <tr>\n",
       "      <th>4</th>\n",
       "      <td>&lt;광고&gt;#제주분식 https://jejubunsig.modoo.at/ 📌제주시 귀아...</td>\n",
       "      <td>2021-08-16</td>\n",
       "      <td>0</td>\n",
       "      <td></td>\n",
       "      <td>[#제주분식, #제주분식⠀간편하게, #모당모당, #돔베라면돔베김밥, #제주맛집, #...</td>\n",
       "    </tr>\n",
       "  </tbody>\n",
       "</table>\n",
       "</div>"
      ]
     },
     "metadata": {},
     "execution_count": 50
    }
   ],
   "metadata": {}
  },
  {
   "cell_type": "code",
   "execution_count": 51,
   "source": [
    "#제주도맛집\r\n",
    "df.tail()"
   ],
   "outputs": [
    {
     "output_type": "execute_result",
     "data": {
      "text/plain": [
       "                                               content        date like place  \\\n",
       "195  제주 역대급 돈까스맛집🍴뭐든 푸짐푸짐한거ㅇㅈ?쩝쩝박사님들ㄲㄲ⠀@@내최애는 고구마치즈...  2021-08-19    0         \n",
       "196  흑돼지는 정직한돈‼매일먹어도 먹고싶은내최애맛집 제발머겅❤ 🔥⠀@@오늘갈랭?🤭⠀⠀#애...  2021-08-19    0         \n",
       "197  신혼여행 1일차😍생각해보니 결혼식 관련해서 아무것도 안올렸넹..누가보면 결혼식 못한...  2021-08-19   23         \n",
       "198  육즙대잔치라는  정직한돈👏🏻셀럽들이 인정하는곳이래안가면 손해👏🏻👏🏻👏🏻⠀@@메모해🥰...  2021-08-19    0         \n",
       "199  흑돼지는 정직한돈‼매일먹어도 먹고싶은내최애맛집 제발머겅❤ 🔥⠀@@오늘갈랭?🤭⠀⠀#애...  2021-08-19    0         \n",
       "\n",
       "                                                  tags  \n",
       "195  [#애월맛집, #애월맛집추천, #애월밥집, #애월돈까스, #애월데이트코스, #애월핫...  \n",
       "196  [#애월맛집, #협재맛집, #한림맛집, #애월흑돼지, #협재흑돼지, #한림흑돼지, ...  \n",
       "197  [#제주도, #신혼여행, #3개월지났지만, #올린당, #지난신혼여행, #낭만없음, ...  \n",
       "198  [#애월맛집, #협재맛집, #한림맛집, #애월흑돼지, #협재흑돼지, #한림흑돼지, ...  \n",
       "199  [#애월맛집, #협재맛집, #한림맛집, #애월흑돼지, #협재흑돼지, #한림흑돼지, ...  "
      ],
      "text/html": [
       "<div>\n",
       "<style scoped>\n",
       "    .dataframe tbody tr th:only-of-type {\n",
       "        vertical-align: middle;\n",
       "    }\n",
       "\n",
       "    .dataframe tbody tr th {\n",
       "        vertical-align: top;\n",
       "    }\n",
       "\n",
       "    .dataframe thead th {\n",
       "        text-align: right;\n",
       "    }\n",
       "</style>\n",
       "<table border=\"1\" class=\"dataframe\">\n",
       "  <thead>\n",
       "    <tr style=\"text-align: right;\">\n",
       "      <th></th>\n",
       "      <th>content</th>\n",
       "      <th>date</th>\n",
       "      <th>like</th>\n",
       "      <th>place</th>\n",
       "      <th>tags</th>\n",
       "    </tr>\n",
       "  </thead>\n",
       "  <tbody>\n",
       "    <tr>\n",
       "      <th>195</th>\n",
       "      <td>제주 역대급 돈까스맛집🍴뭐든 푸짐푸짐한거ㅇㅈ?쩝쩝박사님들ㄲㄲ⠀@@내최애는 고구마치즈...</td>\n",
       "      <td>2021-08-19</td>\n",
       "      <td>0</td>\n",
       "      <td></td>\n",
       "      <td>[#애월맛집, #애월맛집추천, #애월밥집, #애월돈까스, #애월데이트코스, #애월핫...</td>\n",
       "    </tr>\n",
       "    <tr>\n",
       "      <th>196</th>\n",
       "      <td>흑돼지는 정직한돈‼매일먹어도 먹고싶은내최애맛집 제발머겅❤ 🔥⠀@@오늘갈랭?🤭⠀⠀#애...</td>\n",
       "      <td>2021-08-19</td>\n",
       "      <td>0</td>\n",
       "      <td></td>\n",
       "      <td>[#애월맛집, #협재맛집, #한림맛집, #애월흑돼지, #협재흑돼지, #한림흑돼지, ...</td>\n",
       "    </tr>\n",
       "    <tr>\n",
       "      <th>197</th>\n",
       "      <td>신혼여행 1일차😍생각해보니 결혼식 관련해서 아무것도 안올렸넹..누가보면 결혼식 못한...</td>\n",
       "      <td>2021-08-19</td>\n",
       "      <td>23</td>\n",
       "      <td></td>\n",
       "      <td>[#제주도, #신혼여행, #3개월지났지만, #올린당, #지난신혼여행, #낭만없음, ...</td>\n",
       "    </tr>\n",
       "    <tr>\n",
       "      <th>198</th>\n",
       "      <td>육즙대잔치라는  정직한돈👏🏻셀럽들이 인정하는곳이래안가면 손해👏🏻👏🏻👏🏻⠀@@메모해🥰...</td>\n",
       "      <td>2021-08-19</td>\n",
       "      <td>0</td>\n",
       "      <td></td>\n",
       "      <td>[#애월맛집, #협재맛집, #한림맛집, #애월흑돼지, #협재흑돼지, #한림흑돼지, ...</td>\n",
       "    </tr>\n",
       "    <tr>\n",
       "      <th>199</th>\n",
       "      <td>흑돼지는 정직한돈‼매일먹어도 먹고싶은내최애맛집 제발머겅❤ 🔥⠀@@오늘갈랭?🤭⠀⠀#애...</td>\n",
       "      <td>2021-08-19</td>\n",
       "      <td>0</td>\n",
       "      <td></td>\n",
       "      <td>[#애월맛집, #협재맛집, #한림맛집, #애월흑돼지, #협재흑돼지, #한림흑돼지, ...</td>\n",
       "    </tr>\n",
       "  </tbody>\n",
       "</table>\n",
       "</div>"
      ]
     },
     "metadata": {},
     "execution_count": 51
    }
   ],
   "metadata": {}
  },
  {
   "cell_type": "code",
   "execution_count": 67,
   "source": [
    "df.to_csv('data/제주맛집.csv', index=False)"
   ],
   "outputs": [],
   "metadata": {}
  },
  {
   "cell_type": "code",
   "execution_count": 72,
   "source": [
    "for keyword in ['제주여행']:\r\n",
    "    url = f'{search_url}{quote(keyword)}'\r\n",
    "    driver.get(url)\r\n",
    "    time.sleep(10)\r\n",
    "    driver.find_element_by_css_selector('div._9AhH0').click()\r\n",
    "    time.sleep(2)\r\n",
    "\r\n",
    "    results = []\r\n",
    "    for _ in tqdm(range(200)):\r\n",
    "        try:\r\n",
    "            row = get_content(driver)\r\n",
    "            results.append(row)\r\n",
    "            driver.find_element_by_css_selector('a._65Bje.coreSpriteRightPaginationArrow').click()\r\n",
    "            time.sleep(2)\r\n",
    "        except:\r\n",
    "            time.sleep(3)\r\n",
    "            driver.find_element_by_css_selector('a._65Bje.coreSpriteRightPaginationArrow').click()\r\n",
    "            time.sleep(2)\r\n",
    "\r\n",
    "    df = pd.DataFrame(results, columns=['content', 'date', 'like', 'place', 'tags'])\r\n",
    "    df.to_csv(f'data/{keyword}.csv', index=False)\r\n",
    "\r\n",
    "    driver.find_element_by_xpath('/html/body/div[6]/div[3]/button').click()\r\n",
    "    time.sleep(5)"
   ],
   "outputs": [
    {
     "output_type": "display_data",
     "data": {
      "text/plain": [
       "  0%|          | 0/200 [00:00<?, ?it/s]"
      ],
      "application/vnd.jupyter.widget-view+json": {
       "version_major": 2,
       "version_minor": 0,
       "model_id": "2aba8c52e81b47acaed3c15d00ea43cd"
      }
     },
     "metadata": {}
    }
   ],
   "metadata": {}
  },
  {
   "cell_type": "code",
   "execution_count": 73,
   "source": [
    "driver.close()"
   ],
   "outputs": [],
   "metadata": {}
  },
  {
   "cell_type": "markdown",
   "source": [
    "### 4가지 CSV파일의 중복을 제거한 후 통합 저장"
   ],
   "metadata": {}
  },
  {
   "cell_type": "code",
   "execution_count": 74,
   "source": [
    "jeju_df = pd.DataFrame([])\r\n",
    "for keyword in ['제주도관광', '제주맛집', '제주여행']:\r\n",
    "    df = pd.read_csv(f'data/{keyword}.csv')\r\n",
    "    "
   ],
   "outputs": [
    {
     "output_type": "stream",
     "name": "stdout",
     "text": [
      "(196, 5)\n",
      "(200, 5)\n",
      "(198, 5)\n"
     ]
    }
   ],
   "metadata": {}
  },
  {
   "cell_type": "code",
   "execution_count": null,
   "source": [],
   "outputs": [],
   "metadata": {}
  }
 ],
 "metadata": {
  "orig_nbformat": 4,
  "language_info": {
   "name": "python",
   "version": "3.8.10",
   "mimetype": "text/x-python",
   "codemirror_mode": {
    "name": "ipython",
    "version": 3
   },
   "pygments_lexer": "ipython3",
   "nbconvert_exporter": "python",
   "file_extension": ".py"
  },
  "kernelspec": {
   "name": "python3",
   "display_name": "Python 3.8.10 64-bit ('base': conda)"
  },
  "interpreter": {
   "hash": "dd97e7e039312bfd5102ddc207199795dc5ae79eed0d3515df29345efc0940d0"
  }
 },
 "nbformat": 4,
 "nbformat_minor": 2
}