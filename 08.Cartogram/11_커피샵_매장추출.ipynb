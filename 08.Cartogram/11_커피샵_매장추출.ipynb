{
  "nbformat": 4,
  "nbformat_minor": 0,
  "metadata": {
    "colab": {
      "name": "11_커피샵_매장추출.ipynb",
      "provenance": [],
      "collapsed_sections": []
    },
    "kernelspec": {
      "name": "python3",
      "display_name": "Python 3"
    },
    "language_info": {
      "name": "python"
    }
  },
  "cells": [
    {
      "cell_type": "markdown",
      "metadata": {
        "id": "BjNw6kgipKmv"
      },
      "source": [
        "# 커피지수\n",
        "## 1. 데이터로 부터 4개 커피샵에 대한 정보 추출해서 저장하기"
      ]
    },
    {
      "cell_type": "markdown",
      "metadata": {
        "id": "_nwP1tVXvRCb"
      },
      "source": [
        "- 상권업종중분류코드: Q12\t\t-> 카페, 커피숍\n",
        "- 상호명, 지점명, 시도명, 시군구명, 도로명주소\n",
        "- 경기 데이터 -> 스타벅스, 커피빈, 이디야, 빽다방 추출\n",
        "- 전국 데이터 추출 -> 4개 커피샵에 대한 정보 저장"
      ]
    },
    {
      "cell_type": "code",
      "metadata": {
        "id": "xFDlYLVdoWEw"
      },
      "source": [
        "import numpy as np\n",
        "import pandas as pd\n",
        "import warnings\n",
        "warnings.filterwarnings('ignore')\n",
        "import matplotlib as mpl\n",
        "import matplotlib.pyplot as plt\n",
        "mpl.rcParams['axes.unicode_minus'] = False\n",
        "plt.rc('font', family='NanumBarunGothic')"
      ],
      "execution_count": 4,
      "outputs": []
    },
    {
      "cell_type": "code",
      "metadata": {
        "colab": {
          "base_uri": "https://localhost:8080/"
        },
        "id": "ttWA2Z2gnK7M",
        "outputId": "fb695ccd-66d1-45f8-c96b-ff02e05f0ad6"
      },
      "source": [
        "from google.colab import drive\n",
        "drive.mount('/content/mnt')"
      ],
      "execution_count": 1,
      "outputs": [
        {
          "output_type": "stream",
          "name": "stdout",
          "text": [
            "Mounted at /content/mnt\n"
          ]
        }
      ]
    },
    {
      "cell_type": "code",
      "metadata": {
        "id": "JQW4sGkLnqmS"
      },
      "source": [
        "data_folder = '/content/mnt/MyDrive/데이터/소상공인시장진흥공단_상가(상권)정보_20210630'"
      ],
      "execution_count": 2,
      "outputs": []
    },
    {
      "cell_type": "code",
      "metadata": {
        "colab": {
          "base_uri": "https://localhost:8080/"
        },
        "id": "_3PlqleMoJ7Q",
        "outputId": "5aadb121-a167-4a59-bdce-ce89f654f84d"
      },
      "source": [
        "from glob import glob\n",
        "for file in glob(f'{data_folder}/*.csv'):\n",
        "    print(file)"
      ],
      "execution_count": 3,
      "outputs": [
        {
          "output_type": "stream",
          "name": "stdout",
          "text": [
            "/content/mnt/MyDrive/데이터/소상공인시장진흥공단_상가(상권)정보_20210630/소상공인시장진흥공단_상가(상권)정보_강원_202106.csv\n",
            "/content/mnt/MyDrive/데이터/소상공인시장진흥공단_상가(상권)정보_20210630/소상공인시장진흥공단_상가(상권)정보_경기_202106.csv\n",
            "/content/mnt/MyDrive/데이터/소상공인시장진흥공단_상가(상권)정보_20210630/소상공인시장진흥공단_상가(상권)정보_경남_202106.csv\n",
            "/content/mnt/MyDrive/데이터/소상공인시장진흥공단_상가(상권)정보_20210630/소상공인시장진흥공단_상가(상권)정보_경북_202106.csv\n",
            "/content/mnt/MyDrive/데이터/소상공인시장진흥공단_상가(상권)정보_20210630/소상공인시장진흥공단_상가(상권)정보_광주_202106.csv\n",
            "/content/mnt/MyDrive/데이터/소상공인시장진흥공단_상가(상권)정보_20210630/소상공인시장진흥공단_상가(상권)정보_대구_202106.csv\n",
            "/content/mnt/MyDrive/데이터/소상공인시장진흥공단_상가(상권)정보_20210630/소상공인시장진흥공단_상가(상권)정보_대전_202106.csv\n",
            "/content/mnt/MyDrive/데이터/소상공인시장진흥공단_상가(상권)정보_20210630/소상공인시장진흥공단_상가(상권)정보_부산_202106.csv\n",
            "/content/mnt/MyDrive/데이터/소상공인시장진흥공단_상가(상권)정보_20210630/소상공인시장진흥공단_상가(상권)정보_서울_202106.csv\n",
            "/content/mnt/MyDrive/데이터/소상공인시장진흥공단_상가(상권)정보_20210630/소상공인시장진흥공단_상가(상권)정보_세종_202106.csv\n",
            "/content/mnt/MyDrive/데이터/소상공인시장진흥공단_상가(상권)정보_20210630/소상공인시장진흥공단_상가(상권)정보_울산_202106.csv\n",
            "/content/mnt/MyDrive/데이터/소상공인시장진흥공단_상가(상권)정보_20210630/소상공인시장진흥공단_상가(상권)정보_인천_202106.csv\n",
            "/content/mnt/MyDrive/데이터/소상공인시장진흥공단_상가(상권)정보_20210630/소상공인시장진흥공단_상가(상권)정보_전남_202106.csv\n",
            "/content/mnt/MyDrive/데이터/소상공인시장진흥공단_상가(상권)정보_20210630/소상공인시장진흥공단_상가(상권)정보_전북_202106.csv\n",
            "/content/mnt/MyDrive/데이터/소상공인시장진흥공단_상가(상권)정보_20210630/소상공인시장진흥공단_상가(상권)정보_제주_202106.csv\n",
            "/content/mnt/MyDrive/데이터/소상공인시장진흥공단_상가(상권)정보_20210630/소상공인시장진흥공단_상가(상권)정보_충남_202106.csv\n",
            "/content/mnt/MyDrive/데이터/소상공인시장진흥공단_상가(상권)정보_20210630/소상공인시장진흥공단_상가(상권)정보_충북_202106.csv\n"
          ]
        }
      ]
    },
    {
      "cell_type": "code",
      "metadata": {
        "colab": {
          "base_uri": "https://localhost:8080/"
        },
        "id": "7wfhmAfPwm-s",
        "outputId": "052b59a2-8717-46a2-e95b-cd9668564f37"
      },
      "source": [
        "!ls -l $data_folder"
      ],
      "execution_count": 14,
      "outputs": [
        {
          "output_type": "stream",
          "name": "stdout",
          "text": [
            "/bin/bash: -c: line 0: syntax error near unexpected token `('\n",
            "/bin/bash: -c: line 0: `ls -l /content/mnt/MyDrive/데이터/소상공인시장진흥공단_상가(상권)정보_20210630'\n"
          ]
        }
      ]
    },
    {
      "cell_type": "markdown",
      "metadata": {
        "id": "xxF5OMFqIZ-7"
      },
      "source": [
        "## 서울 데이터에서 4개 매장 정보 추출하기"
      ]
    },
    {
      "cell_type": "code",
      "metadata": {
        "colab": {
          "base_uri": "https://localhost:8080/",
          "height": 1000
        },
        "id": "UrFroQA1sBcC",
        "outputId": "56d5b7ac-0154-49a0-f805-b48f174e854f"
      },
      "source": [
        "pop = pd.read_csv(f'{data_folder}/소상공인시장진흥공단_상가(상권)정보_서울_202106.csv')\n",
        "pop = pop[pop['상권업종중분류코드'] == 'Q12']       # = pop[pop.상권업종중분류코드 == 'Q12']\n",
        "pop.head()"
      ],
      "execution_count": 19,
      "outputs": [
        {
          "output_type": "execute_result",
          "data": {
            "text/html": [
              "<div>\n",
              "<style scoped>\n",
              "    .dataframe tbody tr th:only-of-type {\n",
              "        vertical-align: middle;\n",
              "    }\n",
              "\n",
              "    .dataframe tbody tr th {\n",
              "        vertical-align: top;\n",
              "    }\n",
              "\n",
              "    .dataframe thead th {\n",
              "        text-align: right;\n",
              "    }\n",
              "</style>\n",
              "<table border=\"1\" class=\"dataframe\">\n",
              "  <thead>\n",
              "    <tr style=\"text-align: right;\">\n",
              "      <th></th>\n",
              "      <th>상가업소번호</th>\n",
              "      <th>상호명</th>\n",
              "      <th>지점명</th>\n",
              "      <th>상권업종대분류코드</th>\n",
              "      <th>상권업종대분류명</th>\n",
              "      <th>상권업종중분류코드</th>\n",
              "      <th>상권업종중분류명</th>\n",
              "      <th>상권업종소분류코드</th>\n",
              "      <th>상권업종소분류명</th>\n",
              "      <th>표준산업분류코드</th>\n",
              "      <th>표준산업분류명</th>\n",
              "      <th>시도코드</th>\n",
              "      <th>시도명</th>\n",
              "      <th>시군구코드</th>\n",
              "      <th>시군구명</th>\n",
              "      <th>행정동코드</th>\n",
              "      <th>행정동명</th>\n",
              "      <th>법정동코드</th>\n",
              "      <th>법정동명</th>\n",
              "      <th>지번코드</th>\n",
              "      <th>대지구분코드</th>\n",
              "      <th>대지구분명</th>\n",
              "      <th>지번본번지</th>\n",
              "      <th>지번부번지</th>\n",
              "      <th>지번주소</th>\n",
              "      <th>도로명코드</th>\n",
              "      <th>도로명</th>\n",
              "      <th>건물본번지</th>\n",
              "      <th>건물부번지</th>\n",
              "      <th>건물관리번호</th>\n",
              "      <th>건물명</th>\n",
              "      <th>도로명주소</th>\n",
              "      <th>구우편번호</th>\n",
              "      <th>신우편번호</th>\n",
              "      <th>동정보</th>\n",
              "      <th>층정보</th>\n",
              "      <th>호정보</th>\n",
              "      <th>경도</th>\n",
              "      <th>위도</th>\n",
              "    </tr>\n",
              "  </thead>\n",
              "  <tbody>\n",
              "    <tr>\n",
              "      <th>28</th>\n",
              "      <td>20659878</td>\n",
              "      <td>커피빈</td>\n",
              "      <td>코리아대학로대명거리점</td>\n",
              "      <td>Q</td>\n",
              "      <td>음식</td>\n",
              "      <td>Q12</td>\n",
              "      <td>커피점/카페</td>\n",
              "      <td>Q12A01</td>\n",
              "      <td>커피전문점/카페/다방</td>\n",
              "      <td>I56220</td>\n",
              "      <td>비알콜 음료점업</td>\n",
              "      <td>11</td>\n",
              "      <td>서울특별시</td>\n",
              "      <td>11110</td>\n",
              "      <td>종로구</td>\n",
              "      <td>1111065000</td>\n",
              "      <td>혜화동</td>\n",
              "      <td>1111017200</td>\n",
              "      <td>명륜4가</td>\n",
              "      <td>1111017200200510000</td>\n",
              "      <td>1</td>\n",
              "      <td>대지</td>\n",
              "      <td>51</td>\n",
              "      <td>NaN</td>\n",
              "      <td>서울특별시 종로구 명륜4가 51</td>\n",
              "      <td>111104100032</td>\n",
              "      <td>서울특별시 종로구 대명길</td>\n",
              "      <td>25</td>\n",
              "      <td>NaN</td>\n",
              "      <td>1111017200100510000032165</td>\n",
              "      <td>NaN</td>\n",
              "      <td>서울특별시 종로구 대명길 25</td>\n",
              "      <td>110524</td>\n",
              "      <td>3078.0</td>\n",
              "      <td>NaN</td>\n",
              "      <td>3</td>\n",
              "      <td>NaN</td>\n",
              "      <td>127.000171</td>\n",
              "      <td>37.583149</td>\n",
              "    </tr>\n",
              "    <tr>\n",
              "      <th>111</th>\n",
              "      <td>20676428</td>\n",
              "      <td>요거프레소</td>\n",
              "      <td>쌍문점</td>\n",
              "      <td>Q</td>\n",
              "      <td>음식</td>\n",
              "      <td>Q12</td>\n",
              "      <td>커피점/카페</td>\n",
              "      <td>Q12A01</td>\n",
              "      <td>커피전문점/카페/다방</td>\n",
              "      <td>I56220</td>\n",
              "      <td>비알콜 음료점업</td>\n",
              "      <td>11</td>\n",
              "      <td>서울특별시</td>\n",
              "      <td>11320</td>\n",
              "      <td>도봉구</td>\n",
              "      <td>1132067000</td>\n",
              "      <td>쌍문2동</td>\n",
              "      <td>1132010500</td>\n",
              "      <td>쌍문동</td>\n",
              "      <td>1132010500200200000</td>\n",
              "      <td>1</td>\n",
              "      <td>대지</td>\n",
              "      <td>20</td>\n",
              "      <td>NaN</td>\n",
              "      <td>서울특별시 도봉구 쌍문동 20</td>\n",
              "      <td>113203109001</td>\n",
              "      <td>서울특별시 도봉구 도당로</td>\n",
              "      <td>7</td>\n",
              "      <td>NaN</td>\n",
              "      <td>1132010500100200000006625</td>\n",
              "      <td>NaN</td>\n",
              "      <td>서울특별시 도봉구 도당로 7</td>\n",
              "      <td>132030</td>\n",
              "      <td>1385.0</td>\n",
              "      <td>NaN</td>\n",
              "      <td>1</td>\n",
              "      <td>NaN</td>\n",
              "      <td>127.034746</td>\n",
              "      <td>37.658728</td>\n",
              "    </tr>\n",
              "    <tr>\n",
              "      <th>190</th>\n",
              "      <td>20695531</td>\n",
              "      <td>메머드커피</td>\n",
              "      <td>NaN</td>\n",
              "      <td>Q</td>\n",
              "      <td>음식</td>\n",
              "      <td>Q12</td>\n",
              "      <td>커피점/카페</td>\n",
              "      <td>Q12A01</td>\n",
              "      <td>커피전문점/카페/다방</td>\n",
              "      <td>I56220</td>\n",
              "      <td>비알콜 음료점업</td>\n",
              "      <td>11</td>\n",
              "      <td>서울특별시</td>\n",
              "      <td>11440</td>\n",
              "      <td>마포구</td>\n",
              "      <td>1144066000</td>\n",
              "      <td>서교동</td>\n",
              "      <td>1144012000</td>\n",
              "      <td>서교동</td>\n",
              "      <td>1144012000203270015</td>\n",
              "      <td>1</td>\n",
              "      <td>대지</td>\n",
              "      <td>327</td>\n",
              "      <td>15.0</td>\n",
              "      <td>서울특별시 마포구 서교동 327-15</td>\n",
              "      <td>114403113017</td>\n",
              "      <td>서울특별시 마포구 와우산로</td>\n",
              "      <td>149</td>\n",
              "      <td>NaN</td>\n",
              "      <td>1144012000103270015009846</td>\n",
              "      <td>NaN</td>\n",
              "      <td>서울특별시 마포구 와우산로 149</td>\n",
              "      <td>121836</td>\n",
              "      <td>4052.0</td>\n",
              "      <td>NaN</td>\n",
              "      <td>1</td>\n",
              "      <td>NaN</td>\n",
              "      <td>126.929692</td>\n",
              "      <td>37.554599</td>\n",
              "    </tr>\n",
              "    <tr>\n",
              "      <th>197</th>\n",
              "      <td>28491095</td>\n",
              "      <td>우성커피숍</td>\n",
              "      <td>NaN</td>\n",
              "      <td>Q</td>\n",
              "      <td>음식</td>\n",
              "      <td>Q12</td>\n",
              "      <td>커피점/카페</td>\n",
              "      <td>Q12A01</td>\n",
              "      <td>커피전문점/카페/다방</td>\n",
              "      <td>I56220</td>\n",
              "      <td>비알콜 음료점업</td>\n",
              "      <td>11</td>\n",
              "      <td>서울특별시</td>\n",
              "      <td>11470</td>\n",
              "      <td>양천구</td>\n",
              "      <td>1147059000</td>\n",
              "      <td>신월4동</td>\n",
              "      <td>1147010300</td>\n",
              "      <td>신월동</td>\n",
              "      <td>1147010300205140002</td>\n",
              "      <td>1</td>\n",
              "      <td>대지</td>\n",
              "      <td>514</td>\n",
              "      <td>2.0</td>\n",
              "      <td>서울특별시 양천구 신월동 514-2</td>\n",
              "      <td>114703114014</td>\n",
              "      <td>서울특별시 양천구 오목로</td>\n",
              "      <td>48</td>\n",
              "      <td>NaN</td>\n",
              "      <td>1147010300105140002010707</td>\n",
              "      <td>NaN</td>\n",
              "      <td>서울특별시 양천구 오목로 48</td>\n",
              "      <td>158090</td>\n",
              "      <td>8029.0</td>\n",
              "      <td>NaN</td>\n",
              "      <td>1</td>\n",
              "      <td>NaN</td>\n",
              "      <td>126.842935</td>\n",
              "      <td>37.522055</td>\n",
              "    </tr>\n",
              "    <tr>\n",
              "      <th>225</th>\n",
              "      <td>20815616</td>\n",
              "      <td>카페클럽</td>\n",
              "      <td>NaN</td>\n",
              "      <td>Q</td>\n",
              "      <td>음식</td>\n",
              "      <td>Q12</td>\n",
              "      <td>커피점/카페</td>\n",
              "      <td>Q12A01</td>\n",
              "      <td>커피전문점/카페/다방</td>\n",
              "      <td>I56220</td>\n",
              "      <td>비알콜 음료점업</td>\n",
              "      <td>11</td>\n",
              "      <td>서울특별시</td>\n",
              "      <td>11710</td>\n",
              "      <td>송파구</td>\n",
              "      <td>1171064100</td>\n",
              "      <td>문정1동</td>\n",
              "      <td>1171010800</td>\n",
              "      <td>문정동</td>\n",
              "      <td>1171010800200430006</td>\n",
              "      <td>1</td>\n",
              "      <td>대지</td>\n",
              "      <td>43</td>\n",
              "      <td>6.0</td>\n",
              "      <td>서울특별시 송파구 문정동 43-6</td>\n",
              "      <td>117104169068</td>\n",
              "      <td>서울특별시 송파구 동남로2길</td>\n",
              "      <td>3</td>\n",
              "      <td>6.0</td>\n",
              "      <td>1171010800100430006004404</td>\n",
              "      <td>NaN</td>\n",
              "      <td>서울특별시 송파구 동남로2길 3-6</td>\n",
              "      <td>138200</td>\n",
              "      <td>5805.0</td>\n",
              "      <td>NaN</td>\n",
              "      <td>1</td>\n",
              "      <td>NaN</td>\n",
              "      <td>127.122480</td>\n",
              "      <td>37.488907</td>\n",
              "    </tr>\n",
              "  </tbody>\n",
              "</table>\n",
              "</div>"
            ],
            "text/plain": [
              "       상가업소번호    상호명          지점명 상권업종대분류코드  ... 층정보 호정보          경도         위도\n",
              "28   20659878    커피빈  코리아대학로대명거리점         Q  ...   3 NaN  127.000171  37.583149\n",
              "111  20676428  요거프레소          쌍문점         Q  ...   1 NaN  127.034746  37.658728\n",
              "190  20695531  메머드커피          NaN         Q  ...   1 NaN  126.929692  37.554599\n",
              "197  28491095  우성커피숍          NaN         Q  ...   1 NaN  126.842935  37.522055\n",
              "225  20815616   카페클럽          NaN         Q  ...   1 NaN  127.122480  37.488907\n",
              "\n",
              "[5 rows x 39 columns]"
            ]
          },
          "metadata": {},
          "execution_count": 19
        }
      ]
    },
    {
      "cell_type": "code",
      "metadata": {
        "colab": {
          "base_uri": "https://localhost:8080/",
          "height": 222
        },
        "id": "Vjf4ktc2vKAX",
        "outputId": "8ba7cd78-e288-40e2-f1f5-46f5d4575b79"
      },
      "source": [
        "pop = pop[['상호명', '지점명', '시도명', '시군구명', '도로명주소']]\n",
        "print(pop.shape)\n",
        "pop.head()"
      ],
      "execution_count": 61,
      "outputs": [
        {
          "output_type": "stream",
          "name": "stdout",
          "text": [
            "(20832, 5)\n"
          ]
        },
        {
          "output_type": "execute_result",
          "data": {
            "text/html": [
              "<div>\n",
              "<style scoped>\n",
              "    .dataframe tbody tr th:only-of-type {\n",
              "        vertical-align: middle;\n",
              "    }\n",
              "\n",
              "    .dataframe tbody tr th {\n",
              "        vertical-align: top;\n",
              "    }\n",
              "\n",
              "    .dataframe thead th {\n",
              "        text-align: right;\n",
              "    }\n",
              "</style>\n",
              "<table border=\"1\" class=\"dataframe\">\n",
              "  <thead>\n",
              "    <tr style=\"text-align: right;\">\n",
              "      <th></th>\n",
              "      <th>상호명</th>\n",
              "      <th>지점명</th>\n",
              "      <th>시도명</th>\n",
              "      <th>시군구명</th>\n",
              "      <th>도로명주소</th>\n",
              "    </tr>\n",
              "  </thead>\n",
              "  <tbody>\n",
              "    <tr>\n",
              "      <th>28</th>\n",
              "      <td>커피빈</td>\n",
              "      <td>코리아대학로대명거리점</td>\n",
              "      <td>서울특별시</td>\n",
              "      <td>종로구</td>\n",
              "      <td>서울특별시 종로구 대명길 25</td>\n",
              "    </tr>\n",
              "    <tr>\n",
              "      <th>111</th>\n",
              "      <td>요거프레소</td>\n",
              "      <td>쌍문점</td>\n",
              "      <td>서울특별시</td>\n",
              "      <td>도봉구</td>\n",
              "      <td>서울특별시 도봉구 도당로 7</td>\n",
              "    </tr>\n",
              "    <tr>\n",
              "      <th>190</th>\n",
              "      <td>메머드커피</td>\n",
              "      <td>NaN</td>\n",
              "      <td>서울특별시</td>\n",
              "      <td>마포구</td>\n",
              "      <td>서울특별시 마포구 와우산로 149</td>\n",
              "    </tr>\n",
              "    <tr>\n",
              "      <th>197</th>\n",
              "      <td>우성커피숍</td>\n",
              "      <td>NaN</td>\n",
              "      <td>서울특별시</td>\n",
              "      <td>양천구</td>\n",
              "      <td>서울특별시 양천구 오목로 48</td>\n",
              "    </tr>\n",
              "    <tr>\n",
              "      <th>225</th>\n",
              "      <td>카페클럽</td>\n",
              "      <td>NaN</td>\n",
              "      <td>서울특별시</td>\n",
              "      <td>송파구</td>\n",
              "      <td>서울특별시 송파구 동남로2길 3-6</td>\n",
              "    </tr>\n",
              "  </tbody>\n",
              "</table>\n",
              "</div>"
            ],
            "text/plain": [
              "       상호명          지점명    시도명 시군구명                도로명주소\n",
              "28     커피빈  코리아대학로대명거리점  서울특별시  종로구     서울특별시 종로구 대명길 25\n",
              "111  요거프레소          쌍문점  서울특별시  도봉구      서울특별시 도봉구 도당로 7\n",
              "190  메머드커피          NaN  서울특별시  마포구   서울특별시 마포구 와우산로 149\n",
              "197  우성커피숍          NaN  서울특별시  양천구     서울특별시 양천구 오목로 48\n",
              "225   카페클럽          NaN  서울특별시  송파구  서울특별시 송파구 동남로2길 3-6"
            ]
          },
          "metadata": {},
          "execution_count": 61
        }
      ]
    },
    {
      "cell_type": "code",
      "metadata": {
        "colab": {
          "base_uri": "https://localhost:8080/",
          "height": 222
        },
        "id": "KgtLbFc_yaqr",
        "outputId": "7a2a0194-33dd-42d5-ec43-dca53cb07d0d"
      },
      "source": [
        "star = pop[pop['상호명'].str.contains('스타벅스|STARBUCKS', case=False)]\n",
        "print(len(star))\n",
        "star.head()"
      ],
      "execution_count": 73,
      "outputs": [
        {
          "output_type": "stream",
          "name": "stdout",
          "text": [
            "489\n"
          ]
        },
        {
          "output_type": "execute_result",
          "data": {
            "text/html": [
              "<div>\n",
              "<style scoped>\n",
              "    .dataframe tbody tr th:only-of-type {\n",
              "        vertical-align: middle;\n",
              "    }\n",
              "\n",
              "    .dataframe tbody tr th {\n",
              "        vertical-align: top;\n",
              "    }\n",
              "\n",
              "    .dataframe thead th {\n",
              "        text-align: right;\n",
              "    }\n",
              "</style>\n",
              "<table border=\"1\" class=\"dataframe\">\n",
              "  <thead>\n",
              "    <tr style=\"text-align: right;\">\n",
              "      <th></th>\n",
              "      <th>상호명</th>\n",
              "      <th>지점명</th>\n",
              "      <th>시도명</th>\n",
              "      <th>시군구명</th>\n",
              "      <th>도로명주소</th>\n",
              "    </tr>\n",
              "  </thead>\n",
              "  <tbody>\n",
              "    <tr>\n",
              "      <th>1738</th>\n",
              "      <td>스타벅스</td>\n",
              "      <td>동숭로아트점</td>\n",
              "      <td>서울특별시</td>\n",
              "      <td>종로구</td>\n",
              "      <td>서울특별시 종로구 동숭길 110</td>\n",
              "    </tr>\n",
              "    <tr>\n",
              "      <th>2766</th>\n",
              "      <td>스타벅스남부터미널2점</td>\n",
              "      <td>남부터미널2점</td>\n",
              "      <td>서울특별시</td>\n",
              "      <td>서초구</td>\n",
              "      <td>서울특별시 서초구 효령로 274</td>\n",
              "    </tr>\n",
              "    <tr>\n",
              "      <th>3785</th>\n",
              "      <td>스타벅스</td>\n",
              "      <td>당산점</td>\n",
              "      <td>서울특별시</td>\n",
              "      <td>영등포구</td>\n",
              "      <td>서울특별시 영등포구 양평로 64</td>\n",
              "    </tr>\n",
              "    <tr>\n",
              "      <th>3933</th>\n",
              "      <td>스타벅스</td>\n",
              "      <td>가로수길점</td>\n",
              "      <td>서울특별시</td>\n",
              "      <td>강남구</td>\n",
              "      <td>서울특별시 강남구 논현로175길 94</td>\n",
              "    </tr>\n",
              "    <tr>\n",
              "      <th>3995</th>\n",
              "      <td>스타벅스미아사거리역점</td>\n",
              "      <td>미아사거리역점</td>\n",
              "      <td>서울특별시</td>\n",
              "      <td>강북구</td>\n",
              "      <td>서울특별시 강북구 도봉로 32</td>\n",
              "    </tr>\n",
              "  </tbody>\n",
              "</table>\n",
              "</div>"
            ],
            "text/plain": [
              "              상호명      지점명    시도명  시군구명                 도로명주소\n",
              "1738         스타벅스   동숭로아트점  서울특별시   종로구     서울특별시 종로구 동숭길 110\n",
              "2766  스타벅스남부터미널2점  남부터미널2점  서울특별시   서초구     서울특별시 서초구 효령로 274\n",
              "3785         스타벅스      당산점  서울특별시  영등포구     서울특별시 영등포구 양평로 64\n",
              "3933         스타벅스    가로수길점  서울특별시   강남구  서울특별시 강남구 논현로175길 94\n",
              "3995  스타벅스미아사거리역점  미아사거리역점  서울특별시   강북구      서울특별시 강북구 도봉로 32"
            ]
          },
          "metadata": {},
          "execution_count": 73
        }
      ]
    },
    {
      "cell_type": "code",
      "metadata": {
        "colab": {
          "base_uri": "https://localhost:8080/",
          "height": 67
        },
        "id": "fY0fc_UDK_8Q",
        "outputId": "f6e21e39-adfd-4d7c-b6d7-b2abae382c12"
      },
      "source": [
        "star2 = pop[pop['지점명'].str.contains('스타벅스|STARBUCKS', na=False, case=False)]\n",
        "print(len(star2))\n",
        "star2.head()"
      ],
      "execution_count": 74,
      "outputs": [
        {
          "output_type": "stream",
          "name": "stdout",
          "text": [
            "0\n"
          ]
        },
        {
          "output_type": "execute_result",
          "data": {
            "text/html": [
              "<div>\n",
              "<style scoped>\n",
              "    .dataframe tbody tr th:only-of-type {\n",
              "        vertical-align: middle;\n",
              "    }\n",
              "\n",
              "    .dataframe tbody tr th {\n",
              "        vertical-align: top;\n",
              "    }\n",
              "\n",
              "    .dataframe thead th {\n",
              "        text-align: right;\n",
              "    }\n",
              "</style>\n",
              "<table border=\"1\" class=\"dataframe\">\n",
              "  <thead>\n",
              "    <tr style=\"text-align: right;\">\n",
              "      <th></th>\n",
              "      <th>상호명</th>\n",
              "      <th>지점명</th>\n",
              "      <th>시도명</th>\n",
              "      <th>시군구명</th>\n",
              "      <th>도로명주소</th>\n",
              "    </tr>\n",
              "  </thead>\n",
              "  <tbody>\n",
              "  </tbody>\n",
              "</table>\n",
              "</div>"
            ],
            "text/plain": [
              "Empty DataFrame\n",
              "Columns: [상호명, 지점명, 시도명, 시군구명, 도로명주소]\n",
              "Index: []"
            ]
          },
          "metadata": {},
          "execution_count": 74
        }
      ]
    },
    {
      "cell_type": "code",
      "metadata": {
        "colab": {
          "base_uri": "https://localhost:8080/",
          "height": 222
        },
        "id": "pf90yGv80ZaC",
        "outputId": "dabba4e4-69f4-49ba-be5e-25dbe50bd762"
      },
      "source": [
        "coffee = pop[pop['상호명'].str.contains('커피빈|coffeebean', case=False)]\n",
        "print(len(coffee))\n",
        "coffee.head()"
      ],
      "execution_count": 67,
      "outputs": [
        {
          "output_type": "stream",
          "name": "stdout",
          "text": [
            "169\n"
          ]
        },
        {
          "output_type": "execute_result",
          "data": {
            "text/html": [
              "<div>\n",
              "<style scoped>\n",
              "    .dataframe tbody tr th:only-of-type {\n",
              "        vertical-align: middle;\n",
              "    }\n",
              "\n",
              "    .dataframe tbody tr th {\n",
              "        vertical-align: top;\n",
              "    }\n",
              "\n",
              "    .dataframe thead th {\n",
              "        text-align: right;\n",
              "    }\n",
              "</style>\n",
              "<table border=\"1\" class=\"dataframe\">\n",
              "  <thead>\n",
              "    <tr style=\"text-align: right;\">\n",
              "      <th></th>\n",
              "      <th>상호명</th>\n",
              "      <th>지점명</th>\n",
              "      <th>시도명</th>\n",
              "      <th>시군구명</th>\n",
              "      <th>도로명주소</th>\n",
              "    </tr>\n",
              "  </thead>\n",
              "  <tbody>\n",
              "    <tr>\n",
              "      <th>28</th>\n",
              "      <td>커피빈</td>\n",
              "      <td>코리아대학로대명거리점</td>\n",
              "      <td>서울특별시</td>\n",
              "      <td>종로구</td>\n",
              "      <td>서울특별시 종로구 대명길 25</td>\n",
              "    </tr>\n",
              "    <tr>\n",
              "      <th>316</th>\n",
              "      <td>커피빈코리아낙성대역점</td>\n",
              "      <td>코리아낙성대역점</td>\n",
              "      <td>서울특별시</td>\n",
              "      <td>관악구</td>\n",
              "      <td>서울특별시 관악구 남부순환로 1909</td>\n",
              "    </tr>\n",
              "    <tr>\n",
              "      <th>1470</th>\n",
              "      <td>커피빈</td>\n",
              "      <td>코리아강남역랭기지타워점</td>\n",
              "      <td>서울특별시</td>\n",
              "      <td>강남구</td>\n",
              "      <td>서울특별시 강남구 테헤란로4길 28</td>\n",
              "    </tr>\n",
              "    <tr>\n",
              "      <th>1491</th>\n",
              "      <td>커피빈</td>\n",
              "      <td>코리아청담성당점</td>\n",
              "      <td>서울특별시</td>\n",
              "      <td>강남구</td>\n",
              "      <td>서울특별시 강남구 삼성로 716</td>\n",
              "    </tr>\n",
              "    <tr>\n",
              "      <th>1506</th>\n",
              "      <td>커피빈</td>\n",
              "      <td>코리아청담에스점</td>\n",
              "      <td>서울특별시</td>\n",
              "      <td>강남구</td>\n",
              "      <td>서울특별시 강남구 압구정로 461</td>\n",
              "    </tr>\n",
              "  </tbody>\n",
              "</table>\n",
              "</div>"
            ],
            "text/plain": [
              "              상호명           지점명    시도명 시군구명                 도로명주소\n",
              "28            커피빈   코리아대학로대명거리점  서울특별시  종로구      서울특별시 종로구 대명길 25\n",
              "316   커피빈코리아낙성대역점      코리아낙성대역점  서울특별시  관악구  서울특별시 관악구 남부순환로 1909\n",
              "1470          커피빈  코리아강남역랭기지타워점  서울특별시  강남구   서울특별시 강남구 테헤란로4길 28\n",
              "1491          커피빈      코리아청담성당점  서울특별시  강남구     서울특별시 강남구 삼성로 716\n",
              "1506          커피빈      코리아청담에스점  서울특별시  강남구    서울특별시 강남구 압구정로 461"
            ]
          },
          "metadata": {},
          "execution_count": 67
        }
      ]
    },
    {
      "cell_type": "code",
      "metadata": {
        "colab": {
          "base_uri": "https://localhost:8080/",
          "height": 222
        },
        "id": "tlNvY8ElzsuY",
        "outputId": "5f00e01a-9255-4f26-cc34-40b33f2caff9"
      },
      "source": [
        "edi = pop[pop['상호명'].str.contains('이디야|ediya', case=False)]\n",
        "print(len(edi))\n",
        "edi.head()"
      ],
      "execution_count": 70,
      "outputs": [
        {
          "output_type": "stream",
          "name": "stdout",
          "text": [
            "440\n"
          ]
        },
        {
          "output_type": "execute_result",
          "data": {
            "text/html": [
              "<div>\n",
              "<style scoped>\n",
              "    .dataframe tbody tr th:only-of-type {\n",
              "        vertical-align: middle;\n",
              "    }\n",
              "\n",
              "    .dataframe tbody tr th {\n",
              "        vertical-align: top;\n",
              "    }\n",
              "\n",
              "    .dataframe thead th {\n",
              "        text-align: right;\n",
              "    }\n",
              "</style>\n",
              "<table border=\"1\" class=\"dataframe\">\n",
              "  <thead>\n",
              "    <tr style=\"text-align: right;\">\n",
              "      <th></th>\n",
              "      <th>상호명</th>\n",
              "      <th>지점명</th>\n",
              "      <th>시도명</th>\n",
              "      <th>시군구명</th>\n",
              "      <th>도로명주소</th>\n",
              "    </tr>\n",
              "  </thead>\n",
              "  <tbody>\n",
              "    <tr>\n",
              "      <th>1272</th>\n",
              "      <td>이디야커피</td>\n",
              "      <td>신길역점</td>\n",
              "      <td>서울특별시</td>\n",
              "      <td>영등포구</td>\n",
              "      <td>서울특별시 영등포구 영등포로 353</td>\n",
              "    </tr>\n",
              "    <tr>\n",
              "      <th>1411</th>\n",
              "      <td>이디야커피</td>\n",
              "      <td>라이프점</td>\n",
              "      <td>서울특별시</td>\n",
              "      <td>영등포구</td>\n",
              "      <td>서울특별시 영등포구 63로 40</td>\n",
              "    </tr>\n",
              "    <tr>\n",
              "      <th>2433</th>\n",
              "      <td>이디야커피양재AT점</td>\n",
              "      <td>양재AT점</td>\n",
              "      <td>서울특별시</td>\n",
              "      <td>서초구</td>\n",
              "      <td>서울특별시 서초구 동산로 3</td>\n",
              "    </tr>\n",
              "    <tr>\n",
              "      <th>2785</th>\n",
              "      <td>이디야커피</td>\n",
              "      <td>시흥점</td>\n",
              "      <td>서울특별시</td>\n",
              "      <td>금천구</td>\n",
              "      <td>서울특별시 금천구 금하로 750</td>\n",
              "    </tr>\n",
              "    <tr>\n",
              "      <th>4498</th>\n",
              "      <td>이디야커피</td>\n",
              "      <td>개봉중앙점</td>\n",
              "      <td>서울특별시</td>\n",
              "      <td>구로구</td>\n",
              "      <td>서울특별시 구로구 개봉로3길 26</td>\n",
              "    </tr>\n",
              "  </tbody>\n",
              "</table>\n",
              "</div>"
            ],
            "text/plain": [
              "             상호명    지점명    시도명  시군구명                도로명주소\n",
              "1272       이디야커피   신길역점  서울특별시  영등포구  서울특별시 영등포구 영등포로 353\n",
              "1411       이디야커피   라이프점  서울특별시  영등포구    서울특별시 영등포구 63로 40\n",
              "2433  이디야커피양재AT점  양재AT점  서울특별시   서초구      서울특별시 서초구 동산로 3\n",
              "2785       이디야커피    시흥점  서울특별시   금천구    서울특별시 금천구 금하로 750\n",
              "4498       이디야커피  개봉중앙점  서울특별시   구로구   서울특별시 구로구 개봉로3길 26"
            ]
          },
          "metadata": {},
          "execution_count": 70
        }
      ]
    },
    {
      "cell_type": "code",
      "metadata": {
        "colab": {
          "base_uri": "https://localhost:8080/",
          "height": 222
        },
        "id": "DhIUnD8V0WPY",
        "outputId": "1e6097d5-ec7a-4b18-f0e5-0bc77e1fdf15"
      },
      "source": [
        "paik = pop[pop['상호명'].str.contains('빽다방|paiksdabang', case=False)]\n",
        "print(len(paik))\n",
        "paik.head()"
      ],
      "execution_count": 78,
      "outputs": [
        {
          "output_type": "stream",
          "name": "stdout",
          "text": [
            "126\n"
          ]
        },
        {
          "output_type": "execute_result",
          "data": {
            "text/html": [
              "<div>\n",
              "<style scoped>\n",
              "    .dataframe tbody tr th:only-of-type {\n",
              "        vertical-align: middle;\n",
              "    }\n",
              "\n",
              "    .dataframe tbody tr th {\n",
              "        vertical-align: top;\n",
              "    }\n",
              "\n",
              "    .dataframe thead th {\n",
              "        text-align: right;\n",
              "    }\n",
              "</style>\n",
              "<table border=\"1\" class=\"dataframe\">\n",
              "  <thead>\n",
              "    <tr style=\"text-align: right;\">\n",
              "      <th></th>\n",
              "      <th>상호명</th>\n",
              "      <th>지점명</th>\n",
              "      <th>시도명</th>\n",
              "      <th>시군구명</th>\n",
              "      <th>도로명주소</th>\n",
              "    </tr>\n",
              "  </thead>\n",
              "  <tbody>\n",
              "    <tr>\n",
              "      <th>7607</th>\n",
              "      <td>빽다방공덕새창로점</td>\n",
              "      <td>공덕새창로점</td>\n",
              "      <td>서울특별시</td>\n",
              "      <td>마포구</td>\n",
              "      <td>서울특별시 마포구 새창로 15-1</td>\n",
              "    </tr>\n",
              "    <tr>\n",
              "      <th>8565</th>\n",
              "      <td>빽다방서초우성점</td>\n",
              "      <td>서초우성점</td>\n",
              "      <td>서울특별시</td>\n",
              "      <td>서초구</td>\n",
              "      <td>서울특별시 서초구 사임당로 181</td>\n",
              "    </tr>\n",
              "    <tr>\n",
              "      <th>19901</th>\n",
              "      <td>빽다방중계은행사거리점</td>\n",
              "      <td>중계은행사거리점</td>\n",
              "      <td>서울특별시</td>\n",
              "      <td>노원구</td>\n",
              "      <td>서울특별시 노원구 한글비석로 235</td>\n",
              "    </tr>\n",
              "    <tr>\n",
              "      <th>26972</th>\n",
              "      <td>빽다방성신여대점</td>\n",
              "      <td>성신여대점</td>\n",
              "      <td>서울특별시</td>\n",
              "      <td>성북구</td>\n",
              "      <td>서울특별시 성북구 동소문로20나길 3</td>\n",
              "    </tr>\n",
              "    <tr>\n",
              "      <th>27346</th>\n",
              "      <td>빽다방신림역1호점</td>\n",
              "      <td>신림역1호점</td>\n",
              "      <td>서울특별시</td>\n",
              "      <td>관악구</td>\n",
              "      <td>서울특별시 관악구 남부순환로 1592</td>\n",
              "    </tr>\n",
              "  </tbody>\n",
              "</table>\n",
              "</div>"
            ],
            "text/plain": [
              "               상호명       지점명    시도명 시군구명                 도로명주소\n",
              "7607     빽다방공덕새창로점    공덕새창로점  서울특별시  마포구    서울특별시 마포구 새창로 15-1\n",
              "8565      빽다방서초우성점     서초우성점  서울특별시  서초구    서울특별시 서초구 사임당로 181\n",
              "19901  빽다방중계은행사거리점  중계은행사거리점  서울특별시  노원구   서울특별시 노원구 한글비석로 235\n",
              "26972     빽다방성신여대점     성신여대점  서울특별시  성북구  서울특별시 성북구 동소문로20나길 3\n",
              "27346    빽다방신림역1호점    신림역1호점  서울특별시  관악구  서울특별시 관악구 남부순환로 1592"
            ]
          },
          "metadata": {},
          "execution_count": 78
        }
      ]
    },
    {
      "cell_type": "code",
      "metadata": {
        "id": "KwE6Xn9e4V9J"
      },
      "source": [
        "# 빈 DataFrame\n",
        "starbucks = pd.DataFrame(columns=['상호명', '지점명', '시도명', '시군구명', '도로명주소'])\n",
        "coffeebean = pd.DataFrame(columns=['상호명', '지점명', '시도명', '시군구명', '도로명주소'])\n",
        "ediya = pd.DataFrame(columns=['상호명', '지점명', '시도명', '시군구명', '도로명주소'])\n",
        "paikdabang = pd.DataFrame(columns=['상호명', '지점명', '시도명', '시군구명', '도로명주소'])"
      ],
      "execution_count": 90,
      "outputs": []
    },
    {
      "cell_type": "code",
      "metadata": {
        "colab": {
          "base_uri": "https://localhost:8080/"
        },
        "id": "8ruxOxciN37y",
        "outputId": "6a7d067d-8f46-452c-9c63-184e2f716e4e"
      },
      "source": [
        "from glob import glob\n",
        "for filename in glob(f'{data_folder}/*.csv'):\n",
        "    print(filename)\n",
        "    pop = pd.read_csv(filename)\n",
        "    pop = pop[pop['상권업종중분류코드'] == 'Q12']       # = pop[pop.상권업종중분류코드 == 'Q12']\n",
        "    pop = pop[['상호명', '지점명', '시도명', '시군구명', '도로명주소']]\n",
        "\n",
        "    star = pop[pop['상호명'].str.contains('스타벅스|STARBUCKS', case=False)]\n",
        "    coffee = pop[pop['상호명'].str.contains('커피빈|coffeebean', case=False)]\n",
        "    edi = pop[pop['상호명'].str.contains('이디야|ediya', case=False)]\n",
        "    paik = pop[pop['상호명'].str.contains('빽다방|paiksdabang', case=False)]\n",
        "\n",
        "    starbucks = pd.concat([starbucks, star])\n",
        "    coffeebean = pd.concat([coffeebean, coffee])\n",
        "    ediya = pd.concat([ediya, edi])\n",
        "    paikdabang = pd.concat([paikdabang, paik])"
      ],
      "execution_count": 92,
      "outputs": [
        {
          "output_type": "stream",
          "name": "stdout",
          "text": [
            "/content/mnt/MyDrive/데이터/소상공인시장진흥공단_상가(상권)정보_20210630/소상공인시장진흥공단_상가(상권)정보_강원_202106.csv\n",
            "/content/mnt/MyDrive/데이터/소상공인시장진흥공단_상가(상권)정보_20210630/소상공인시장진흥공단_상가(상권)정보_경기_202106.csv\n",
            "/content/mnt/MyDrive/데이터/소상공인시장진흥공단_상가(상권)정보_20210630/소상공인시장진흥공단_상가(상권)정보_경남_202106.csv\n",
            "/content/mnt/MyDrive/데이터/소상공인시장진흥공단_상가(상권)정보_20210630/소상공인시장진흥공단_상가(상권)정보_경북_202106.csv\n",
            "/content/mnt/MyDrive/데이터/소상공인시장진흥공단_상가(상권)정보_20210630/소상공인시장진흥공단_상가(상권)정보_광주_202106.csv\n",
            "/content/mnt/MyDrive/데이터/소상공인시장진흥공단_상가(상권)정보_20210630/소상공인시장진흥공단_상가(상권)정보_대구_202106.csv\n",
            "/content/mnt/MyDrive/데이터/소상공인시장진흥공단_상가(상권)정보_20210630/소상공인시장진흥공단_상가(상권)정보_대전_202106.csv\n",
            "/content/mnt/MyDrive/데이터/소상공인시장진흥공단_상가(상권)정보_20210630/소상공인시장진흥공단_상가(상권)정보_부산_202106.csv\n",
            "/content/mnt/MyDrive/데이터/소상공인시장진흥공단_상가(상권)정보_20210630/소상공인시장진흥공단_상가(상권)정보_서울_202106.csv\n",
            "/content/mnt/MyDrive/데이터/소상공인시장진흥공단_상가(상권)정보_20210630/소상공인시장진흥공단_상가(상권)정보_세종_202106.csv\n",
            "/content/mnt/MyDrive/데이터/소상공인시장진흥공단_상가(상권)정보_20210630/소상공인시장진흥공단_상가(상권)정보_울산_202106.csv\n",
            "/content/mnt/MyDrive/데이터/소상공인시장진흥공단_상가(상권)정보_20210630/소상공인시장진흥공단_상가(상권)정보_인천_202106.csv\n",
            "/content/mnt/MyDrive/데이터/소상공인시장진흥공단_상가(상권)정보_20210630/소상공인시장진흥공단_상가(상권)정보_전남_202106.csv\n",
            "/content/mnt/MyDrive/데이터/소상공인시장진흥공단_상가(상권)정보_20210630/소상공인시장진흥공단_상가(상권)정보_전북_202106.csv\n",
            "/content/mnt/MyDrive/데이터/소상공인시장진흥공단_상가(상권)정보_20210630/소상공인시장진흥공단_상가(상권)정보_제주_202106.csv\n",
            "/content/mnt/MyDrive/데이터/소상공인시장진흥공단_상가(상권)정보_20210630/소상공인시장진흥공단_상가(상권)정보_충남_202106.csv\n",
            "/content/mnt/MyDrive/데이터/소상공인시장진흥공단_상가(상권)정보_20210630/소상공인시장진흥공단_상가(상권)정보_충북_202106.csv\n"
          ]
        }
      ]
    },
    {
      "cell_type": "code",
      "metadata": {
        "colab": {
          "base_uri": "https://localhost:8080/",
          "height": 204
        },
        "id": "D7e_MC8GPqAj",
        "outputId": "49a5e829-8ea8-4d56-d5cd-b33f60bf08bd"
      },
      "source": [
        "starbucks.tail()"
      ],
      "execution_count": 93,
      "outputs": [
        {
          "output_type": "execute_result",
          "data": {
            "text/html": [
              "<div>\n",
              "<style scoped>\n",
              "    .dataframe tbody tr th:only-of-type {\n",
              "        vertical-align: middle;\n",
              "    }\n",
              "\n",
              "    .dataframe tbody tr th {\n",
              "        vertical-align: top;\n",
              "    }\n",
              "\n",
              "    .dataframe thead th {\n",
              "        text-align: right;\n",
              "    }\n",
              "</style>\n",
              "<table border=\"1\" class=\"dataframe\">\n",
              "  <thead>\n",
              "    <tr style=\"text-align: right;\">\n",
              "      <th></th>\n",
              "      <th>상호명</th>\n",
              "      <th>지점명</th>\n",
              "      <th>시도명</th>\n",
              "      <th>시군구명</th>\n",
              "      <th>도로명주소</th>\n",
              "    </tr>\n",
              "  </thead>\n",
              "  <tbody>\n",
              "    <tr>\n",
              "      <th>72684</th>\n",
              "      <td>스타벅스</td>\n",
              "      <td>충북대점</td>\n",
              "      <td>충청북도</td>\n",
              "      <td>청주시 서원구</td>\n",
              "      <td>충청북도 청주시 서원구 내수동로 113</td>\n",
              "    </tr>\n",
              "    <tr>\n",
              "      <th>73841</th>\n",
              "      <td>스타벅스</td>\n",
              "      <td>청주율량DT점</td>\n",
              "      <td>충청북도</td>\n",
              "      <td>청주시 청원구</td>\n",
              "      <td>충청북도 청주시 청원구 충청대로107번길 8</td>\n",
              "    </tr>\n",
              "    <tr>\n",
              "      <th>79073</th>\n",
              "      <td>스타벅스</td>\n",
              "      <td>충주연수점</td>\n",
              "      <td>충청북도</td>\n",
              "      <td>충주시</td>\n",
              "      <td>충청북도 충주시 계명대로 227</td>\n",
              "    </tr>\n",
              "    <tr>\n",
              "      <th>79357</th>\n",
              "      <td>스타벅스</td>\n",
              "      <td>충주성서점</td>\n",
              "      <td>충청북도</td>\n",
              "      <td>충주시</td>\n",
              "      <td>충청북도 충주시 예성로 151</td>\n",
              "    </tr>\n",
              "    <tr>\n",
              "      <th>84354</th>\n",
              "      <td>스타벅스</td>\n",
              "      <td>NaN</td>\n",
              "      <td>충청북도</td>\n",
              "      <td>음성군</td>\n",
              "      <td>충청북도 음성군 원남면 보천로 65</td>\n",
              "    </tr>\n",
              "  </tbody>\n",
              "</table>\n",
              "</div>"
            ],
            "text/plain": [
              "        상호명      지점명   시도명     시군구명                     도로명주소\n",
              "72684  스타벅스     충북대점  충청북도  청주시 서원구     충청북도 청주시 서원구 내수동로 113\n",
              "73841  스타벅스  청주율량DT점  충청북도  청주시 청원구  충청북도 청주시 청원구 충청대로107번길 8\n",
              "79073  스타벅스    충주연수점  충청북도      충주시         충청북도 충주시 계명대로 227\n",
              "79357  스타벅스    충주성서점  충청북도      충주시          충청북도 충주시 예성로 151\n",
              "84354  스타벅스      NaN  충청북도      음성군       충청북도 음성군 원남면 보천로 65"
            ]
          },
          "metadata": {},
          "execution_count": 93
        }
      ]
    },
    {
      "cell_type": "code",
      "metadata": {
        "colab": {
          "base_uri": "https://localhost:8080/"
        },
        "id": "5DADbMUbP2xZ",
        "outputId": "ca62e666-e7ea-4261-9ecf-31b56a80326f"
      },
      "source": [
        "len(starbucks), len(coffeebean), len(ediya), len(paikdabang)"
      ],
      "execution_count": 94,
      "outputs": [
        {
          "output_type": "execute_result",
          "data": {
            "text/plain": [
              "(1547, 293, 2120, 608)"
            ]
          },
          "metadata": {},
          "execution_count": 94
        }
      ]
    },
    {
      "cell_type": "code",
      "metadata": {
        "id": "ufpCHaUVPUug"
      },
      "source": [
        "result_dir = '/content/mnt/MyDrive/results/CoffeeIndex'"
      ],
      "execution_count": 97,
      "outputs": []
    },
    {
      "cell_type": "code",
      "metadata": {
        "id": "X_-oncAIOxqe"
      },
      "source": [
        "!mkdir -p $result_dir"
      ],
      "execution_count": 98,
      "outputs": []
    },
    {
      "cell_type": "code",
      "metadata": {
        "id": "VW2ujdMGPQJB"
      },
      "source": [
        "starbucks.to_csv(f'{result_dir}/스타벅스.csv', index=False)\n",
        "ediya.to_csv(f'{result_dir}/이디야.csv', index=False)\n",
        "coffeebean.to_csv(f'{result_dir}/커피빈.csv', index=False)\n",
        "paikdabang.to_csv(f'{result_dir}/빽다방.csv', index=False)"
      ],
      "execution_count": 99,
      "outputs": []
    },
    {
      "cell_type": "code",
      "metadata": {
        "id": "lcxdZVq8SL9I"
      },
      "source": [
        ""
      ],
      "execution_count": null,
      "outputs": []
    }
  ]
}