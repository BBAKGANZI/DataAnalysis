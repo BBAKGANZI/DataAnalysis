{
  "nbformat": 4,
  "nbformat_minor": 0,
  "metadata": {
    "colab": {
      "name": "21_서울시_CCTV_현황분석.ipynb",
      "provenance": [],
      "collapsed_sections": []
    },
    "kernelspec": {
      "name": "python3",
      "display_name": "Python 3"
    },
    "language_info": {
      "name": "python"
    }
  },
  "cells": [
    {
      "cell_type": "markdown",
      "metadata": {
        "id": "S3EOpDwDbLe2"
      },
      "source": [
        "# 서울시 구별 CCTV 현황 분석\n",
        "서울시 CCTV와 인구\n",
        "- 0. 서울시 구별 CCTV 설치 현황 데이터, 서울시 주민등록 인구 (구별 통계 데이터)\n",
        " \n",
        "- 1. 두개의 관계, 또는 구별 CCTV 비교 등\n",
        "    이 자료를 잘 표현하는 그림 하나를 그려보세요."
      ]
    },
    {
      "cell_type": "code",
      "metadata": {
        "id": "o50bTRsYa2Ok"
      },
      "source": [
        "!apt-get install -y fonts-nanum > /dev/null\n",
        "!fc-cache -fv > /dev/null\n",
        "!rm -rf ~/.cache/matplotlib > /dev/null\n",
        "# 런타임 다시 시작"
      ],
      "execution_count": 1,
      "outputs": []
    },
    {
      "cell_type": "code",
      "metadata": {
        "id": "Zj4ATKH9bdM7"
      },
      "source": [
        "import numpy as np\n",
        "import seaborn as sns\n",
        "import pandas as pd\n",
        "import matplotlib as mpl\n",
        "import matplotlib.pyplot as plt\n",
        "mpl.rcParams['axes.unicode_minus'] = False\n",
        "plt.rc('font', family='NanumBarunGothic')"
      ],
      "execution_count": 1,
      "outputs": []
    },
    {
      "cell_type": "markdown",
      "metadata": {
        "id": "_P0vQK4dbnH2"
      },
      "source": [
        "## CCTV 데이터 파악하고 정리하기"
      ]
    },
    {
      "cell_type": "code",
      "metadata": {
        "colab": {
          "resources": {
            "http://localhost:8080/nbextensions/google.colab/files.js": {
              "data": "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",
              "ok": true,
              "headers": [
                [
                  "content-type",
                  "application/javascript"
                ]
              ],
              "status": 200,
              "status_text": ""
            }
          },
          "base_uri": "https://localhost:8080/",
          "height": 76
        },
        "id": "P29eCkjxbmeb",
        "outputId": "102ec8b6-c299-4db7-f9d3-319f817d7197"
      },
      "source": [
        "from google.colab import files\n",
        "uploaded = files.upload()\n",
        "filename = list(uploaded.keys())[0]"
      ],
      "execution_count": 2,
      "outputs": [
        {
          "output_type": "display_data",
          "data": {
            "text/html": [
              "\n",
              "     <input type=\"file\" id=\"files-ec11b6d7-475b-412a-93f4-f4de712cf389\" name=\"files[]\" multiple disabled\n",
              "        style=\"border:none\" />\n",
              "     <output id=\"result-ec11b6d7-475b-412a-93f4-f4de712cf389\">\n",
              "      Upload widget is only available when the cell has been executed in the\n",
              "      current browser session. Please rerun this cell to enable.\n",
              "      </output>\n",
              "      <script src=\"/nbextensions/google.colab/files.js\"></script> "
            ],
            "text/plain": [
              "<IPython.core.display.HTML object>"
            ]
          },
          "metadata": {}
        },
        {
          "output_type": "stream",
          "name": "stdout",
          "text": [
            "Saving 서울시CCTV설치운영현황(자치구)_년도별_210731기준.csv to 서울시CCTV설치운영현황(자치구)_년도별_210731기준.csv\n"
          ]
        }
      ]
    },
    {
      "cell_type": "code",
      "metadata": {
        "colab": {
          "base_uri": "https://localhost:8080/",
          "height": 204
        },
        "id": "f1I9ZPfwb0BV",
        "outputId": "cd788de3-4815-45b9-e943-5b136d706bda"
      },
      "source": [
        "cctv = pd.read_csv(filename, skiprows=1, encoding='euc-kr')\n",
        "cctv.head()"
      ],
      "execution_count": 10,
      "outputs": [
        {
          "output_type": "execute_result",
          "data": {
            "text/html": [
              "<div>\n",
              "<style scoped>\n",
              "    .dataframe tbody tr th:only-of-type {\n",
              "        vertical-align: middle;\n",
              "    }\n",
              "\n",
              "    .dataframe tbody tr th {\n",
              "        vertical-align: top;\n",
              "    }\n",
              "\n",
              "    .dataframe thead th {\n",
              "        text-align: right;\n",
              "    }\n",
              "</style>\n",
              "<table border=\"1\" class=\"dataframe\">\n",
              "  <thead>\n",
              "    <tr style=\"text-align: right;\">\n",
              "      <th></th>\n",
              "      <th>구분</th>\n",
              "      <th>총계</th>\n",
              "      <th>2012년 이전</th>\n",
              "      <th>2012년</th>\n",
              "      <th>2013년</th>\n",
              "      <th>2014년</th>\n",
              "      <th>2015년</th>\n",
              "      <th>2016년</th>\n",
              "      <th>2017년</th>\n",
              "      <th>2018년</th>\n",
              "      <th>2019년</th>\n",
              "      <th>2020년</th>\n",
              "      <th>2021년</th>\n",
              "    </tr>\n",
              "  </thead>\n",
              "  <tbody>\n",
              "    <tr>\n",
              "      <th>0</th>\n",
              "      <td>계</td>\n",
              "      <td>77,032</td>\n",
              "      <td>7,667</td>\n",
              "      <td>2,200</td>\n",
              "      <td>3,491</td>\n",
              "      <td>4,439</td>\n",
              "      <td>6,582</td>\n",
              "      <td>8,129</td>\n",
              "      <td>9,947</td>\n",
              "      <td>9,876</td>\n",
              "      <td>11,961</td>\n",
              "      <td>11,132</td>\n",
              "      <td>1,608</td>\n",
              "    </tr>\n",
              "    <tr>\n",
              "      <th>1</th>\n",
              "      <td>종로구</td>\n",
              "      <td>1,772</td>\n",
              "      <td>813</td>\n",
              "      <td>0</td>\n",
              "      <td>0</td>\n",
              "      <td>210</td>\n",
              "      <td>150</td>\n",
              "      <td>1</td>\n",
              "      <td>261</td>\n",
              "      <td>85</td>\n",
              "      <td>9</td>\n",
              "      <td>200</td>\n",
              "      <td>43</td>\n",
              "    </tr>\n",
              "    <tr>\n",
              "      <th>2</th>\n",
              "      <td>중 구</td>\n",
              "      <td>2,333</td>\n",
              "      <td>16</td>\n",
              "      <td>114</td>\n",
              "      <td>87</td>\n",
              "      <td>77</td>\n",
              "      <td>236</td>\n",
              "      <td>240</td>\n",
              "      <td>372</td>\n",
              "      <td>386</td>\n",
              "      <td>155</td>\n",
              "      <td>361</td>\n",
              "      <td>289</td>\n",
              "    </tr>\n",
              "    <tr>\n",
              "      <th>3</th>\n",
              "      <td>용산구</td>\n",
              "      <td>2,383</td>\n",
              "      <td>34</td>\n",
              "      <td>71</td>\n",
              "      <td>234</td>\n",
              "      <td>125</td>\n",
              "      <td>221</td>\n",
              "      <td>298</td>\n",
              "      <td>351</td>\n",
              "      <td>125</td>\n",
              "      <td>307</td>\n",
              "      <td>617</td>\n",
              "      <td>0</td>\n",
              "    </tr>\n",
              "    <tr>\n",
              "      <th>4</th>\n",
              "      <td>성동구</td>\n",
              "      <td>3,602</td>\n",
              "      <td>448</td>\n",
              "      <td>125</td>\n",
              "      <td>212</td>\n",
              "      <td>105</td>\n",
              "      <td>339</td>\n",
              "      <td>310</td>\n",
              "      <td>874</td>\n",
              "      <td>390</td>\n",
              "      <td>262</td>\n",
              "      <td>461</td>\n",
              "      <td>76</td>\n",
              "    </tr>\n",
              "  </tbody>\n",
              "</table>\n",
              "</div>"
            ],
            "text/plain": [
              "    구분      총계 2012년 이전  2012년  2013년  ...  2017년  2018년   2019년   2020년  2021년\n",
              "0    계  77,032    7,667  2,200  3,491  ...  9,947  9,876  11,961  11,132  1,608\n",
              "1  종로구   1,772      813      0      0  ...    261     85       9     200     43\n",
              "2  중 구   2,333       16    114     87  ...    372    386     155     361    289\n",
              "3  용산구   2,383       34     71    234  ...    351    125     307     617      0\n",
              "4  성동구   3,602      448    125    212  ...    874    390     262     461     76\n",
              "\n",
              "[5 rows x 13 columns]"
            ]
          },
          "metadata": {},
          "execution_count": 10
        }
      ]
    },
    {
      "cell_type": "code",
      "metadata": {
        "colab": {
          "base_uri": "https://localhost:8080/"
        },
        "id": "sl6x5oe_cQBJ",
        "outputId": "1ad4a435-c7bf-45f3-cb2a-9061f7bab995"
      },
      "source": [
        "# Null data 있는지 확인\n",
        "cctv.isnull().sum().sum()"
      ],
      "execution_count": 6,
      "outputs": [
        {
          "output_type": "execute_result",
          "data": {
            "text/plain": [
              "0"
            ]
          },
          "metadata": {},
          "execution_count": 6
        }
      ]
    },
    {
      "cell_type": "code",
      "metadata": {
        "colab": {
          "base_uri": "https://localhost:8080/",
          "height": 204
        },
        "id": "-rtMLvPIcVBc",
        "outputId": "0c1a7bce-fe50-4f85-970e-07931f136a92"
      },
      "source": [
        "for column in cctv.columns[1:]:\n",
        "    cctv[column] = cctv[column].apply(lambda x: int(x.replace(',','')))\n",
        "cctv.head()"
      ],
      "execution_count": 11,
      "outputs": [
        {
          "output_type": "execute_result",
          "data": {
            "text/html": [
              "<div>\n",
              "<style scoped>\n",
              "    .dataframe tbody tr th:only-of-type {\n",
              "        vertical-align: middle;\n",
              "    }\n",
              "\n",
              "    .dataframe tbody tr th {\n",
              "        vertical-align: top;\n",
              "    }\n",
              "\n",
              "    .dataframe thead th {\n",
              "        text-align: right;\n",
              "    }\n",
              "</style>\n",
              "<table border=\"1\" class=\"dataframe\">\n",
              "  <thead>\n",
              "    <tr style=\"text-align: right;\">\n",
              "      <th></th>\n",
              "      <th>구분</th>\n",
              "      <th>총계</th>\n",
              "      <th>2012년 이전</th>\n",
              "      <th>2012년</th>\n",
              "      <th>2013년</th>\n",
              "      <th>2014년</th>\n",
              "      <th>2015년</th>\n",
              "      <th>2016년</th>\n",
              "      <th>2017년</th>\n",
              "      <th>2018년</th>\n",
              "      <th>2019년</th>\n",
              "      <th>2020년</th>\n",
              "      <th>2021년</th>\n",
              "    </tr>\n",
              "  </thead>\n",
              "  <tbody>\n",
              "    <tr>\n",
              "      <th>0</th>\n",
              "      <td>계</td>\n",
              "      <td>77032</td>\n",
              "      <td>7667</td>\n",
              "      <td>2200</td>\n",
              "      <td>3491</td>\n",
              "      <td>4439</td>\n",
              "      <td>6582</td>\n",
              "      <td>8129</td>\n",
              "      <td>9947</td>\n",
              "      <td>9876</td>\n",
              "      <td>11961</td>\n",
              "      <td>11132</td>\n",
              "      <td>1608</td>\n",
              "    </tr>\n",
              "    <tr>\n",
              "      <th>1</th>\n",
              "      <td>종로구</td>\n",
              "      <td>1772</td>\n",
              "      <td>813</td>\n",
              "      <td>0</td>\n",
              "      <td>0</td>\n",
              "      <td>210</td>\n",
              "      <td>150</td>\n",
              "      <td>1</td>\n",
              "      <td>261</td>\n",
              "      <td>85</td>\n",
              "      <td>9</td>\n",
              "      <td>200</td>\n",
              "      <td>43</td>\n",
              "    </tr>\n",
              "    <tr>\n",
              "      <th>2</th>\n",
              "      <td>중 구</td>\n",
              "      <td>2333</td>\n",
              "      <td>16</td>\n",
              "      <td>114</td>\n",
              "      <td>87</td>\n",
              "      <td>77</td>\n",
              "      <td>236</td>\n",
              "      <td>240</td>\n",
              "      <td>372</td>\n",
              "      <td>386</td>\n",
              "      <td>155</td>\n",
              "      <td>361</td>\n",
              "      <td>289</td>\n",
              "    </tr>\n",
              "    <tr>\n",
              "      <th>3</th>\n",
              "      <td>용산구</td>\n",
              "      <td>2383</td>\n",
              "      <td>34</td>\n",
              "      <td>71</td>\n",
              "      <td>234</td>\n",
              "      <td>125</td>\n",
              "      <td>221</td>\n",
              "      <td>298</td>\n",
              "      <td>351</td>\n",
              "      <td>125</td>\n",
              "      <td>307</td>\n",
              "      <td>617</td>\n",
              "      <td>0</td>\n",
              "    </tr>\n",
              "    <tr>\n",
              "      <th>4</th>\n",
              "      <td>성동구</td>\n",
              "      <td>3602</td>\n",
              "      <td>448</td>\n",
              "      <td>125</td>\n",
              "      <td>212</td>\n",
              "      <td>105</td>\n",
              "      <td>339</td>\n",
              "      <td>310</td>\n",
              "      <td>874</td>\n",
              "      <td>390</td>\n",
              "      <td>262</td>\n",
              "      <td>461</td>\n",
              "      <td>76</td>\n",
              "    </tr>\n",
              "  </tbody>\n",
              "</table>\n",
              "</div>"
            ],
            "text/plain": [
              "    구분     총계  2012년 이전  2012년  2013년  ...  2017년  2018년  2019년  2020년  2021년\n",
              "0    계  77032      7667   2200   3491  ...   9947   9876  11961  11132   1608\n",
              "1  종로구   1772       813      0      0  ...    261     85      9    200     43\n",
              "2  중 구   2333        16    114     87  ...    372    386    155    361    289\n",
              "3  용산구   2383        34     71    234  ...    351    125    307    617      0\n",
              "4  성동구   3602       448    125    212  ...    874    390    262    461     76\n",
              "\n",
              "[5 rows x 13 columns]"
            ]
          },
          "metadata": {},
          "execution_count": 11
        }
      ]
    },
    {
      "cell_type": "code",
      "metadata": {
        "colab": {
          "base_uri": "https://localhost:8080/",
          "height": 204
        },
        "id": "ExSRxqUfde6K",
        "outputId": "934fe117-df2d-47bb-98d5-9498c3ab2ecf"
      },
      "source": [
        "cctv.rename(columns={'구분': '구별'}, inplace=True)\n",
        "cctv['2017년_이전'] = cctv.총계 - cctv['2018년'] - cctv['2019년'] - cctv['2020년'] - cctv['2021년']\n",
        "cctv['최근증가율'] = ((cctv['2018년']+cctv['2019년']+cctv['2020년']) / cctv['2017년_이전'] * 100).round(2)\n",
        "cctv = cctv[['구별','총계','최근증가율']]\n",
        "cctv.head()"
      ],
      "execution_count": 12,
      "outputs": [
        {
          "output_type": "execute_result",
          "data": {
            "text/html": [
              "<div>\n",
              "<style scoped>\n",
              "    .dataframe tbody tr th:only-of-type {\n",
              "        vertical-align: middle;\n",
              "    }\n",
              "\n",
              "    .dataframe tbody tr th {\n",
              "        vertical-align: top;\n",
              "    }\n",
              "\n",
              "    .dataframe thead th {\n",
              "        text-align: right;\n",
              "    }\n",
              "</style>\n",
              "<table border=\"1\" class=\"dataframe\">\n",
              "  <thead>\n",
              "    <tr style=\"text-align: right;\">\n",
              "      <th></th>\n",
              "      <th>구별</th>\n",
              "      <th>총계</th>\n",
              "      <th>최근증가율</th>\n",
              "    </tr>\n",
              "  </thead>\n",
              "  <tbody>\n",
              "    <tr>\n",
              "      <th>0</th>\n",
              "      <td>계</td>\n",
              "      <td>77032</td>\n",
              "      <td>77.66</td>\n",
              "    </tr>\n",
              "    <tr>\n",
              "      <th>1</th>\n",
              "      <td>종로구</td>\n",
              "      <td>1772</td>\n",
              "      <td>20.49</td>\n",
              "    </tr>\n",
              "    <tr>\n",
              "      <th>2</th>\n",
              "      <td>중 구</td>\n",
              "      <td>2333</td>\n",
              "      <td>78.98</td>\n",
              "    </tr>\n",
              "    <tr>\n",
              "      <th>3</th>\n",
              "      <td>용산구</td>\n",
              "      <td>2383</td>\n",
              "      <td>78.64</td>\n",
              "    </tr>\n",
              "    <tr>\n",
              "      <th>4</th>\n",
              "      <td>성동구</td>\n",
              "      <td>3602</td>\n",
              "      <td>46.13</td>\n",
              "    </tr>\n",
              "  </tbody>\n",
              "</table>\n",
              "</div>"
            ],
            "text/plain": [
              "    구별     총계  최근증가율\n",
              "0    계  77032  77.66\n",
              "1  종로구   1772  20.49\n",
              "2  중 구   2333  78.98\n",
              "3  용산구   2383  78.64\n",
              "4  성동구   3602  46.13"
            ]
          },
          "metadata": {},
          "execution_count": 12
        }
      ]
    },
    {
      "cell_type": "code",
      "metadata": {
        "colab": {
          "base_uri": "https://localhost:8080/"
        },
        "id": "oA7fqmCXdmEO",
        "outputId": "2ed6e328-124a-48ab-86f8-2932e8dcd1d9"
      },
      "source": [
        "cctv['구별'] = cctv.구별.apply(lambda x: x.replace(' ',''))\n",
        "cctv.구별.unique()"
      ],
      "execution_count": 13,
      "outputs": [
        {
          "output_type": "execute_result",
          "data": {
            "text/plain": [
              "array(['계', '종로구', '중구', '용산구', '성동구', '광진구', '동대문구', '중랑구', '성북구', '강북구',\n",
              "       '도봉구', '노원구', '은평구', '서대문구', '마포구', '양천구', '강서구', '구로구', '금천구',\n",
              "       '영등포구', '동작구', '관악구', '서초구', '강남구', '송파구', '강동구'], dtype=object)"
            ]
          },
          "metadata": {},
          "execution_count": 13
        }
      ]
    },
    {
      "cell_type": "code",
      "metadata": {
        "colab": {
          "base_uri": "https://localhost:8080/",
          "height": 204
        },
        "id": "RU0NR-4zdnzz",
        "outputId": "3cf65ae7-bc30-4fcc-accf-32017b4024cb"
      },
      "source": [
        "# 첫번째 행 제거\n",
        "cctv.drop([0], inplace=True)\n",
        "cctv.head()"
      ],
      "execution_count": 14,
      "outputs": [
        {
          "output_type": "execute_result",
          "data": {
            "text/html": [
              "<div>\n",
              "<style scoped>\n",
              "    .dataframe tbody tr th:only-of-type {\n",
              "        vertical-align: middle;\n",
              "    }\n",
              "\n",
              "    .dataframe tbody tr th {\n",
              "        vertical-align: top;\n",
              "    }\n",
              "\n",
              "    .dataframe thead th {\n",
              "        text-align: right;\n",
              "    }\n",
              "</style>\n",
              "<table border=\"1\" class=\"dataframe\">\n",
              "  <thead>\n",
              "    <tr style=\"text-align: right;\">\n",
              "      <th></th>\n",
              "      <th>구별</th>\n",
              "      <th>총계</th>\n",
              "      <th>최근증가율</th>\n",
              "    </tr>\n",
              "  </thead>\n",
              "  <tbody>\n",
              "    <tr>\n",
              "      <th>1</th>\n",
              "      <td>종로구</td>\n",
              "      <td>1772</td>\n",
              "      <td>20.49</td>\n",
              "    </tr>\n",
              "    <tr>\n",
              "      <th>2</th>\n",
              "      <td>중구</td>\n",
              "      <td>2333</td>\n",
              "      <td>78.98</td>\n",
              "    </tr>\n",
              "    <tr>\n",
              "      <th>3</th>\n",
              "      <td>용산구</td>\n",
              "      <td>2383</td>\n",
              "      <td>78.64</td>\n",
              "    </tr>\n",
              "    <tr>\n",
              "      <th>4</th>\n",
              "      <td>성동구</td>\n",
              "      <td>3602</td>\n",
              "      <td>46.13</td>\n",
              "    </tr>\n",
              "    <tr>\n",
              "      <th>5</th>\n",
              "      <td>광진구</td>\n",
              "      <td>2588</td>\n",
              "      <td>112.29</td>\n",
              "    </tr>\n",
              "  </tbody>\n",
              "</table>\n",
              "</div>"
            ],
            "text/plain": [
              "    구별    총계   최근증가율\n",
              "1  종로구  1772   20.49\n",
              "2   중구  2333   78.98\n",
              "3  용산구  2383   78.64\n",
              "4  성동구  3602   46.13\n",
              "5  광진구  2588  112.29"
            ]
          },
          "metadata": {},
          "execution_count": 14
        }
      ]
    },
    {
      "cell_type": "code",
      "metadata": {
        "colab": {
          "base_uri": "https://localhost:8080/",
          "height": 204
        },
        "id": "0GUcf9rfdqD0",
        "outputId": "ce5cadf4-5b79-4dd1-f276-3549f49bf3be"
      },
      "source": [
        "cctv.columns = ['구별','CCTV댓수','최근증가율']\n",
        "cctv.head()"
      ],
      "execution_count": 15,
      "outputs": [
        {
          "output_type": "execute_result",
          "data": {
            "text/html": [
              "<div>\n",
              "<style scoped>\n",
              "    .dataframe tbody tr th:only-of-type {\n",
              "        vertical-align: middle;\n",
              "    }\n",
              "\n",
              "    .dataframe tbody tr th {\n",
              "        vertical-align: top;\n",
              "    }\n",
              "\n",
              "    .dataframe thead th {\n",
              "        text-align: right;\n",
              "    }\n",
              "</style>\n",
              "<table border=\"1\" class=\"dataframe\">\n",
              "  <thead>\n",
              "    <tr style=\"text-align: right;\">\n",
              "      <th></th>\n",
              "      <th>구별</th>\n",
              "      <th>CCTV댓수</th>\n",
              "      <th>최근증가율</th>\n",
              "    </tr>\n",
              "  </thead>\n",
              "  <tbody>\n",
              "    <tr>\n",
              "      <th>1</th>\n",
              "      <td>종로구</td>\n",
              "      <td>1772</td>\n",
              "      <td>20.49</td>\n",
              "    </tr>\n",
              "    <tr>\n",
              "      <th>2</th>\n",
              "      <td>중구</td>\n",
              "      <td>2333</td>\n",
              "      <td>78.98</td>\n",
              "    </tr>\n",
              "    <tr>\n",
              "      <th>3</th>\n",
              "      <td>용산구</td>\n",
              "      <td>2383</td>\n",
              "      <td>78.64</td>\n",
              "    </tr>\n",
              "    <tr>\n",
              "      <th>4</th>\n",
              "      <td>성동구</td>\n",
              "      <td>3602</td>\n",
              "      <td>46.13</td>\n",
              "    </tr>\n",
              "    <tr>\n",
              "      <th>5</th>\n",
              "      <td>광진구</td>\n",
              "      <td>2588</td>\n",
              "      <td>112.29</td>\n",
              "    </tr>\n",
              "  </tbody>\n",
              "</table>\n",
              "</div>"
            ],
            "text/plain": [
              "    구별  CCTV댓수   최근증가율\n",
              "1  종로구    1772   20.49\n",
              "2   중구    2333   78.98\n",
              "3  용산구    2383   78.64\n",
              "4  성동구    3602   46.13\n",
              "5  광진구    2588  112.29"
            ]
          },
          "metadata": {},
          "execution_count": 15
        }
      ]
    },
    {
      "cell_type": "code",
      "metadata": {
        "colab": {
          "base_uri": "https://localhost:8080/",
          "height": 204
        },
        "id": "4ZDnmXEOdrpw",
        "outputId": "cff3dfec-3e89-4862-c39f-b0de5a8fd2f0"
      },
      "source": [
        "# 최근증가율 Top 5\n",
        "cctv.sort_values(by='최근증가율', ascending=False).head()"
      ],
      "execution_count": 16,
      "outputs": [
        {
          "output_type": "execute_result",
          "data": {
            "text/html": [
              "<div>\n",
              "<style scoped>\n",
              "    .dataframe tbody tr th:only-of-type {\n",
              "        vertical-align: middle;\n",
              "    }\n",
              "\n",
              "    .dataframe tbody tr th {\n",
              "        vertical-align: top;\n",
              "    }\n",
              "\n",
              "    .dataframe thead th {\n",
              "        text-align: right;\n",
              "    }\n",
              "</style>\n",
              "<table border=\"1\" class=\"dataframe\">\n",
              "  <thead>\n",
              "    <tr style=\"text-align: right;\">\n",
              "      <th></th>\n",
              "      <th>구별</th>\n",
              "      <th>CCTV댓수</th>\n",
              "      <th>최근증가율</th>\n",
              "    </tr>\n",
              "  </thead>\n",
              "  <tbody>\n",
              "    <tr>\n",
              "      <th>9</th>\n",
              "      <td>강북구</td>\n",
              "      <td>2462</td>\n",
              "      <td>446.95</td>\n",
              "    </tr>\n",
              "    <tr>\n",
              "      <th>24</th>\n",
              "      <td>송파구</td>\n",
              "      <td>2854</td>\n",
              "      <td>203.19</td>\n",
              "    </tr>\n",
              "    <tr>\n",
              "      <th>7</th>\n",
              "      <td>중랑구</td>\n",
              "      <td>3296</td>\n",
              "      <td>191.07</td>\n",
              "    </tr>\n",
              "    <tr>\n",
              "      <th>18</th>\n",
              "      <td>금천구</td>\n",
              "      <td>2374</td>\n",
              "      <td>149.47</td>\n",
              "    </tr>\n",
              "    <tr>\n",
              "      <th>12</th>\n",
              "      <td>은평구</td>\n",
              "      <td>3791</td>\n",
              "      <td>117.86</td>\n",
              "    </tr>\n",
              "  </tbody>\n",
              "</table>\n",
              "</div>"
            ],
            "text/plain": [
              "     구별  CCTV댓수   최근증가율\n",
              "9   강북구    2462  446.95\n",
              "24  송파구    2854  203.19\n",
              "7   중랑구    3296  191.07\n",
              "18  금천구    2374  149.47\n",
              "12  은평구    3791  117.86"
            ]
          },
          "metadata": {},
          "execution_count": 16
        }
      ]
    },
    {
      "cell_type": "code",
      "metadata": {
        "colab": {
          "base_uri": "https://localhost:8080/",
          "height": 204
        },
        "id": "Ti03Wki7duNJ",
        "outputId": "64a790fc-b52b-4e38-8ad4-c51802f0ff42"
      },
      "source": [
        "# CCTV 댓수 Top 5\n",
        "cctv.sort_values(by='CCTV댓수', ascending=False).head()"
      ],
      "execution_count": 17,
      "outputs": [
        {
          "output_type": "execute_result",
          "data": {
            "text/html": [
              "<div>\n",
              "<style scoped>\n",
              "    .dataframe tbody tr th:only-of-type {\n",
              "        vertical-align: middle;\n",
              "    }\n",
              "\n",
              "    .dataframe tbody tr th {\n",
              "        vertical-align: top;\n",
              "    }\n",
              "\n",
              "    .dataframe thead th {\n",
              "        text-align: right;\n",
              "    }\n",
              "</style>\n",
              "<table border=\"1\" class=\"dataframe\">\n",
              "  <thead>\n",
              "    <tr style=\"text-align: right;\">\n",
              "      <th></th>\n",
              "      <th>구별</th>\n",
              "      <th>CCTV댓수</th>\n",
              "      <th>최근증가율</th>\n",
              "    </tr>\n",
              "  </thead>\n",
              "  <tbody>\n",
              "    <tr>\n",
              "      <th>23</th>\n",
              "      <td>강남구</td>\n",
              "      <td>6502</td>\n",
              "      <td>61.64</td>\n",
              "    </tr>\n",
              "    <tr>\n",
              "      <th>21</th>\n",
              "      <td>관악구</td>\n",
              "      <td>4942</td>\n",
              "      <td>49.91</td>\n",
              "    </tr>\n",
              "    <tr>\n",
              "      <th>17</th>\n",
              "      <td>구로구</td>\n",
              "      <td>4075</td>\n",
              "      <td>48.83</td>\n",
              "    </tr>\n",
              "    <tr>\n",
              "      <th>8</th>\n",
              "      <td>성북구</td>\n",
              "      <td>3958</td>\n",
              "      <td>94.53</td>\n",
              "    </tr>\n",
              "    <tr>\n",
              "      <th>12</th>\n",
              "      <td>은평구</td>\n",
              "      <td>3791</td>\n",
              "      <td>117.86</td>\n",
              "    </tr>\n",
              "  </tbody>\n",
              "</table>\n",
              "</div>"
            ],
            "text/plain": [
              "     구별  CCTV댓수   최근증가율\n",
              "23  강남구    6502   61.64\n",
              "21  관악구    4942   49.91\n",
              "17  구로구    4075   48.83\n",
              "8   성북구    3958   94.53\n",
              "12  은평구    3791  117.86"
            ]
          },
          "metadata": {},
          "execution_count": 17
        }
      ]
    },
    {
      "cell_type": "markdown",
      "metadata": {
        "id": "CGf6NSMndwl9"
      },
      "source": [
        "## 인구데이터 파악하고 정리하기"
      ]
    },
    {
      "cell_type": "code",
      "metadata": {
        "colab": {
          "resources": {
            "http://localhost:8080/nbextensions/google.colab/files.js": {
              "data": "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",
              "ok": true,
              "headers": [
                [
                  "content-type",
                  "application/javascript"
                ]
              ],
              "status": 200,
              "status_text": ""
            }
          },
          "base_uri": "https://localhost:8080/",
          "height": 76
        },
        "id": "SxNDmYrYdv4t",
        "outputId": "3577f2bf-c8a3-42ee-d138-5eb38efdc7fd"
      },
      "source": [
        "uploaded = files.upload()\n",
        "filename = list(uploaded.keys())[0]"
      ],
      "execution_count": 19,
      "outputs": [
        {
          "output_type": "display_data",
          "data": {
            "text/html": [
              "\n",
              "     <input type=\"file\" id=\"files-adf4f4ef-e4a4-4d5b-870f-96331536030a\" name=\"files[]\" multiple disabled\n",
              "        style=\"border:none\" />\n",
              "     <output id=\"result-adf4f4ef-e4a4-4d5b-870f-96331536030a\">\n",
              "      Upload widget is only available when the cell has been executed in the\n",
              "      current browser session. Please rerun this cell to enable.\n",
              "      </output>\n",
              "      <script src=\"/nbextensions/google.colab/files.js\"></script> "
            ],
            "text/plain": [
              "<IPython.core.display.HTML object>"
            ]
          },
          "metadata": {}
        },
        {
          "output_type": "stream",
          "name": "stdout",
          "text": [
            "Saving 서울시주민등록인구(구별)통계.tsv to 서울시주민등록인구(구별)통계.tsv\n"
          ]
        }
      ]
    },
    {
      "cell_type": "code",
      "metadata": {
        "colab": {
          "base_uri": "https://localhost:8080/",
          "height": 204
        },
        "id": "fHWLUxT6d0SS",
        "outputId": "6992daa0-56fd-4fd8-c523-833cba17ad2e"
      },
      "source": [
        "pop = pd.read_csv(filename, sep='\\t', skiprows=2)\n",
        "pop.head()"
      ],
      "execution_count": 20,
      "outputs": [
        {
          "output_type": "execute_result",
          "data": {
            "text/html": [
              "<div>\n",
              "<style scoped>\n",
              "    .dataframe tbody tr th:only-of-type {\n",
              "        vertical-align: middle;\n",
              "    }\n",
              "\n",
              "    .dataframe tbody tr th {\n",
              "        vertical-align: top;\n",
              "    }\n",
              "\n",
              "    .dataframe thead th {\n",
              "        text-align: right;\n",
              "    }\n",
              "</style>\n",
              "<table border=\"1\" class=\"dataframe\">\n",
              "  <thead>\n",
              "    <tr style=\"text-align: right;\">\n",
              "      <th></th>\n",
              "      <th>기간</th>\n",
              "      <th>자치구</th>\n",
              "      <th>세대</th>\n",
              "      <th>계</th>\n",
              "      <th>남자</th>\n",
              "      <th>여자</th>\n",
              "      <th>계.1</th>\n",
              "      <th>남자.1</th>\n",
              "      <th>여자.1</th>\n",
              "      <th>계.2</th>\n",
              "      <th>남자.2</th>\n",
              "      <th>여자.2</th>\n",
              "      <th>세대당인구</th>\n",
              "      <th>65세이상고령자</th>\n",
              "    </tr>\n",
              "  </thead>\n",
              "  <tbody>\n",
              "    <tr>\n",
              "      <th>0</th>\n",
              "      <td>2021.2/4</td>\n",
              "      <td>합계</td>\n",
              "      <td>4,405,638</td>\n",
              "      <td>9,795,426</td>\n",
              "      <td>4,756,178</td>\n",
              "      <td>5,039,248</td>\n",
              "      <td>9,565,990</td>\n",
              "      <td>4,649,442</td>\n",
              "      <td>4,916,548</td>\n",
              "      <td>229,436</td>\n",
              "      <td>106,736</td>\n",
              "      <td>122,700</td>\n",
              "      <td>2.17</td>\n",
              "      <td>1,576,971</td>\n",
              "    </tr>\n",
              "    <tr>\n",
              "      <th>1</th>\n",
              "      <td>2021.2/4</td>\n",
              "      <td>종로구</td>\n",
              "      <td>73,525</td>\n",
              "      <td>155,106</td>\n",
              "      <td>75,009</td>\n",
              "      <td>80,097</td>\n",
              "      <td>146,029</td>\n",
              "      <td>70,985</td>\n",
              "      <td>75,044</td>\n",
              "      <td>9,077</td>\n",
              "      <td>4,024</td>\n",
              "      <td>5,053</td>\n",
              "      <td>1.99</td>\n",
              "      <td>27,605</td>\n",
              "    </tr>\n",
              "    <tr>\n",
              "      <th>2</th>\n",
              "      <td>2021.2/4</td>\n",
              "      <td>중구</td>\n",
              "      <td>62,897</td>\n",
              "      <td>132,259</td>\n",
              "      <td>64,526</td>\n",
              "      <td>67,733</td>\n",
              "      <td>123,016</td>\n",
              "      <td>60,019</td>\n",
              "      <td>62,997</td>\n",
              "      <td>9,243</td>\n",
              "      <td>4,507</td>\n",
              "      <td>4,736</td>\n",
              "      <td>1.96</td>\n",
              "      <td>23,980</td>\n",
              "    </tr>\n",
              "    <tr>\n",
              "      <th>3</th>\n",
              "      <td>2021.2/4</td>\n",
              "      <td>용산구</td>\n",
              "      <td>111,650</td>\n",
              "      <td>240,665</td>\n",
              "      <td>116,858</td>\n",
              "      <td>123,807</td>\n",
              "      <td>226,378</td>\n",
              "      <td>108,948</td>\n",
              "      <td>117,430</td>\n",
              "      <td>14,287</td>\n",
              "      <td>7,910</td>\n",
              "      <td>6,377</td>\n",
              "      <td>2.03</td>\n",
              "      <td>38,884</td>\n",
              "    </tr>\n",
              "    <tr>\n",
              "      <th>4</th>\n",
              "      <td>2021.2/4</td>\n",
              "      <td>성동구</td>\n",
              "      <td>134,542</td>\n",
              "      <td>295,767</td>\n",
              "      <td>143,927</td>\n",
              "      <td>151,840</td>\n",
              "      <td>289,162</td>\n",
              "      <td>141,042</td>\n",
              "      <td>148,120</td>\n",
              "      <td>6,605</td>\n",
              "      <td>2,885</td>\n",
              "      <td>3,720</td>\n",
              "      <td>2.15</td>\n",
              "      <td>45,591</td>\n",
              "    </tr>\n",
              "  </tbody>\n",
              "</table>\n",
              "</div>"
            ],
            "text/plain": [
              "         기간  자치구         세대          계  ...     남자.2     여자.2 세대당인구   65세이상고령자\n",
              "0  2021.2/4   합계  4,405,638  9,795,426  ...  106,736  122,700  2.17  1,576,971\n",
              "1  2021.2/4  종로구     73,525    155,106  ...    4,024    5,053  1.99     27,605\n",
              "2  2021.2/4   중구     62,897    132,259  ...    4,507    4,736  1.96     23,980\n",
              "3  2021.2/4  용산구    111,650    240,665  ...    7,910    6,377  2.03     38,884\n",
              "4  2021.2/4  성동구    134,542    295,767  ...    2,885    3,720  2.15     45,591\n",
              "\n",
              "[5 rows x 14 columns]"
            ]
          },
          "metadata": {},
          "execution_count": 20
        }
      ]
    },
    {
      "cell_type": "code",
      "metadata": {
        "colab": {
          "base_uri": "https://localhost:8080/",
          "height": 204
        },
        "id": "WaJt0GDieIte",
        "outputId": "2d852d01-7d89-4a8c-f301-e4b47ced4a6a"
      },
      "source": [
        "pop = pop[['자치구','계','계.1','계.2','65세이상고령자']]\n",
        "pop.columns = ['구별','인구수','내국인','외국인','고령자']\n",
        "pop.head()"
      ],
      "execution_count": 21,
      "outputs": [
        {
          "output_type": "execute_result",
          "data": {
            "text/html": [
              "<div>\n",
              "<style scoped>\n",
              "    .dataframe tbody tr th:only-of-type {\n",
              "        vertical-align: middle;\n",
              "    }\n",
              "\n",
              "    .dataframe tbody tr th {\n",
              "        vertical-align: top;\n",
              "    }\n",
              "\n",
              "    .dataframe thead th {\n",
              "        text-align: right;\n",
              "    }\n",
              "</style>\n",
              "<table border=\"1\" class=\"dataframe\">\n",
              "  <thead>\n",
              "    <tr style=\"text-align: right;\">\n",
              "      <th></th>\n",
              "      <th>구별</th>\n",
              "      <th>인구수</th>\n",
              "      <th>내국인</th>\n",
              "      <th>외국인</th>\n",
              "      <th>고령자</th>\n",
              "    </tr>\n",
              "  </thead>\n",
              "  <tbody>\n",
              "    <tr>\n",
              "      <th>0</th>\n",
              "      <td>합계</td>\n",
              "      <td>9,795,426</td>\n",
              "      <td>9,565,990</td>\n",
              "      <td>229,436</td>\n",
              "      <td>1,576,971</td>\n",
              "    </tr>\n",
              "    <tr>\n",
              "      <th>1</th>\n",
              "      <td>종로구</td>\n",
              "      <td>155,106</td>\n",
              "      <td>146,029</td>\n",
              "      <td>9,077</td>\n",
              "      <td>27,605</td>\n",
              "    </tr>\n",
              "    <tr>\n",
              "      <th>2</th>\n",
              "      <td>중구</td>\n",
              "      <td>132,259</td>\n",
              "      <td>123,016</td>\n",
              "      <td>9,243</td>\n",
              "      <td>23,980</td>\n",
              "    </tr>\n",
              "    <tr>\n",
              "      <th>3</th>\n",
              "      <td>용산구</td>\n",
              "      <td>240,665</td>\n",
              "      <td>226,378</td>\n",
              "      <td>14,287</td>\n",
              "      <td>38,884</td>\n",
              "    </tr>\n",
              "    <tr>\n",
              "      <th>4</th>\n",
              "      <td>성동구</td>\n",
              "      <td>295,767</td>\n",
              "      <td>289,162</td>\n",
              "      <td>6,605</td>\n",
              "      <td>45,591</td>\n",
              "    </tr>\n",
              "  </tbody>\n",
              "</table>\n",
              "</div>"
            ],
            "text/plain": [
              "    구별        인구수        내국인      외국인        고령자\n",
              "0   합계  9,795,426  9,565,990  229,436  1,576,971\n",
              "1  종로구    155,106    146,029    9,077     27,605\n",
              "2   중구    132,259    123,016    9,243     23,980\n",
              "3  용산구    240,665    226,378   14,287     38,884\n",
              "4  성동구    295,767    289,162    6,605     45,591"
            ]
          },
          "metadata": {},
          "execution_count": 21
        }
      ]
    },
    {
      "cell_type": "code",
      "metadata": {
        "colab": {
          "base_uri": "https://localhost:8080/",
          "height": 204
        },
        "id": "0qZQo33WeKXM",
        "outputId": "985934f7-a593-46cb-e8a3-3f85ab33f59a"
      },
      "source": [
        "for column in pop.columns[1:]:\n",
        "    pop[column] = pop[column].apply(lambda x: int(x.replace(',','')))\n",
        "pop.head()"
      ],
      "execution_count": 22,
      "outputs": [
        {
          "output_type": "execute_result",
          "data": {
            "text/html": [
              "<div>\n",
              "<style scoped>\n",
              "    .dataframe tbody tr th:only-of-type {\n",
              "        vertical-align: middle;\n",
              "    }\n",
              "\n",
              "    .dataframe tbody tr th {\n",
              "        vertical-align: top;\n",
              "    }\n",
              "\n",
              "    .dataframe thead th {\n",
              "        text-align: right;\n",
              "    }\n",
              "</style>\n",
              "<table border=\"1\" class=\"dataframe\">\n",
              "  <thead>\n",
              "    <tr style=\"text-align: right;\">\n",
              "      <th></th>\n",
              "      <th>구별</th>\n",
              "      <th>인구수</th>\n",
              "      <th>내국인</th>\n",
              "      <th>외국인</th>\n",
              "      <th>고령자</th>\n",
              "    </tr>\n",
              "  </thead>\n",
              "  <tbody>\n",
              "    <tr>\n",
              "      <th>0</th>\n",
              "      <td>합계</td>\n",
              "      <td>9795426</td>\n",
              "      <td>9565990</td>\n",
              "      <td>229436</td>\n",
              "      <td>1576971</td>\n",
              "    </tr>\n",
              "    <tr>\n",
              "      <th>1</th>\n",
              "      <td>종로구</td>\n",
              "      <td>155106</td>\n",
              "      <td>146029</td>\n",
              "      <td>9077</td>\n",
              "      <td>27605</td>\n",
              "    </tr>\n",
              "    <tr>\n",
              "      <th>2</th>\n",
              "      <td>중구</td>\n",
              "      <td>132259</td>\n",
              "      <td>123016</td>\n",
              "      <td>9243</td>\n",
              "      <td>23980</td>\n",
              "    </tr>\n",
              "    <tr>\n",
              "      <th>3</th>\n",
              "      <td>용산구</td>\n",
              "      <td>240665</td>\n",
              "      <td>226378</td>\n",
              "      <td>14287</td>\n",
              "      <td>38884</td>\n",
              "    </tr>\n",
              "    <tr>\n",
              "      <th>4</th>\n",
              "      <td>성동구</td>\n",
              "      <td>295767</td>\n",
              "      <td>289162</td>\n",
              "      <td>6605</td>\n",
              "      <td>45591</td>\n",
              "    </tr>\n",
              "  </tbody>\n",
              "</table>\n",
              "</div>"
            ],
            "text/plain": [
              "    구별      인구수      내국인     외국인      고령자\n",
              "0   합계  9795426  9565990  229436  1576971\n",
              "1  종로구   155106   146029    9077    27605\n",
              "2   중구   132259   123016    9243    23980\n",
              "3  용산구   240665   226378   14287    38884\n",
              "4  성동구   295767   289162    6605    45591"
            ]
          },
          "metadata": {},
          "execution_count": 22
        }
      ]
    },
    {
      "cell_type": "code",
      "metadata": {
        "colab": {
          "base_uri": "https://localhost:8080/",
          "height": 204
        },
        "id": "Jt-RFTuPeMCc",
        "outputId": "9608ce5e-6fd8-4b71-c325-1e74f21b4340"
      },
      "source": [
        "pop.drop([0], inplace=True)\n",
        "pop['외국인비율'] = (pop.외국인/pop.인구수*100).round(2)\n",
        "pop['고령자비율'] = np.round(pop.고령자/pop.인구수*100, 2)\n",
        "pop.head()"
      ],
      "execution_count": 23,
      "outputs": [
        {
          "output_type": "execute_result",
          "data": {
            "text/html": [
              "<div>\n",
              "<style scoped>\n",
              "    .dataframe tbody tr th:only-of-type {\n",
              "        vertical-align: middle;\n",
              "    }\n",
              "\n",
              "    .dataframe tbody tr th {\n",
              "        vertical-align: top;\n",
              "    }\n",
              "\n",
              "    .dataframe thead th {\n",
              "        text-align: right;\n",
              "    }\n",
              "</style>\n",
              "<table border=\"1\" class=\"dataframe\">\n",
              "  <thead>\n",
              "    <tr style=\"text-align: right;\">\n",
              "      <th></th>\n",
              "      <th>구별</th>\n",
              "      <th>인구수</th>\n",
              "      <th>내국인</th>\n",
              "      <th>외국인</th>\n",
              "      <th>고령자</th>\n",
              "      <th>외국인비율</th>\n",
              "      <th>고령자비율</th>\n",
              "    </tr>\n",
              "  </thead>\n",
              "  <tbody>\n",
              "    <tr>\n",
              "      <th>1</th>\n",
              "      <td>종로구</td>\n",
              "      <td>155106</td>\n",
              "      <td>146029</td>\n",
              "      <td>9077</td>\n",
              "      <td>27605</td>\n",
              "      <td>5.85</td>\n",
              "      <td>17.80</td>\n",
              "    </tr>\n",
              "    <tr>\n",
              "      <th>2</th>\n",
              "      <td>중구</td>\n",
              "      <td>132259</td>\n",
              "      <td>123016</td>\n",
              "      <td>9243</td>\n",
              "      <td>23980</td>\n",
              "      <td>6.99</td>\n",
              "      <td>18.13</td>\n",
              "    </tr>\n",
              "    <tr>\n",
              "      <th>3</th>\n",
              "      <td>용산구</td>\n",
              "      <td>240665</td>\n",
              "      <td>226378</td>\n",
              "      <td>14287</td>\n",
              "      <td>38884</td>\n",
              "      <td>5.94</td>\n",
              "      <td>16.16</td>\n",
              "    </tr>\n",
              "    <tr>\n",
              "      <th>4</th>\n",
              "      <td>성동구</td>\n",
              "      <td>295767</td>\n",
              "      <td>289162</td>\n",
              "      <td>6605</td>\n",
              "      <td>45591</td>\n",
              "      <td>2.23</td>\n",
              "      <td>15.41</td>\n",
              "    </tr>\n",
              "    <tr>\n",
              "      <th>5</th>\n",
              "      <td>광진구</td>\n",
              "      <td>355306</td>\n",
              "      <td>342481</td>\n",
              "      <td>12825</td>\n",
              "      <td>50815</td>\n",
              "      <td>3.61</td>\n",
              "      <td>14.30</td>\n",
              "    </tr>\n",
              "  </tbody>\n",
              "</table>\n",
              "</div>"
            ],
            "text/plain": [
              "    구별     인구수     내국인    외국인    고령자  외국인비율  고령자비율\n",
              "1  종로구  155106  146029   9077  27605   5.85  17.80\n",
              "2   중구  132259  123016   9243  23980   6.99  18.13\n",
              "3  용산구  240665  226378  14287  38884   5.94  16.16\n",
              "4  성동구  295767  289162   6605  45591   2.23  15.41\n",
              "5  광진구  355306  342481  12825  50815   3.61  14.30"
            ]
          },
          "metadata": {},
          "execution_count": 23
        }
      ]
    },
    {
      "cell_type": "markdown",
      "metadata": {
        "id": "rIq8fzcTeO-a"
      },
      "source": [
        "## CCTV 데이터와 인구 데이터 합치고 분석하기"
      ]
    },
    {
      "cell_type": "code",
      "metadata": {
        "colab": {
          "base_uri": "https://localhost:8080/",
          "height": 235
        },
        "id": "gkqcMxvPeNvk",
        "outputId": "6c7e2dbe-9bba-4f47-9819-6e33d0f0d43b"
      },
      "source": [
        "df = pd.merge(cctv, pop)\n",
        "df.set_index('구별', inplace=True)\n",
        "df.head()"
      ],
      "execution_count": 24,
      "outputs": [
        {
          "output_type": "execute_result",
          "data": {
            "text/html": [
              "<div>\n",
              "<style scoped>\n",
              "    .dataframe tbody tr th:only-of-type {\n",
              "        vertical-align: middle;\n",
              "    }\n",
              "\n",
              "    .dataframe tbody tr th {\n",
              "        vertical-align: top;\n",
              "    }\n",
              "\n",
              "    .dataframe thead th {\n",
              "        text-align: right;\n",
              "    }\n",
              "</style>\n",
              "<table border=\"1\" class=\"dataframe\">\n",
              "  <thead>\n",
              "    <tr style=\"text-align: right;\">\n",
              "      <th></th>\n",
              "      <th>CCTV댓수</th>\n",
              "      <th>최근증가율</th>\n",
              "      <th>인구수</th>\n",
              "      <th>내국인</th>\n",
              "      <th>외국인</th>\n",
              "      <th>고령자</th>\n",
              "      <th>외국인비율</th>\n",
              "      <th>고령자비율</th>\n",
              "    </tr>\n",
              "    <tr>\n",
              "      <th>구별</th>\n",
              "      <th></th>\n",
              "      <th></th>\n",
              "      <th></th>\n",
              "      <th></th>\n",
              "      <th></th>\n",
              "      <th></th>\n",
              "      <th></th>\n",
              "      <th></th>\n",
              "    </tr>\n",
              "  </thead>\n",
              "  <tbody>\n",
              "    <tr>\n",
              "      <th>종로구</th>\n",
              "      <td>1772</td>\n",
              "      <td>20.49</td>\n",
              "      <td>155106</td>\n",
              "      <td>146029</td>\n",
              "      <td>9077</td>\n",
              "      <td>27605</td>\n",
              "      <td>5.85</td>\n",
              "      <td>17.80</td>\n",
              "    </tr>\n",
              "    <tr>\n",
              "      <th>중구</th>\n",
              "      <td>2333</td>\n",
              "      <td>78.98</td>\n",
              "      <td>132259</td>\n",
              "      <td>123016</td>\n",
              "      <td>9243</td>\n",
              "      <td>23980</td>\n",
              "      <td>6.99</td>\n",
              "      <td>18.13</td>\n",
              "    </tr>\n",
              "    <tr>\n",
              "      <th>용산구</th>\n",
              "      <td>2383</td>\n",
              "      <td>78.64</td>\n",
              "      <td>240665</td>\n",
              "      <td>226378</td>\n",
              "      <td>14287</td>\n",
              "      <td>38884</td>\n",
              "      <td>5.94</td>\n",
              "      <td>16.16</td>\n",
              "    </tr>\n",
              "    <tr>\n",
              "      <th>성동구</th>\n",
              "      <td>3602</td>\n",
              "      <td>46.13</td>\n",
              "      <td>295767</td>\n",
              "      <td>289162</td>\n",
              "      <td>6605</td>\n",
              "      <td>45591</td>\n",
              "      <td>2.23</td>\n",
              "      <td>15.41</td>\n",
              "    </tr>\n",
              "    <tr>\n",
              "      <th>광진구</th>\n",
              "      <td>2588</td>\n",
              "      <td>112.29</td>\n",
              "      <td>355306</td>\n",
              "      <td>342481</td>\n",
              "      <td>12825</td>\n",
              "      <td>50815</td>\n",
              "      <td>3.61</td>\n",
              "      <td>14.30</td>\n",
              "    </tr>\n",
              "  </tbody>\n",
              "</table>\n",
              "</div>"
            ],
            "text/plain": [
              "     CCTV댓수   최근증가율     인구수     내국인    외국인    고령자  외국인비율  고령자비율\n",
              "구별                                                             \n",
              "종로구    1772   20.49  155106  146029   9077  27605   5.85  17.80\n",
              "중구     2333   78.98  132259  123016   9243  23980   6.99  18.13\n",
              "용산구    2383   78.64  240665  226378  14287  38884   5.94  16.16\n",
              "성동구    3602   46.13  295767  289162   6605  45591   2.23  15.41\n",
              "광진구    2588  112.29  355306  342481  12825  50815   3.61  14.30"
            ]
          },
          "metadata": {},
          "execution_count": 24
        }
      ]
    },
    {
      "cell_type": "code",
      "metadata": {
        "colab": {
          "base_uri": "https://localhost:8080/"
        },
        "id": "W6k2vNGeeSXJ",
        "outputId": "19abd35c-0908-4749-a7a6-7e2a73d2c756"
      },
      "source": [
        "df.shape"
      ],
      "execution_count": 25,
      "outputs": [
        {
          "output_type": "execute_result",
          "data": {
            "text/plain": [
              "(25, 8)"
            ]
          },
          "metadata": {},
          "execution_count": 25
        }
      ]
    },
    {
      "cell_type": "markdown",
      "metadata": {
        "id": "mfp_7jjKeWIF"
      },
      "source": [
        "- 상관관계 분석"
      ]
    },
    {
      "cell_type": "code",
      "metadata": {
        "colab": {
          "base_uri": "https://localhost:8080/"
        },
        "id": "kDCNlEfyeURC",
        "outputId": "21df0206-a2ba-442e-8c25-7dfaaee9f624"
      },
      "source": [
        "# 고령자 비율과 CCTV 댓수\n",
        "np.corrcoef(df.고령자비율, df.CCTV댓수)"
      ],
      "execution_count": 26,
      "outputs": [
        {
          "output_type": "execute_result",
          "data": {
            "text/plain": [
              "array([[ 1.        , -0.39498052],\n",
              "       [-0.39498052,  1.        ]])"
            ]
          },
          "metadata": {},
          "execution_count": 26
        }
      ]
    },
    {
      "cell_type": "code",
      "metadata": {
        "colab": {
          "base_uri": "https://localhost:8080/"
        },
        "id": "ArN2MVyweess",
        "outputId": "727bcd32-b90d-487a-aeee-1f6f1854de46"
      },
      "source": [
        "# 외국인 비율과 CCTV 댓수\n",
        "np.corrcoef(df.외국인비율, df.CCTV댓수)"
      ],
      "execution_count": 27,
      "outputs": [
        {
          "output_type": "execute_result",
          "data": {
            "text/plain": [
              "array([[ 1.        , -0.17513977],\n",
              "       [-0.17513977,  1.        ]])"
            ]
          },
          "metadata": {},
          "execution_count": 27
        }
      ]
    },
    {
      "cell_type": "code",
      "metadata": {
        "colab": {
          "base_uri": "https://localhost:8080/"
        },
        "id": "Po0lW3dQekWq",
        "outputId": "ed14c282-a5cc-4d4f-a730-a071109cc494"
      },
      "source": [
        "# 인구수와 CCTV 댓수\n",
        "np.corrcoef(df.인구수, df.CCTV댓수)"
      ],
      "execution_count": 28,
      "outputs": [
        {
          "output_type": "execute_result",
          "data": {
            "text/plain": [
              "array([[1.        , 0.45609487],\n",
              "       [0.45609487, 1.        ]])"
            ]
          },
          "metadata": {},
          "execution_count": 28
        }
      ]
    },
    {
      "cell_type": "code",
      "metadata": {
        "colab": {
          "base_uri": "https://localhost:8080/",
          "height": 334
        },
        "id": "uICbqP6-epeC",
        "outputId": "ebf4b5aa-8854-460a-fcbc-c5b5273dce28"
      },
      "source": [
        "fig, axs = plt.subplots(figsize=(15,5), ncols=3, nrows=1)\n",
        "features = ['고령자비율','외국인비율','인구수']\n",
        "for i, feature in enumerate(features):\n",
        "    row, col = i//4, i%4\n",
        "    sns.regplot(x=feature, y='CCTV댓수', data=df, ax=axs[col])"
      ],
      "execution_count": 29,
      "outputs": [
        {
          "output_type": "display_data",
          "data": {
            "image/png": "[encoded data removed]",
            "text/plain": [
              "<Figure size 1080x360 with 3 Axes>"
            ]
          },
          "metadata": {
            "needs_background": "light"
          }
        }
      ]
    },
    {
      "cell_type": "markdown",
      "metadata": {
        "id": "hAXfDu0gesmX"
      },
      "source": [
        "## CCTV 현황 그래프로 분석하기"
      ]
    },
    {
      "cell_type": "code",
      "metadata": {
        "colab": {
          "base_uri": "https://localhost:8080/",
          "height": 498
        },
        "id": "OOQs97cuerlu",
        "outputId": "e481c140-1781-47ee-f0f0-b84bbeafe407"
      },
      "source": [
        "df.CCTV댓수.sort_values().plot(kind='barh', grid=True, figsize=(12,8), title='구별 CCTV 댓수')\n",
        "plt.show()"
      ],
      "execution_count": 30,
      "outputs": [
        {
          "output_type": "display_data",
          "data": {
            "image/png": "[encoded data removed]",
            "text/plain": [
              "<Figure size 864x576 with 1 Axes>"
            ]
          },
          "metadata": {
            "needs_background": "light"
          }
        }
      ]
    },
    {
      "cell_type": "code",
      "metadata": {
        "colab": {
          "base_uri": "https://localhost:8080/",
          "height": 498
        },
        "id": "IPi87NwFewwF",
        "outputId": "43020d6e-7415-4693-c298-8b1738080f00"
      },
      "source": [
        "# 인구대비 CCTV 비율\n",
        "df['cctv비율'] = (df.CCTV댓수 / df.인구수 * 100).round(2)\n",
        "df.cctv비율.sort_values().plot(kind='barh', grid=True, figsize=(12,8))\n",
        "plt.title('인구대비 CCTV 비율')\n",
        "plt.show()"
      ],
      "execution_count": 31,
      "outputs": [
        {
          "output_type": "display_data",
          "data": {
            "image/png": "[encoded data removed]",
            "text/plain": [
              "<Figure size 864x576 with 1 Axes>"
            ]
          },
          "metadata": {
            "needs_background": "light"
          }
        }
      ]
    },
    {
      "cell_type": "code",
      "metadata": {
        "colab": {
          "base_uri": "https://localhost:8080/",
          "height": 403
        },
        "id": "r4irOn8De0OL",
        "outputId": "b4230f68-ed71-4f36-affd-82dc9c51d0d0"
      },
      "source": [
        "# 인구수와 CCTV 댓수의 산점도\n",
        "plt.figure(figsize=(6,6))\n",
        "plt.scatter(df.인구수, df.CCTV댓수, s=50)\n",
        "plt.grid(True)\n",
        "plt.title('인구수와 CCTV 댓수의 산점도')\n",
        "plt.xlabel('인구수')\n",
        "plt.ylabel('CCTV')\n",
        "plt.show()"
      ],
      "execution_count": 32,
      "outputs": [
        {
          "output_type": "display_data",
          "data": {
            "image/png": "[encoded data removed]",
            "text/plain": [
              "<Figure size 432x432 with 1 Axes>"
            ]
          },
          "metadata": {
            "needs_background": "light"
          }
        }
      ]
    },
    {
      "cell_type": "code",
      "metadata": {
        "colab": {
          "base_uri": "https://localhost:8080/"
        },
        "id": "HCpijhHPe2Gl",
        "outputId": "97abd8ed-b204-4755-9419-9a391bfa875f"
      },
      "source": [
        "# 산점도 위에 상관관계를 나타내는 선 그리기\n",
        "fp1 = np.polyfit(df.인구수, df.CCTV댓수, 1)\n",
        "fp1"
      ],
      "execution_count": 33,
      "outputs": [
        {
          "output_type": "execute_result",
          "data": {
            "text/plain": [
              "array([3.85119765e-03, 1.57231514e+03])"
            ]
          },
          "metadata": {},
          "execution_count": 33
        }
      ]
    },
    {
      "cell_type": "code",
      "metadata": {
        "colab": {
          "base_uri": "https://localhost:8080/"
        },
        "id": "F0SsE6IYe37N",
        "outputId": "2bd7cedc-afd9-44b0-bf19-8b4240a3ce42"
      },
      "source": [
        "fx = np.array([100000, 700000])\n",
        "f1 = np.poly1d(fp1)\n",
        "fy = f1(fx)\n",
        "fy"
      ],
      "execution_count": 34,
      "outputs": [
        {
          "output_type": "execute_result",
          "data": {
            "text/plain": [
              "array([1957.43490106, 4268.1534916 ])"
            ]
          },
          "metadata": {},
          "execution_count": 34
        }
      ]
    },
    {
      "cell_type": "code",
      "metadata": {
        "colab": {
          "base_uri": "https://localhost:8080/",
          "height": 512
        },
        "id": "cgJyTnCje5a-",
        "outputId": "12e0989d-78c6-4d3d-e668-67f1a160546a"
      },
      "source": [
        "plt.figure(figsize=(8,8))\n",
        "plt.scatter(df.인구수, df.CCTV댓수, s=50)\n",
        "plt.plot(fx, fy, ls='dashed', lw=3, color='g')\n",
        "plt.grid(True)\n",
        "plt.title('인구수와 CCTV 댓수의 관계')\n",
        "plt.xlabel('인구수')\n",
        "plt.ylabel('CCTV')\n",
        "plt.show()"
      ],
      "execution_count": 35,
      "outputs": [
        {
          "output_type": "display_data",
          "data": {
            "image/png": "[encoded data removed]",
            "text/plain": [
              "<Figure size 576x576 with 1 Axes>"
            ]
          },
          "metadata": {
            "needs_background": "light"
          }
        }
      ]
    },
    {
      "cell_type": "code",
      "metadata": {
        "colab": {
          "base_uri": "https://localhost:8080/",
          "height": 235
        },
        "id": "cllzpknXe7Fl",
        "outputId": "38218afb-02be-45d2-90a8-72de66626364"
      },
      "source": [
        "df['오차'] = np.abs(df.CCTV댓수 - f1(df.인구수)).round(2)\n",
        "df_sort = df.sort_values('오차', ascending=False)\n",
        "df_sort.head()"
      ],
      "execution_count": 36,
      "outputs": [
        {
          "output_type": "execute_result",
          "data": {
            "text/html": [
              "<div>\n",
              "<style scoped>\n",
              "    .dataframe tbody tr th:only-of-type {\n",
              "        vertical-align: middle;\n",
              "    }\n",
              "\n",
              "    .dataframe tbody tr th {\n",
              "        vertical-align: top;\n",
              "    }\n",
              "\n",
              "    .dataframe thead th {\n",
              "        text-align: right;\n",
              "    }\n",
              "</style>\n",
              "<table border=\"1\" class=\"dataframe\">\n",
              "  <thead>\n",
              "    <tr style=\"text-align: right;\">\n",
              "      <th></th>\n",
              "      <th>CCTV댓수</th>\n",
              "      <th>최근증가율</th>\n",
              "      <th>인구수</th>\n",
              "      <th>내국인</th>\n",
              "      <th>외국인</th>\n",
              "      <th>고령자</th>\n",
              "      <th>외국인비율</th>\n",
              "      <th>고령자비율</th>\n",
              "      <th>cctv비율</th>\n",
              "      <th>오차</th>\n",
              "    </tr>\n",
              "    <tr>\n",
              "      <th>구별</th>\n",
              "      <th></th>\n",
              "      <th></th>\n",
              "      <th></th>\n",
              "      <th></th>\n",
              "      <th></th>\n",
              "      <th></th>\n",
              "      <th></th>\n",
              "      <th></th>\n",
              "      <th></th>\n",
              "      <th></th>\n",
              "    </tr>\n",
              "  </thead>\n",
              "  <tbody>\n",
              "    <tr>\n",
              "      <th>강남구</th>\n",
              "      <td>6502</td>\n",
              "      <td>61.64</td>\n",
              "      <td>536107</td>\n",
              "      <td>531375</td>\n",
              "      <td>4732</td>\n",
              "      <td>76184</td>\n",
              "      <td>0.88</td>\n",
              "      <td>14.21</td>\n",
              "      <td>1.21</td>\n",
              "      <td>2865.03</td>\n",
              "    </tr>\n",
              "    <tr>\n",
              "      <th>관악구</th>\n",
              "      <td>4942</td>\n",
              "      <td>49.91</td>\n",
              "      <td>502698</td>\n",
              "      <td>488800</td>\n",
              "      <td>13898</td>\n",
              "      <td>78647</td>\n",
              "      <td>2.76</td>\n",
              "      <td>15.64</td>\n",
              "      <td>0.98</td>\n",
              "      <td>1433.70</td>\n",
              "    </tr>\n",
              "    <tr>\n",
              "      <th>송파구</th>\n",
              "      <td>2854</td>\n",
              "      <td>203.19</td>\n",
              "      <td>664341</td>\n",
              "      <td>658670</td>\n",
              "      <td>5671</td>\n",
              "      <td>95164</td>\n",
              "      <td>0.85</td>\n",
              "      <td>14.32</td>\n",
              "      <td>0.43</td>\n",
              "      <td>1276.82</td>\n",
              "    </tr>\n",
              "    <tr>\n",
              "      <th>강서구</th>\n",
              "      <td>2560</td>\n",
              "      <td>78.53</td>\n",
              "      <td>582995</td>\n",
              "      <td>577519</td>\n",
              "      <td>5476</td>\n",
              "      <td>90404</td>\n",
              "      <td>0.94</td>\n",
              "      <td>15.51</td>\n",
              "      <td>0.44</td>\n",
              "      <td>1257.54</td>\n",
              "    </tr>\n",
              "    <tr>\n",
              "      <th>도봉구</th>\n",
              "      <td>1629</td>\n",
              "      <td>82.82</td>\n",
              "      <td>322419</td>\n",
              "      <td>320365</td>\n",
              "      <td>2054</td>\n",
              "      <td>62894</td>\n",
              "      <td>0.64</td>\n",
              "      <td>19.51</td>\n",
              "      <td>0.51</td>\n",
              "      <td>1185.01</td>\n",
              "    </tr>\n",
              "  </tbody>\n",
              "</table>\n",
              "</div>"
            ],
            "text/plain": [
              "     CCTV댓수   최근증가율     인구수     내국인  ...  외국인비율  고령자비율  cctv비율       오차\n",
              "구별                                   ...                               \n",
              "강남구    6502   61.64  536107  531375  ...   0.88  14.21    1.21  2865.03\n",
              "관악구    4942   49.91  502698  488800  ...   2.76  15.64    0.98  1433.70\n",
              "송파구    2854  203.19  664341  658670  ...   0.85  14.32    0.43  1276.82\n",
              "강서구    2560   78.53  582995  577519  ...   0.94  15.51    0.44  1257.54\n",
              "도봉구    1629   82.82  322419  320365  ...   0.64  19.51    0.51  1185.01\n",
              "\n",
              "[5 rows x 10 columns]"
            ]
          },
          "metadata": {},
          "execution_count": 36
        }
      ]
    },
    {
      "cell_type": "code",
      "metadata": {
        "colab": {
          "base_uri": "https://localhost:8080/",
          "height": 628
        },
        "id": "tsul4QXIe85B",
        "outputId": "c21c1d44-2dd4-4cb7-e1d5-82cfa7806eaa"
      },
      "source": [
        "plt.figure(figsize=(14,10))\n",
        "plt.scatter(df.인구수, df.CCTV댓수, c=df.오차, s=50)\n",
        "plt.plot(fx, fy, ls='dashed', lw=3, color='g')\n",
        "\n",
        "for i in range(10): \n",
        "    plt.text(df_sort.인구수[i]+9000, df_sort.CCTV댓수[i]-50,\n",
        "             df_sort.index[i], fontsize=15)\n",
        "\n",
        "plt.grid(True)\n",
        "plt.title('인구수와 CCTV 댓수의 관계', fontsize=20)\n",
        "plt.xlabel('인구수')\n",
        "plt.ylabel('CCTV')\n",
        "plt.colorbar()\n",
        "plt.show()"
      ],
      "execution_count": 37,
      "outputs": [
        {
          "output_type": "display_data",
          "data": {
            "image/png": "[encoded data removed]",
            "text/plain": [
              "<Figure size 1008x720 with 2 Axes>"
            ]
          },
          "metadata": {
            "needs_background": "light"
          }
        }
      ]
    },
    {
      "cell_type": "code",
      "metadata": {
        "id": "ta-b9PqLe-qc"
      },
      "source": [
        ""
      ],
      "execution_count": null,
      "outputs": []
    }
  ]
}